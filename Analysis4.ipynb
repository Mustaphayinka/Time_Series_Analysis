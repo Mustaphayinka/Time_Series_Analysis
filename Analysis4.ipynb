{
 "cells": [
  {
   "cell_type": "code",
   "execution_count": 1,
   "id": "extensive-casino",
   "metadata": {},
   "outputs": [],
   "source": [
    "import pandas as pd # Allows for further data manipulation and analysis\n",
    "import numpy as np # Provides ways to work with large multidimensional arrays\n",
    "from pandas_datareader import data as web # Reads stock data \n",
    "import matplotlib.pyplot as plt # Plotting\n",
    "import matplotlib.dates as mdates # Styling dates\n",
    "%matplotlib inline\n",
    "\n",
    "import datetime as dt # For defining dates\n",
    "import mplfinance as mpf # Matplotlib finance"
   ]
  },
  {
   "cell_type": "code",
   "execution_count": 2,
   "id": "checked-panic",
   "metadata": {},
   "outputs": [],
   "source": [
    "# Function that gets a dataframe by providing a ticker and starting date\n",
    "def save_to_csv_from_yahoo(ticker, syear, smonth, sday, eyear, emonth, eday):\n",
    "    \n",
    "    # Defines the time periods to use\n",
    "    start = dt.datetime(syear, smonth, sday)\n",
    "    end = dt.datetime(eyear, emonth, eday)\n",
    "    \n",
    "    # Reads data into a dataframe\n",
    "    df = web.DataReader(ticker, 'yahoo', start, end)\n",
    "    \n",
    "    # Save data to a CSV file\n",
    "    df.to_csv(\"/Users/Mustapha/Desktop/New_folder_(2)/Python4Finance-main/Python4Finance-main\" + ticker + '.csv')\n",
    "    return df"
   ]
  },
  {
   "cell_type": "code",
   "execution_count": 3,
   "id": "terminal-jumping",
   "metadata": {},
   "outputs": [],
   "source": [
    "# Reads a dataframe from the CSV file, changes index to date and returns it\n",
    "def get_df_from_csv(ticker):\n",
    "    # Try to get the file and if it doesn't exist issue a warning\n",
    "    try:\n",
    "        df = pd.read_csv(\"/Users/Mustapha/Desktop/New_folder_(2)/Python4Finance-main/Python4Finance-main\" + ticker + '.csv')\n",
    "    except FileNotFoundError:\n",
    "        print(\"File Doesn't Exist\")\n",
    "    else:\n",
    "        return df"
   ]
  },
  {
   "cell_type": "code",
   "execution_count": 4,
   "id": "responsible-formation",
   "metadata": {},
   "outputs": [],
   "source": [
    "# Add daily returns to dataframe\n",
    "# We calculate a percentage rate of return for each day to compare investments.\n",
    "# Simple Rate of Return = (End Price - Beginning Price) / Beginning Price OR (EP / BP) - 1\n",
    "\n",
    "# Shift provides the value from the previous day\n",
    "# NaN is displayed because there was no previous day price for the 1st calculation\n",
    "def add_daily_return_to_df(df, ticker):\n",
    "    df['daily_return'] = (df['Adj Close'] / df['Adj Close'].shift(1)) - 1\n",
    "    # Save data to a CSV file\n",
    "    # For Windows\n",
    "    # df.to_csv('C:/Users/derek/Documents/Python Finance/Python/' + ticker + '.csv')\n",
    "    # For MacOS\n",
    "    df.to_csv(\"/Users/Mustapha/Desktop/New_folder_(2)/Python4Finance-main/Python4Finance-main\" + ticker + '.csv')\n",
    "    return df  "
   ]
  },
  {
   "cell_type": "code",
   "execution_count": 5,
   "id": "improved-college",
   "metadata": {},
   "outputs": [],
   "source": [
    "# Returns total returns over time\n",
    "def get_return_defined_time(df, syear, smonth, sday, eyear, emonth, eday):\n",
    "    # Create string representations for the dates\n",
    "    start = f\"{syear}-{smonth}-{sday}\"\n",
    "    end = f\"{eyear}-{emonth}-{eday}\"\n",
    "    #df['Date'] = pd.to_datetime(df['Date'])\n",
    "    \n",
    "    # Use a mask to grab data between defined dates\n",
    "    mask = (df['Date'] >= start) & (df['Date'] <= end)\n",
    "    \n",
    "    # Get the mean of the column named daily return\n",
    "    daily_ret = df.loc[mask]['daily_return'].mean()\n",
    "    \n",
    "    # Get the number of days between 2 dates\n",
    "    df2 = df.loc[mask]\n",
    "    days = df2.shape[0]\n",
    "\n",
    "    # Return the total return between 2 dates\n",
    "    return (days * daily_ret)"
   ]
  },
  {
   "cell_type": "code",
   "execution_count": null,
   "id": "filled-transformation",
   "metadata": {},
   "outputs": [],
   "source": []
  },
  {
   "cell_type": "code",
   "execution_count": null,
   "id": "surrounded-genetics",
   "metadata": {},
   "outputs": [],
   "source": []
  },
  {
   "cell_type": "code",
   "execution_count": 6,
   "id": "automotive-durham",
   "metadata": {},
   "outputs": [],
   "source": [
    "# You get 4 percent return on amazon stock if you bought it on jan 1, 1 and sold it 2021, 1, 1"
   ]
  },
  {
   "cell_type": "code",
   "execution_count": 7,
   "id": "digital-playing",
   "metadata": {},
   "outputs": [],
   "source": [
    "# Receives a ticker and the date range for which to plot using matplotlib finance\n",
    "def mplfinance_plot(ticker, chart_type, syear, smonth, sday, eyear, emonth, eday):\n",
    "    # Create string representations for the dates\n",
    "    start = f\"{syear}-{smonth}-{sday}\"\n",
    "    end = f\"{eyear}-{emonth}-{eday}\"\n",
    "    \n",
    "    try:\n",
    "        df = pd.read_csv(\"/Users/Mustapha/Desktop/New_folder_(2)/Python4Finance-main/Python4Finance-main\" + ticker + '.csv',index_col=0,parse_dates=True)\n",
    "    except FileNotFoundError:\n",
    "        print(\"File Doesn't Exist\")\n",
    "    else:\n",
    "        \n",
    "        # Set data.index as DatetimeIndex\n",
    "        df.index = pd.DatetimeIndex(df['Date'])\n",
    "        \n",
    "        # Define to only use data between provided dates\n",
    "        df_sub = df.loc[start:end]\n",
    "        \n",
    "        # A candlestick chart demonstrates the daily open, high, low and closing price of a stock\n",
    "        mpf.plot(df_sub,type='candle')\n",
    "\n",
    "        # Plot price changes\n",
    "        mpf.plot(df_sub,type='line')\n",
    "\n",
    "        # Moving averages provide trend information (Average of previous 4 observations)\n",
    "        mpf.plot(df_sub,type='ohlc',mav=4)\n",
    "        \n",
    "        # Define a built in style\n",
    "        s = mpf.make_mpf_style(base_mpf_style='charles', rc={'font.size': 8})\n",
    "        # Pass in the defined style to the whole canvas\n",
    "        fig = mpf.figure(figsize=(12, 8), style=s) \n",
    "        # Candle stick chart subplot\n",
    "        ax = fig.add_subplot(2,1,1) \n",
    "        # Volume chart subplot\n",
    "        av = fig.add_subplot(2,1,2, sharex=ax)  \n",
    "\n",
    "        # You can plot multiple MAVs, volume, non-trading days\n",
    "        mpf.plot(df_sub,type=chart_type, mav=(3,5,7), ax=ax, volume=av, show_nontrading=True)"
   ]
  },
  {
   "cell_type": "code",
   "execution_count": 8,
   "id": "protected-hollywood",
   "metadata": {},
   "outputs": [],
   "source": [
    "# Simple price plot\n",
    "# Creates a simple price / date plot between dates\n",
    "def price_plot(ticker, syear, smonth, sday, eyear, emonth, eday):\n",
    "    # Create string representations for the dates\n",
    "    start = f\"{syear}-{smonth}-{sday}\"\n",
    "    end = f\"{eyear}-{emonth}-{eday}\"\n",
    "    \n",
    "    try:\n",
    "        # For Windows\n",
    "        # df = pd.read_csv('C:/Users/derek/Documents/Python Finance/Python/' + ticker + '.csv')\n",
    "        # For MacOS\n",
    "        df = pd.read_csv(\"/Users/Mustapha/Desktop/New_folder_(2)/Python4Finance-main/Python4Finance-main\" + ticker + '.csv')\n",
    "    except FileNotFoundError:\n",
    "        print(\"File Doesn't Exist\")\n",
    "    else:\n",
    "        \n",
    "        # Set data.index as DatetimeIndex\n",
    "        df.index = pd.DatetimeIndex(df['Date'])\n",
    "        \n",
    "        # Define to only use data between provided dates\n",
    "        df_sub = df.loc[start:end]\n",
    "        \n",
    "        # Convert to Numpy array\n",
    "        df_np = df_sub.to_numpy()\n",
    "        \n",
    "        # Get adjusted close data from the 5th column\n",
    "        np_adj_close = df_np[:,5]\n",
    "        \n",
    "        # Get date from the 1st\n",
    "        date_arr = df_np[:,1]\n",
    "        \n",
    "        # Defines area taken up by the plot\n",
    "        fig = plt.figure(figsize=(12,8),dpi=100)\n",
    "        axes = fig.add_axes([0,0,1,1])\n",
    "        \n",
    "        # Define the plot line color as navy\n",
    "        axes.plot(date_arr, np_adj_close, color='navy')\n",
    "        \n",
    "        # Set max ticks on the x axis\n",
    "        axes.xaxis.set_major_locator(plt.MaxNLocator(8))\n",
    "        \n",
    "        # Add a grid, color, dashes(5pts 1 pt dashes separated by 2pt space)\n",
    "        axes.grid(True, color='0.6', dashes=(5, 2, 1, 2))\n",
    "        \n",
    "        # Set grid background color\n",
    "        axes.set_facecolor('#FAEBD7')"
   ]
  },
  {
   "cell_type": "code",
   "execution_count": null,
   "id": "lucky-partner",
   "metadata": {},
   "outputs": [],
   "source": []
  },
  {
   "cell_type": "code",
   "execution_count": 9,
   "id": "figured-limit",
   "metadata": {},
   "outputs": [],
   "source": [
    "# Download multiple stocks\n",
    "def download_multiple_stocks(syear, smonth, sday, eyear, emonth, eday, *args):\n",
    "    for x in args:\n",
    "        save_to_csv_from_yahoo(x, syear, smonth, sday, eyear, emonth, eday)"
   ]
  },
  {
   "cell_type": "code",
   "execution_count": null,
   "id": "essential-quarterly",
   "metadata": {},
   "outputs": [],
   "source": []
  },
  {
   "cell_type": "code",
   "execution_count": 10,
   "id": "quarterly-worth",
   "metadata": {},
   "outputs": [],
   "source": [
    "# Merge multiple stocks in one dataframe by column name\n",
    "def merge_df_by_column_name(col_name, syear, smonth, sday, eyear, emonth, eday, *tickers):\n",
    "    # Will hold data for all dataframes with the same column name\n",
    "    mult_df = pd.DataFrame()\n",
    "    \n",
    "    start = f\"{syear}-{smonth}-{sday}\"\n",
    "    end = f\"{eyear}-{emonth}-{eday}\"\n",
    "    \n",
    "    for x in tickers:\n",
    "        mult_df[x] = web.DataReader(x, 'yahoo', start, end)[col_name]\n",
    "        \n",
    "    return mult_df"
   ]
  },
  {
   "cell_type": "code",
   "execution_count": 11,
   "id": "coated-sustainability",
   "metadata": {},
   "outputs": [],
   "source": [
    "# Get changing value of investment using multiple stocks\n",
    "def plot_return_mult_stocks(investment, stock_df):\n",
    "    (stock_df / stock_df.iloc[0] * investment).plot(figsize = (15,6))"
   ]
  },
  {
   "cell_type": "code",
   "execution_count": null,
   "id": "presidential-cinema",
   "metadata": {},
   "outputs": [],
   "source": []
  },
  {
   "cell_type": "code",
   "execution_count": 12,
   "id": "incorporated-concentration",
   "metadata": {},
   "outputs": [],
   "source": [
    "# Receives the dataframe with the Adj Close data along with the stock ticker\n",
    "# Returns the mean and standard deviation associated with the ticker\n",
    "def get_stock_mean_sd(stock_df, ticker):\n",
    "    return stock_df[ticker].mean(), stock_df[ticker].std()"
   ]
  },
  {
   "cell_type": "code",
   "execution_count": 13,
   "id": "satisfactory-envelope",
   "metadata": {},
   "outputs": [],
   "source": [
    "# Receives the dataframe with the stock ticker as the column name and\n",
    "# the Adj Close values as the column data and returns the mean and \n",
    "# standard deviation\n",
    "def get_mult_stock_mean_sd(stock_df):\n",
    "    for stock in stock_df:\n",
    "        mean, sd = get_stock_mean_sd(stock_df, stock)\n",
    "        cov = sd / mean\n",
    "        print(\"Stock: {:4} Mean: {:7.2f} Standard deviation: {:2.2f}\".format(stock, mean, sd))\n",
    "        print(\"Coefficient of Variation: {}\\n\".format(cov))"
   ]
  },
  {
   "cell_type": "code",
   "execution_count": null,
   "id": "middle-consequence",
   "metadata": {},
   "outputs": [],
   "source": []
  },
  {
   "cell_type": "code",
   "execution_count": 16,
   "id": "entire-gamma",
   "metadata": {},
   "outputs": [
    {
     "name": "stdout",
     "output_type": "stream",
     "text": [
      "Total Return -0.3023448736293357\n",
      "Stock: UDMY Mean:   23.94 Standard deviation: 4.56\n",
      "Coefficient of Variation: 0.19039816624618833\n",
      "\n",
      "Stock: AVT  Mean:   38.57 Standard deviation: 1.23\n",
      "Coefficient of Variation: 0.031827233101938496\n",
      "\n"
     ]
    },
    {
     "data": {
      "image/png": "[encoded data removed]",
      "text/plain": [
       "<Figure size 1080x432 with 1 Axes>"
      ]
     },
     "metadata": {
      "needs_background": "light"
     },
     "output_type": "display_data"
    }
   ],
   "source": [
    "# Testing the function\n",
    "udmy= save_to_csv_from_yahoo('UDMY', 2021, 1, 1, 2022, 1, 1)\n",
    "\n",
    "udmy = get_df_from_csv('udmy')\n",
    "\n",
    "add_daily_return_to_df(udmy, 'UDMY')\n",
    "# udmy\n",
    "\n",
    "tot_ret = get_return_defined_time(udmy, 2021, 1, 1, 2022, 1, 1)\n",
    "print('Total Return', tot_ret)\n",
    "\n",
    "# mplfinance_plot('AMZN','ohlc',2020, 1, 1, 2021, 1, 1)\n",
    "# price_plot('AMZN',2020, 1, 1, 2021, 1, 1)\n",
    "\n",
    "# Download multiple stocks\n",
    "# tickers = ['UDMY', 'AVT']\n",
    "# download_multiple_stocks(2021, 1, 1, 2022, 1, 1, *tickers)\n",
    "\n",
    "# Merge dataframes from multiple stocks using the same column name\n",
    "tickers = ['UDMY', 'AVT']\n",
    "mult_df = merge_df_by_column_name('Adj Close', 2021, 1, 1, 2022, 1, 1, *tickers)\n",
    "mult_df.tail()\n",
    "\n",
    "# Plots the amount of returns you would have if you had invested 100 USD in each of them\n",
    "plot_return_mult_stocks(100, mult_df)\n",
    "\n",
    "get_mult_stock_mean_sd(mult_df)"
   ]
  },
  {
   "cell_type": "code",
   "execution_count": null,
   "id": "stylish-piano",
   "metadata": {},
   "outputs": [],
   "source": [
    "# From the above, we find out that if 100USD was invested in both UDMY and AVT,\n",
    "# you would slightly be above your initial investment for AVT stock\n",
    "# While UDMY stocks value will below 20% of the initial investment\n",
    "# Also we see that AVT  stock has the least variability"
   ]
  },
  {
   "cell_type": "code",
   "execution_count": null,
   "id": "blond-copying",
   "metadata": {},
   "outputs": [],
   "source": []
  }
 ],
 "metadata": {
  "kernelspec": {
   "display_name": "Python 3",
   "language": "python",
   "name": "python3"
  },
  "language_info": {
   "codemirror_mode": {
    "name": "ipython",
    "version": 3
   },
   "file_extension": ".py",
   "mimetype": "text/x-python",
   "name": "python",
   "nbconvert_exporter": "python",
   "pygments_lexer": "ipython3",
   "version": "3.8.8"
  }
 },
 "nbformat": 4,
 "nbformat_minor": 5
}
