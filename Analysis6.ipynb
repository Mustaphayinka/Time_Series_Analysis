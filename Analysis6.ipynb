{
 "cells": [
  {
   "cell_type": "code",
   "execution_count": 1,
   "id": "excited-trinidad",
   "metadata": {},
   "outputs": [],
   "source": [
    "# Provides ways to work with large multidimensional arrays\n",
    "import numpy as np \n",
    "# Allows for further data manipulation and analysis\n",
    "import pandas as pd\n",
    "from pandas_datareader import data as web # Reads stock data \n",
    "import matplotlib.pyplot as plt # Plotting\n",
    "import matplotlib.dates as mdates # Styling dates\n",
    "%matplotlib inline\n",
    "\n",
    "import datetime as dt # For defining dates\n",
    "import mplfinance as mpf # Matplotlib finance\n",
    "\n",
    "import time\n",
    "\n",
    "# Used to get data from a directory\n",
    "import os\n",
    "from os import listdir\n",
    "from os.path import isfile, join"
   ]
  },
  {
   "cell_type": "code",
   "execution_count": 39,
   "id": "cardiovascular-conducting",
   "metadata": {},
   "outputs": [],
   "source": [
    "# Dates and other constants\n",
    "# Define path to files\n",
    "# For MacOS\n",
    "PATH = \"/Users/Mustapha/Desktop/New_folder_(2)/Tsa_practice/stocks/Stock_list/\"\n",
    "PATH2 = \"/Users/Mustapha/Desktop/New_folder_(2)/Tsa_practice/stocks/Stock_list/stocklist_updated/\"\n",
    "\n",
    "# For Windows\n",
    "# PATH = \"D:/Python for Finance/Stocks/\"\n",
    "\n",
    "# Start date defaults\n",
    "S_YEAR = 2021\n",
    "S_MONTH = 1\n",
    "S_DAY = 31\n",
    "S_DATE_STR = \"2021-01-01\"\n",
    "S_DATE_DATETIME = dt.datetime(S_YEAR, S_MONTH, S_DAY)\n",
    "\n",
    "# End date defaults\n",
    "E_YEAR = 2022\n",
    "E_MONTH = 7\n",
    "E_DAY = 1\n",
    "E_DATE_STR = \"2022-01-01\"\n",
    "E_DATE_DATETIME = dt.datetime(E_YEAR, E_MONTH, E_DAY)"
   ]
  },
  {
   "cell_type": "code",
   "execution_count": 16,
   "id": "destroyed-mining",
   "metadata": {},
   "outputs": [],
   "source": [
    "# Function that gets a dataframe by providing a ticker and starting date\n",
    "# saves the data downloaded as csv from yahoo\n",
    "def save_to_csv_from_yahoo(ticker, S_YEAR, S_MONTH, S_DAY, E_YEAR, E_MONTH, E_DAY):\n",
    "    \n",
    "    # Defines the time periods to use\n",
    "    start = dt.datetime(S_YEAR, S_MONTH, S_DAY)\n",
    "    end = dt.datetime( E_YEAR, E_MONTH, E_DAY)\n",
    "    \n",
    "    # Reads data into a dataframe\n",
    "    df = web.DataReader(ticker, 'yahoo', start, end)['Adj Close']\n",
    "    \n",
    "    # Save data to a CSV file\n",
    "    # For Windows\n",
    "    # df.to_csv('C:/Users/derek/Documents/Python Finance/Python/' + ticker + '.csv')\n",
    "    # For MacOS\n",
    "    df.to_csv(\"/Users/Mustapha/Desktop/New_folder_(2)/Tsa_practice/stocks/Stock_list/\" + ticker + '.csv')\n",
    "    return df"
   ]
  },
  {
   "cell_type": "code",
   "execution_count": 27,
   "id": "standing-commons",
   "metadata": {},
   "outputs": [],
   "source": [
    "# Reads a dataframe from the CSV file, changes index to date and returns it\n",
    "def get_df_from_csv(ticker):\n",
    "    \n",
    "    # Try to get the file and if it doesn't exist issue a warning\n",
    "    try:\n",
    "        df = pd.read_csv(PATH + ticker + '.csv')\n",
    "    except FileNotFoundError:\n",
    "        print(\"File Doesn't Exist\")\n",
    "    else:\n",
    "        return df"
   ]
  },
  {
   "cell_type": "code",
   "execution_count": 17,
   "id": "roman-intro",
   "metadata": {},
   "outputs": [],
   "source": [
    "def download_multiple_stocks(S_YEAR, S_MONTH, S_DAY, E_YEAR, E_MONTH, E_DAY, *args):\n",
    "    for x in args:\n",
    "        save_to_csv_from_yahoo(x, S_YEAR, S_MONTH, S_DAY, E_YEAR, E_MONTH, E_DAY)"
   ]
  },
  {
   "cell_type": "code",
   "execution_count": 18,
   "id": "shaped-adjustment",
   "metadata": {},
   "outputs": [],
   "source": [
    "# Stocks downloaded \n",
    "# JNJ ; Johnson and Johnson\n",
    "# AVT ; Avnet\n",
    "# TSLA ; Tesla\n",
    "# VZ ; Verizon Communication\n",
    "# KMB ; Kimberly Clark\n",
    "\n",
    "# args = [\"JNJ\", \"AVT\", \"TSLA\", \"VZ\", \"KMB\"]\n",
    "# mult_df = download_multiple_stocks(2021, 1, 1, 2022, 7, 1, *tickers)\n",
    "# Download completed and saved in path provided"
   ]
  },
  {
   "cell_type": "code",
   "execution_count": null,
   "id": "premier-psychiatry",
   "metadata": {},
   "outputs": [],
   "source": []
  },
  {
   "cell_type": "code",
   "execution_count": 29,
   "id": "variable-obligation",
   "metadata": {},
   "outputs": [],
   "source": [
    "# Add daily returns to dataframe\n",
    "# We calculate a percentage rate of return for each day to compare investments.\n",
    "# Simple Rate of Return = (End Price - Beginning Price) / Beginning Price OR (EP / BP) - 1\n",
    "\n",
    "# Shift provides the value from the previous day\n",
    "# NaN is displayed because there was no previous day price for the 1st calculation\n",
    "def add_daily_return_to_df(df, ticker):\n",
    "    df['daily_return'] = (df['Adj Close'] / df['Adj Close'].shift(1)) - 1\n",
    "    # Save data to a CSV file\n",
    "    df.to_csv(PATH2 + ticker + '.csv')\n",
    "    return df  "
   ]
  },
  {
   "cell_type": "code",
   "execution_count": 22,
   "id": "endangered-toddler",
   "metadata": {},
   "outputs": [],
   "source": [
    "def delete_unnamed_cols(df):\n",
    "    df = df.loc[:, ~df.columns.str.contains('^Unnamed')]\n",
    "    return df"
   ]
  },
  {
   "cell_type": "code",
   "execution_count": 30,
   "id": "wired-think",
   "metadata": {},
   "outputs": [],
   "source": [
    "def save_dataframe_to_csv(df, ticker):\n",
    "    df.to_csv(PATH2 + ticker + '.csv')"
   ]
  },
  {
   "cell_type": "code",
   "execution_count": 124,
   "id": "cutting-supplier",
   "metadata": {},
   "outputs": [
    {
     "data": {
      "text/html": [
       "<div>\n",
       "<style scoped>\n",
       "    .dataframe tbody tr th:only-of-type {\n",
       "        vertical-align: middle;\n",
       "    }\n",
       "\n",
       "    .dataframe tbody tr th {\n",
       "        vertical-align: top;\n",
       "    }\n",
       "\n",
       "    .dataframe thead th {\n",
       "        text-align: right;\n",
       "    }\n",
       "</style>\n",
       "<table border=\"1\" class=\"dataframe\">\n",
       "  <thead>\n",
       "    <tr style=\"text-align: right;\">\n",
       "      <th></th>\n",
       "      <th>Date</th>\n",
       "      <th>Adj Close</th>\n",
       "    </tr>\n",
       "  </thead>\n",
       "  <tbody>\n",
       "    <tr>\n",
       "      <th>0</th>\n",
       "      <td>2021-01-04</td>\n",
       "      <td>729.770020</td>\n",
       "    </tr>\n",
       "    <tr>\n",
       "      <th>1</th>\n",
       "      <td>2021-01-05</td>\n",
       "      <td>735.109985</td>\n",
       "    </tr>\n",
       "    <tr>\n",
       "      <th>2</th>\n",
       "      <td>2021-01-06</td>\n",
       "      <td>755.979980</td>\n",
       "    </tr>\n",
       "    <tr>\n",
       "      <th>3</th>\n",
       "      <td>2021-01-07</td>\n",
       "      <td>816.039978</td>\n",
       "    </tr>\n",
       "    <tr>\n",
       "      <th>4</th>\n",
       "      <td>2021-01-08</td>\n",
       "      <td>880.020020</td>\n",
       "    </tr>\n",
       "    <tr>\n",
       "      <th>...</th>\n",
       "      <td>...</td>\n",
       "      <td>...</td>\n",
       "    </tr>\n",
       "    <tr>\n",
       "      <th>372</th>\n",
       "      <td>2022-06-27</td>\n",
       "      <td>734.760010</td>\n",
       "    </tr>\n",
       "    <tr>\n",
       "      <th>373</th>\n",
       "      <td>2022-06-28</td>\n",
       "      <td>697.989990</td>\n",
       "    </tr>\n",
       "    <tr>\n",
       "      <th>374</th>\n",
       "      <td>2022-06-29</td>\n",
       "      <td>685.469971</td>\n",
       "    </tr>\n",
       "    <tr>\n",
       "      <th>375</th>\n",
       "      <td>2022-06-30</td>\n",
       "      <td>673.419983</td>\n",
       "    </tr>\n",
       "    <tr>\n",
       "      <th>376</th>\n",
       "      <td>2022-07-01</td>\n",
       "      <td>681.789978</td>\n",
       "    </tr>\n",
       "  </tbody>\n",
       "</table>\n",
       "<p>377 rows × 2 columns</p>\n",
       "</div>"
      ],
      "text/plain": [
       "           Date   Adj Close\n",
       "0    2021-01-04  729.770020\n",
       "1    2021-01-05  735.109985\n",
       "2    2021-01-06  755.979980\n",
       "3    2021-01-07  816.039978\n",
       "4    2021-01-08  880.020020\n",
       "..          ...         ...\n",
       "372  2022-06-27  734.760010\n",
       "373  2022-06-28  697.989990\n",
       "374  2022-06-29  685.469971\n",
       "375  2022-06-30  673.419983\n",
       "376  2022-07-01  681.789978\n",
       "\n",
       "[377 rows x 2 columns]"
      ]
     },
     "execution_count": 124,
     "metadata": {},
     "output_type": "execute_result"
    }
   ],
   "source": [
    "test = get_df_from_csv('TSLA')"
   ]
  },
  {
   "cell_type": "code",
   "execution_count": 40,
   "id": "engaging-cattle",
   "metadata": {},
   "outputs": [
    {
     "name": "stdout",
     "output_type": "stream",
     "text": [
      "Working on : JNJ\n",
      "Completed\n",
      "Working on : AVT\n",
      "Completed\n",
      "Working on : TSLA\n",
      "Completed\n",
      "Working on : VZ\n",
      "Completed\n",
      "Working on : KMB\n",
      "Completed\n"
     ]
    }
   ],
   "source": [
    "for arg in args:\n",
    "    print('Working on :', arg)\n",
    "    print('Completed')\n",
    "    # Get a dataframe for that ticker\n",
    "    stock_df = get_df_from_csv(arg)\n",
    "    \n",
    "    # Add daily return to this dataframe\n",
    "    add_daily_return_to_df(stock_df, arg)\n",
    "    \n",
    "    # Delete unnamed columns in dataframe\n",
    "    stock_df = delete_unnamed_cols(stock_df)\n",
    "    \n",
    "    # Save cleaned dataframe to csv\n",
    "    save_dataframe_to_csv(stock_df, arg)"
   ]
  },
  {
   "cell_type": "code",
   "execution_count": 51,
   "id": "detected-collective",
   "metadata": {},
   "outputs": [],
   "source": [
    "# Reads a dataframe from the CSV file, changes index to date and returns it\n",
    "def get_df_from_csv_2(ticker):\n",
    "    # Try to get the file and if it doesn't exist issue a warning\n",
    "    try:\n",
    "        df = pd.read_csv(\"/Users/Mustapha/Desktop/New_folder_(2)/Tsa_practice/stocks/Stock_list/stocklist_updated/\" + ticker + '.csv')    \n",
    "    except FileNotFoundError:\n",
    "        print(\"File Doesn't Exist\")\n",
    "    else:\n",
    "        return df\n",
    "    \n",
    "    "
   ]
  },
  {
   "cell_type": "code",
   "execution_count": 73,
   "id": "limiting-vinyl",
   "metadata": {},
   "outputs": [],
   "source": [
    "def merge_df_by_column_name(col_name, S_YEAR, S_MONTH, S_DAY, E_YEAR, E_MONTH, E_DAY, *tickers):\n",
    "    # Will hold data for all dataframes with the same column name\n",
    "    mult_df = pd.DataFrame()\n",
    "    \n",
    "    start = f\"{S_YEAR}-{S_MONTH}-{S_DAY}\"\n",
    "    end = f\"{E_YEAR}-{E_MONTH}-{E_DAY}\"\n",
    "    \n",
    "    for x in tickers:\n",
    "        df = get_df_from_csv_2(x)\n",
    "        df['Date'] = pd.to_datetime(df['Date'])\n",
    "        # Use a mask to grab data between defined dates\n",
    "        mask = (df['Date'] >= start) & (df['Date'] <= end)\n",
    "        mult_df[x] = df.loc[mask][col_name]\n",
    "        \n",
    "    return mult_df"
   ]
  },
  {
   "cell_type": "code",
   "execution_count": null,
   "id": "deluxe-flash",
   "metadata": {},
   "outputs": [],
   "source": []
  },
  {
   "cell_type": "code",
   "execution_count": 74,
   "id": "exempt-radical",
   "metadata": {},
   "outputs": [],
   "source": [
    "portfolio_list = [\"JNJ\", \"AVT\", \"TSLA\", \"VZ\", \"KMB\"]"
   ]
  },
  {
   "cell_type": "code",
   "execution_count": 121,
   "id": "compliant-aruba",
   "metadata": {},
   "outputs": [
    {
     "data": {
      "text/html": [
       "<div>\n",
       "<style scoped>\n",
       "    .dataframe tbody tr th:only-of-type {\n",
       "        vertical-align: middle;\n",
       "    }\n",
       "\n",
       "    .dataframe tbody tr th {\n",
       "        vertical-align: top;\n",
       "    }\n",
       "\n",
       "    .dataframe thead th {\n",
       "        text-align: right;\n",
       "    }\n",
       "</style>\n",
       "<table border=\"1\" class=\"dataframe\">\n",
       "  <thead>\n",
       "    <tr style=\"text-align: right;\">\n",
       "      <th></th>\n",
       "      <th>JNJ</th>\n",
       "      <th>AVT</th>\n",
       "      <th>TSLA</th>\n",
       "      <th>VZ</th>\n",
       "      <th>KMB</th>\n",
       "    </tr>\n",
       "  </thead>\n",
       "  <tbody>\n",
       "    <tr>\n",
       "      <th>JNJ</th>\n",
       "      <td>1.000000</td>\n",
       "      <td>0.158157</td>\n",
       "      <td>0.008618</td>\n",
       "      <td>0.375776</td>\n",
       "      <td>0.441621</td>\n",
       "    </tr>\n",
       "    <tr>\n",
       "      <th>AVT</th>\n",
       "      <td>0.158157</td>\n",
       "      <td>1.000000</td>\n",
       "      <td>0.323848</td>\n",
       "      <td>0.128724</td>\n",
       "      <td>0.050785</td>\n",
       "    </tr>\n",
       "    <tr>\n",
       "      <th>TSLA</th>\n",
       "      <td>0.008618</td>\n",
       "      <td>0.323848</td>\n",
       "      <td>1.000000</td>\n",
       "      <td>-0.048070</td>\n",
       "      <td>-0.045542</td>\n",
       "    </tr>\n",
       "    <tr>\n",
       "      <th>VZ</th>\n",
       "      <td>0.375776</td>\n",
       "      <td>0.128724</td>\n",
       "      <td>-0.048070</td>\n",
       "      <td>1.000000</td>\n",
       "      <td>0.281687</td>\n",
       "    </tr>\n",
       "    <tr>\n",
       "      <th>KMB</th>\n",
       "      <td>0.441621</td>\n",
       "      <td>0.050785</td>\n",
       "      <td>-0.045542</td>\n",
       "      <td>0.281687</td>\n",
       "      <td>1.000000</td>\n",
       "    </tr>\n",
       "  </tbody>\n",
       "</table>\n",
       "</div>"
      ],
      "text/plain": [
       "           JNJ       AVT      TSLA        VZ       KMB\n",
       "JNJ   1.000000  0.158157  0.008618  0.375776  0.441621\n",
       "AVT   0.158157  1.000000  0.323848  0.128724  0.050785\n",
       "TSLA  0.008618  0.323848  1.000000 -0.048070 -0.045542\n",
       "VZ    0.375776  0.128724 -0.048070  1.000000  0.281687\n",
       "KMB   0.441621  0.050785 -0.045542  0.281687  1.000000"
      ]
     },
     "execution_count": 121,
     "metadata": {},
     "output_type": "execute_result"
    }
   ],
   "source": [
    "multiple_df = merge_df_by_column_name('daily_return',  2021, 1, 1, 2022, 7, 1, *portfolio_list)\n",
    "# multiple_df\n",
    "multiple_df.corr() # correlation\n"
   ]
  },
  {
   "cell_type": "code",
   "execution_count": 77,
   "id": "comfortable-testimony",
   "metadata": {},
   "outputs": [
    {
     "name": "stdout",
     "output_type": "stream",
     "text": [
      "The total number of days present in the dataframe is 377\n"
     ]
    }
   ],
   "source": [
    "# Get the number of samples\n",
    "days = len(multiple_df.index)\n",
    "print('The total number of days present in the dataframe is', days)"
   ]
  },
  {
   "cell_type": "code",
   "execution_count": 78,
   "id": "expressed-mystery",
   "metadata": {},
   "outputs": [],
   "source": [
    "def get_stock_price_on_date(ticker, date):\n",
    "    df = get_df_from_csv_2(ticker)\n",
    "    df = df.set_index(['Date'])\n",
    "    return df.loc[date,'Adj Close']"
   ]
  },
  {
   "cell_type": "code",
   "execution_count": 82,
   "id": "confirmed-vacuum",
   "metadata": {},
   "outputs": [
    {
     "data": {
      "text/plain": [
       "923.3200073242188"
      ]
     },
     "execution_count": 82,
     "metadata": {},
     "output_type": "execute_result"
    }
   ],
   "source": [
    "get_stock_price_on_date('TSLA', '2022-02-04')"
   ]
  },
  {
   "cell_type": "code",
   "execution_count": 95,
   "id": "accurate-raleigh",
   "metadata": {},
   "outputs": [
    {
     "name": "stdout",
     "output_type": "stream",
     "text": [
      "JNJ $ 150.71075439453125\n",
      "AVT $ 34.1702995300293\n",
      "TSLA $ 729.77001953125\n",
      "VZ $ 54.27604293823242\n",
      "KMB $ 126.65752410888672\n"
     ]
    },
    {
     "data": {
      "text/plain": [
       "1095.58"
      ]
     },
     "execution_count": 95,
     "metadata": {},
     "output_type": "execute_result"
    }
   ],
   "source": [
    "# 01-04-2021 is the 1st date in 2021\n",
    "print(\"JNJ $\", get_stock_price_on_date('JNJ', '2021-01-04')) # 150.7\n",
    "print(\"AVT $\", get_stock_price_on_date('AVT', '2021-01-04')) # 34.17\n",
    "print(\"TSLA $\", get_stock_price_on_date('TSLA', '2021-01-04')) # 729.77\n",
    "print(\"VZ $\", get_stock_price_on_date('VZ', '2021-01-04')) # 1 54.28\n",
    "print(\"KMB $\", get_stock_price_on_date('KMB', '2021-01-04')) # 1 126.66\n",
    "\n",
    "\n",
    "# Total Investment\n",
    "tot_inv = 150.7 + 34.17 + 729.77 + 54.28 + 126.66\n",
    "tot_inv"
   ]
  },
  {
   "cell_type": "code",
   "execution_count": 96,
   "id": "immune-resistance",
   "metadata": {},
   "outputs": [],
   "source": [
    "# Returns portfolio weight\n",
    "def get_port_weight(price, total):\n",
    "    return price / total"
   ]
  },
  {
   "cell_type": "code",
   "execution_count": 97,
   "id": "broken-vacuum",
   "metadata": {},
   "outputs": [],
   "source": [
    "jnj_w = get_port_weight(150.71, 1095.58)\n",
    "avt_w = get_port_weight(34.17, 1095.58)\n",
    "tsla_w = get_port_weight(729.77, 1095.58)\n",
    "vz_w = get_port_weight(54.28, 1095.58)\n",
    "kmb_w = get_port_weight(126.66, 1095.58)"
   ]
  },
  {
   "cell_type": "code",
   "execution_count": 111,
   "id": "judicial-technology",
   "metadata": {},
   "outputs": [
    {
     "data": {
      "text/plain": [
       "1.0000091275853886"
      ]
     },
     "execution_count": 111,
     "metadata": {},
     "output_type": "execute_result"
    }
   ],
   "source": [
    "weights = np.array([jnj_w, avt_w, tsla_w, vz_w, kmb_w])\n",
    "# weights\n",
    "weights.sum() #The sum of porfolio weights is equal to 1"
   ]
  },
  {
   "cell_type": "code",
   "execution_count": 108,
   "id": "cubic-durham",
   "metadata": {},
   "outputs": [
    {
     "name": "stdout",
     "output_type": "stream",
     "text": [
      "Portfolio Covariance : 0.25409701281821917\n",
      "JNJ Var : 0.039089631998379254\n",
      "AVT Var : 0.13059020923873857\n",
      "TSLA Var : 0.5612519834029792\n",
      "VZ Var : 0.04289636808847164\n",
      "KMB Var : 0.05884018709666931\n"
     ]
    }
   ],
   "source": [
    "port_var = np.dot(weights, np.dot(multiple_df.cov() * 377, weights))\n",
    "print(\"Portfolio Covariance :\", port_var)\n",
    "print(\"JNJ Var :\", multiple_df[\"JNJ\"].var() * 377)\n",
    "print(\"AVT Var :\", multiple_df[\"AVT\"].var() * 377)\n",
    "print(\"TSLA Var :\", multiple_df[\"TSLA\"].var() * 377)\n",
    "print(\"VZ Var :\", multiple_df[\"VZ\"].var() * 377)\n",
    "print(\"KMB Var :\", multiple_df[\"KMB\"].var() * 377)"
   ]
  },
  {
   "cell_type": "code",
   "execution_count": 125,
   "id": "undefined-grant",
   "metadata": {},
   "outputs": [],
   "source": [
    "# multiple_df"
   ]
  },
  {
   "cell_type": "code",
   "execution_count": 117,
   "id": "internal-december",
   "metadata": {},
   "outputs": [],
   "source": [
    "# Diversifiable Risk = Portfolio Variance - All Weighted Variances\n",
    "def calc_diversifiable_risk(df, tickers, weights):\n",
    "    # Gets number of days\n",
    "    days = len(multiple_df.index)\n",
    "    # Calculate covariance of portfolio\n",
    "    port_covar = np.dot(weights.T, np.dot(df.cov() * days, weights)) \n",
    "    \n",
    "    i = 0\n",
    "    while i < len(tickers):\n",
    "        wt_sq = weights[i] ** 2\n",
    "        stk_var = multiple_df[tickers[i]].var() * days\n",
    "        wt_var = wt_sq * stk_var\n",
    "        port_covar = port_covar - wt_var\n",
    "        i += 1\n",
    "    return port_covar"
   ]
  },
  {
   "cell_type": "code",
   "execution_count": 119,
   "id": "arctic-wagon",
   "metadata": {},
   "outputs": [
    {
     "data": {
      "text/plain": [
       "0.0033142535758332085"
      ]
     },
     "execution_count": 119,
     "metadata": {},
     "output_type": "execute_result"
    }
   ],
   "source": [
    "diversifiable_risk = calc_diversifiable_risk(multiple_df, portfolio_list, weights)\n",
    "diversifiable_risk"
   ]
  },
  {
   "cell_type": "code",
   "execution_count": 120,
   "id": "purple-description",
   "metadata": {},
   "outputs": [
    {
     "name": "stdout",
     "output_type": "stream",
     "text": [
      "Systematic Risk : 0.25078275924238597\n"
     ]
    }
   ],
   "source": [
    "# Risk that cannot be diversified ; Systematic Risk\n",
    "print(\"Systematic Risk :\", (port_var - diversifiable_risk))\n"
   ]
  },
  {
   "cell_type": "code",
   "execution_count": null,
   "id": "frozen-soccer",
   "metadata": {},
   "outputs": [],
   "source": []
  },
  {
   "cell_type": "code",
   "execution_count": null,
   "id": "refined-sauce",
   "metadata": {},
   "outputs": [],
   "source": []
  },
  {
   "cell_type": "code",
   "execution_count": null,
   "id": "ordered-neighbor",
   "metadata": {},
   "outputs": [],
   "source": []
  },
  {
   "cell_type": "code",
   "execution_count": null,
   "id": "quarterly-manufacturer",
   "metadata": {},
   "outputs": [],
   "source": []
  }
 ],
 "metadata": {
  "kernelspec": {
   "display_name": "Python 3",
   "language": "python",
   "name": "python3"
  },
  "language_info": {
   "codemirror_mode": {
    "name": "ipython",
    "version": 3
   },
   "file_extension": ".py",
   "mimetype": "text/x-python",
   "name": "python",
   "nbconvert_exporter": "python",
   "pygments_lexer": "ipython3",
   "version": "3.8.8"
  }
 },
 "nbformat": 4,
 "nbformat_minor": 5
}
