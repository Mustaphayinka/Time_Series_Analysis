{
 "cells": [
  {
   "cell_type": "code",
   "execution_count": 1,
   "id": "spectacular-magnet",
   "metadata": {},
   "outputs": [
    {
     "data": {
      "text/html": [
       "        <script type=\"text/javascript\">\n",
       "        window.PlotlyConfig = {MathJaxConfig: 'local'};\n",
       "        if (window.MathJax && window.MathJax.Hub && window.MathJax.Hub.Config) {window.MathJax.Hub.Config({SVG: {font: \"STIX-Web\"}});}\n",
       "        if (typeof require !== 'undefined') {\n",
       "        require.undef(\"plotly\");\n",
       "        requirejs.config({\n",
       "            paths: {\n",
       "                'plotly': ['https://cdn.plot.ly/plotly-2.12.1.min']\n",
       "            }\n",
       "        });\n",
       "        require(['plotly'], function(Plotly) {\n",
       "            window._Plotly = Plotly;\n",
       "        });\n",
       "        }\n",
       "        </script>\n",
       "        "
      ]
     },
     "metadata": {},
     "output_type": "display_data"
    },
    {
     "data": {
      "text/html": [
       "        <script type=\"text/javascript\">\n",
       "        window.PlotlyConfig = {MathJaxConfig: 'local'};\n",
       "        if (window.MathJax && window.MathJax.Hub && window.MathJax.Hub.Config) {window.MathJax.Hub.Config({SVG: {font: \"STIX-Web\"}});}\n",
       "        if (typeof require !== 'undefined') {\n",
       "        require.undef(\"plotly\");\n",
       "        requirejs.config({\n",
       "            paths: {\n",
       "                'plotly': ['https://cdn.plot.ly/plotly-2.12.1.min']\n",
       "            }\n",
       "        });\n",
       "        require(['plotly'], function(Plotly) {\n",
       "            window._Plotly = Plotly;\n",
       "        });\n",
       "        }\n",
       "        </script>\n",
       "        "
      ]
     },
     "metadata": {},
     "output_type": "display_data"
    }
   ],
   "source": [
    "import pandas as pd\n",
    "import numpy as np\n",
    "import matplotlib.pyplot as plt\n",
    "%matplotlib inline\n",
    "import matplotlib.dates as ndates\n",
    "\n",
    "from pandas_datareader import data as web # Read info from online\n",
    "import warnings\n",
    "warnings.filterwarnings('ignore')\n",
    "\n",
    "import html5lib\n",
    "\n",
    "\n",
    "import cufflinks as cf\n",
    "import plotly.express as px\n",
    "from plotly.subplots import make_subplots\n",
    "import plotly.graph_objects as go\n",
    "\n",
    "\n",
    "# Make Plotly work in your Jupyter Notebook\n",
    "from plotly.offline import download_plotlyjs, init_notebook_mode, plot, iplot\n",
    "init_notebook_mode(connected=True)\n",
    "# Use Plotly locally\n",
    "cf.go_offline()\n",
    "\n",
    "import yfinance as yf\n",
    "\n",
    "# Import python technical analysis library\n",
    "from ta.trend import MACD\n",
    "from ta.momentum import StochasticOscillator"
   ]
  },
  {
   "cell_type": "code",
   "execution_count": 2,
   "id": "bacterial-reynolds",
   "metadata": {},
   "outputs": [
    {
     "name": "stdout",
     "output_type": "stream",
     "text": [
      "[*********************100%***********************]  1 of 1 completed\n"
     ]
    },
    {
     "data": {
      "text/html": [
       "<div>\n",
       "<style scoped>\n",
       "    .dataframe tbody tr th:only-of-type {\n",
       "        vertical-align: middle;\n",
       "    }\n",
       "\n",
       "    .dataframe tbody tr th {\n",
       "        vertical-align: top;\n",
       "    }\n",
       "\n",
       "    .dataframe thead th {\n",
       "        text-align: right;\n",
       "    }\n",
       "</style>\n",
       "<table border=\"1\" class=\"dataframe\">\n",
       "  <thead>\n",
       "    <tr style=\"text-align: right;\">\n",
       "      <th></th>\n",
       "      <th>Open</th>\n",
       "      <th>High</th>\n",
       "      <th>Low</th>\n",
       "      <th>Close</th>\n",
       "      <th>Adj Close</th>\n",
       "      <th>Volume</th>\n",
       "    </tr>\n",
       "    <tr>\n",
       "      <th>Date</th>\n",
       "      <th></th>\n",
       "      <th></th>\n",
       "      <th></th>\n",
       "      <th></th>\n",
       "      <th></th>\n",
       "      <th></th>\n",
       "    </tr>\n",
       "  </thead>\n",
       "  <tbody>\n",
       "    <tr>\n",
       "      <th>2021-10-29</th>\n",
       "      <td>27.000000</td>\n",
       "      <td>27.740000</td>\n",
       "      <td>26.010000</td>\n",
       "      <td>27.500000</td>\n",
       "      <td>27.500000</td>\n",
       "      <td>7601900</td>\n",
       "    </tr>\n",
       "    <tr>\n",
       "      <th>2021-11-01</th>\n",
       "      <td>28.000000</td>\n",
       "      <td>29.690001</td>\n",
       "      <td>26.110001</td>\n",
       "      <td>29.219999</td>\n",
       "      <td>29.219999</td>\n",
       "      <td>2189400</td>\n",
       "    </tr>\n",
       "    <tr>\n",
       "      <th>2021-11-02</th>\n",
       "      <td>29.219999</td>\n",
       "      <td>29.590000</td>\n",
       "      <td>27.705000</td>\n",
       "      <td>29.459999</td>\n",
       "      <td>29.459999</td>\n",
       "      <td>1371000</td>\n",
       "    </tr>\n",
       "    <tr>\n",
       "      <th>2021-11-03</th>\n",
       "      <td>29.590000</td>\n",
       "      <td>29.990000</td>\n",
       "      <td>27.129999</td>\n",
       "      <td>28.600000</td>\n",
       "      <td>28.600000</td>\n",
       "      <td>1338900</td>\n",
       "    </tr>\n",
       "    <tr>\n",
       "      <th>2021-11-04</th>\n",
       "      <td>28.980000</td>\n",
       "      <td>29.030001</td>\n",
       "      <td>27.219999</td>\n",
       "      <td>27.379999</td>\n",
       "      <td>27.379999</td>\n",
       "      <td>2029700</td>\n",
       "    </tr>\n",
       "    <tr>\n",
       "      <th>...</th>\n",
       "      <td>...</td>\n",
       "      <td>...</td>\n",
       "      <td>...</td>\n",
       "      <td>...</td>\n",
       "      <td>...</td>\n",
       "      <td>...</td>\n",
       "    </tr>\n",
       "    <tr>\n",
       "      <th>2022-05-31</th>\n",
       "      <td>15.690000</td>\n",
       "      <td>15.960000</td>\n",
       "      <td>14.360000</td>\n",
       "      <td>14.750000</td>\n",
       "      <td>14.750000</td>\n",
       "      <td>1177100</td>\n",
       "    </tr>\n",
       "    <tr>\n",
       "      <th>2022-06-01</th>\n",
       "      <td>14.590000</td>\n",
       "      <td>14.920000</td>\n",
       "      <td>13.370000</td>\n",
       "      <td>13.450000</td>\n",
       "      <td>13.450000</td>\n",
       "      <td>1331000</td>\n",
       "    </tr>\n",
       "    <tr>\n",
       "      <th>2022-06-02</th>\n",
       "      <td>13.390000</td>\n",
       "      <td>14.210000</td>\n",
       "      <td>13.070000</td>\n",
       "      <td>14.000000</td>\n",
       "      <td>14.000000</td>\n",
       "      <td>1407000</td>\n",
       "    </tr>\n",
       "    <tr>\n",
       "      <th>2022-06-03</th>\n",
       "      <td>13.850000</td>\n",
       "      <td>14.390000</td>\n",
       "      <td>13.325000</td>\n",
       "      <td>14.270000</td>\n",
       "      <td>14.270000</td>\n",
       "      <td>1066300</td>\n",
       "    </tr>\n",
       "    <tr>\n",
       "      <th>2022-06-06</th>\n",
       "      <td>14.580000</td>\n",
       "      <td>14.970000</td>\n",
       "      <td>13.410000</td>\n",
       "      <td>13.460000</td>\n",
       "      <td>13.460000</td>\n",
       "      <td>1088100</td>\n",
       "    </tr>\n",
       "  </tbody>\n",
       "</table>\n",
       "<p>151 rows × 6 columns</p>\n",
       "</div>"
      ],
      "text/plain": [
       "                 Open       High        Low      Close  Adj Close   Volume\n",
       "Date                                                                      \n",
       "2021-10-29  27.000000  27.740000  26.010000  27.500000  27.500000  7601900\n",
       "2021-11-01  28.000000  29.690001  26.110001  29.219999  29.219999  2189400\n",
       "2021-11-02  29.219999  29.590000  27.705000  29.459999  29.459999  1371000\n",
       "2021-11-03  29.590000  29.990000  27.129999  28.600000  28.600000  1338900\n",
       "2021-11-04  28.980000  29.030001  27.219999  27.379999  27.379999  2029700\n",
       "...               ...        ...        ...        ...        ...      ...\n",
       "2022-05-31  15.690000  15.960000  14.360000  14.750000  14.750000  1177100\n",
       "2022-06-01  14.590000  14.920000  13.370000  13.450000  13.450000  1331000\n",
       "2022-06-02  13.390000  14.210000  13.070000  14.000000  14.000000  1407000\n",
       "2022-06-03  13.850000  14.390000  13.325000  14.270000  14.270000  1066300\n",
       "2022-06-06  14.580000  14.970000  13.410000  13.460000  13.460000  1088100\n",
       "\n",
       "[151 rows x 6 columns]"
      ]
     },
     "execution_count": 2,
     "metadata": {},
     "output_type": "execute_result"
    }
   ],
   "source": [
    "# Download tesla stock data\n",
    "udmy = yf.download(tickers = 'UDMY', period = '1y', interval = '1d')\n",
    "udmy"
   ]
  },
  {
   "cell_type": "code",
   "execution_count": 3,
   "id": "inner-indonesian",
   "metadata": {},
   "outputs": [
    {
     "data": {
      "text/html": [
       "<div>\n",
       "<style scoped>\n",
       "    .dataframe tbody tr th:only-of-type {\n",
       "        vertical-align: middle;\n",
       "    }\n",
       "\n",
       "    .dataframe tbody tr th {\n",
       "        vertical-align: top;\n",
       "    }\n",
       "\n",
       "    .dataframe thead th {\n",
       "        text-align: right;\n",
       "    }\n",
       "</style>\n",
       "<table border=\"1\" class=\"dataframe\">\n",
       "  <thead>\n",
       "    <tr style=\"text-align: right;\">\n",
       "      <th></th>\n",
       "      <th>Open</th>\n",
       "      <th>High</th>\n",
       "      <th>Low</th>\n",
       "      <th>Close</th>\n",
       "      <th>Adj Close</th>\n",
       "      <th>Volume</th>\n",
       "      <th>MA5</th>\n",
       "      <th>MA20</th>\n",
       "    </tr>\n",
       "    <tr>\n",
       "      <th>Date</th>\n",
       "      <th></th>\n",
       "      <th></th>\n",
       "      <th></th>\n",
       "      <th></th>\n",
       "      <th></th>\n",
       "      <th></th>\n",
       "      <th></th>\n",
       "      <th></th>\n",
       "    </tr>\n",
       "  </thead>\n",
       "  <tbody>\n",
       "    <tr>\n",
       "      <th>2021-10-29</th>\n",
       "      <td>27.000000</td>\n",
       "      <td>27.740000</td>\n",
       "      <td>26.010000</td>\n",
       "      <td>27.500000</td>\n",
       "      <td>27.500000</td>\n",
       "      <td>7601900</td>\n",
       "      <td>NaN</td>\n",
       "      <td>NaN</td>\n",
       "    </tr>\n",
       "    <tr>\n",
       "      <th>2021-11-01</th>\n",
       "      <td>28.000000</td>\n",
       "      <td>29.690001</td>\n",
       "      <td>26.110001</td>\n",
       "      <td>29.219999</td>\n",
       "      <td>29.219999</td>\n",
       "      <td>2189400</td>\n",
       "      <td>NaN</td>\n",
       "      <td>NaN</td>\n",
       "    </tr>\n",
       "    <tr>\n",
       "      <th>2021-11-02</th>\n",
       "      <td>29.219999</td>\n",
       "      <td>29.590000</td>\n",
       "      <td>27.705000</td>\n",
       "      <td>29.459999</td>\n",
       "      <td>29.459999</td>\n",
       "      <td>1371000</td>\n",
       "      <td>NaN</td>\n",
       "      <td>NaN</td>\n",
       "    </tr>\n",
       "    <tr>\n",
       "      <th>2021-11-03</th>\n",
       "      <td>29.590000</td>\n",
       "      <td>29.990000</td>\n",
       "      <td>27.129999</td>\n",
       "      <td>28.600000</td>\n",
       "      <td>28.600000</td>\n",
       "      <td>1338900</td>\n",
       "      <td>NaN</td>\n",
       "      <td>NaN</td>\n",
       "    </tr>\n",
       "    <tr>\n",
       "      <th>2021-11-04</th>\n",
       "      <td>28.980000</td>\n",
       "      <td>29.030001</td>\n",
       "      <td>27.219999</td>\n",
       "      <td>27.379999</td>\n",
       "      <td>27.379999</td>\n",
       "      <td>2029700</td>\n",
       "      <td>28.432</td>\n",
       "      <td>NaN</td>\n",
       "    </tr>\n",
       "    <tr>\n",
       "      <th>...</th>\n",
       "      <td>...</td>\n",
       "      <td>...</td>\n",
       "      <td>...</td>\n",
       "      <td>...</td>\n",
       "      <td>...</td>\n",
       "      <td>...</td>\n",
       "      <td>...</td>\n",
       "      <td>...</td>\n",
       "    </tr>\n",
       "    <tr>\n",
       "      <th>2022-05-31</th>\n",
       "      <td>15.690000</td>\n",
       "      <td>15.960000</td>\n",
       "      <td>14.360000</td>\n",
       "      <td>14.750000</td>\n",
       "      <td>14.750000</td>\n",
       "      <td>1177100</td>\n",
       "      <td>14.660</td>\n",
       "      <td>12.408</td>\n",
       "    </tr>\n",
       "    <tr>\n",
       "      <th>2022-06-01</th>\n",
       "      <td>14.590000</td>\n",
       "      <td>14.920000</td>\n",
       "      <td>13.370000</td>\n",
       "      <td>13.450000</td>\n",
       "      <td>13.450000</td>\n",
       "      <td>1331000</td>\n",
       "      <td>14.756</td>\n",
       "      <td>12.569</td>\n",
       "    </tr>\n",
       "    <tr>\n",
       "      <th>2022-06-02</th>\n",
       "      <td>13.390000</td>\n",
       "      <td>14.210000</td>\n",
       "      <td>13.070000</td>\n",
       "      <td>14.000000</td>\n",
       "      <td>14.000000</td>\n",
       "      <td>1407000</td>\n",
       "      <td>14.772</td>\n",
       "      <td>12.763</td>\n",
       "    </tr>\n",
       "    <tr>\n",
       "      <th>2022-06-03</th>\n",
       "      <td>13.850000</td>\n",
       "      <td>14.390000</td>\n",
       "      <td>13.325000</td>\n",
       "      <td>14.270000</td>\n",
       "      <td>14.270000</td>\n",
       "      <td>1066300</td>\n",
       "      <td>14.538</td>\n",
       "      <td>12.939</td>\n",
       "    </tr>\n",
       "    <tr>\n",
       "      <th>2022-06-06</th>\n",
       "      <td>14.580000</td>\n",
       "      <td>14.970000</td>\n",
       "      <td>13.410000</td>\n",
       "      <td>13.460000</td>\n",
       "      <td>13.460000</td>\n",
       "      <td>1088100</td>\n",
       "      <td>13.986</td>\n",
       "      <td>12.985</td>\n",
       "    </tr>\n",
       "  </tbody>\n",
       "</table>\n",
       "<p>151 rows × 8 columns</p>\n",
       "</div>"
      ],
      "text/plain": [
       "                 Open       High        Low      Close  Adj Close   Volume  \\\n",
       "Date                                                                         \n",
       "2021-10-29  27.000000  27.740000  26.010000  27.500000  27.500000  7601900   \n",
       "2021-11-01  28.000000  29.690001  26.110001  29.219999  29.219999  2189400   \n",
       "2021-11-02  29.219999  29.590000  27.705000  29.459999  29.459999  1371000   \n",
       "2021-11-03  29.590000  29.990000  27.129999  28.600000  28.600000  1338900   \n",
       "2021-11-04  28.980000  29.030001  27.219999  27.379999  27.379999  2029700   \n",
       "...               ...        ...        ...        ...        ...      ...   \n",
       "2022-05-31  15.690000  15.960000  14.360000  14.750000  14.750000  1177100   \n",
       "2022-06-01  14.590000  14.920000  13.370000  13.450000  13.450000  1331000   \n",
       "2022-06-02  13.390000  14.210000  13.070000  14.000000  14.000000  1407000   \n",
       "2022-06-03  13.850000  14.390000  13.325000  14.270000  14.270000  1066300   \n",
       "2022-06-06  14.580000  14.970000  13.410000  13.460000  13.460000  1088100   \n",
       "\n",
       "               MA5    MA20  \n",
       "Date                        \n",
       "2021-10-29     NaN     NaN  \n",
       "2021-11-01     NaN     NaN  \n",
       "2021-11-02     NaN     NaN  \n",
       "2021-11-03     NaN     NaN  \n",
       "2021-11-04  28.432     NaN  \n",
       "...            ...     ...  \n",
       "2022-05-31  14.660  12.408  \n",
       "2022-06-01  14.756  12.569  \n",
       "2022-06-02  14.772  12.763  \n",
       "2022-06-03  14.538  12.939  \n",
       "2022-06-06  13.986  12.985  \n",
       "\n",
       "[151 rows x 8 columns]"
      ]
     },
     "execution_count": 3,
     "metadata": {},
     "output_type": "execute_result"
    }
   ],
   "source": [
    "x = udmy.index\n",
    "close = udmy['Adj Close']\n",
    "high = udmy['High']\n",
    "low = udmy['Low']\n",
    "openp = udmy['Open']\n",
    "\n",
    "# Making a new column\n",
    "#This tells us we are doing a mean price for every 5 days\n",
    "udmy['MA5'] = udmy['Adj Close'].rolling(5).mean()\n",
    "udmy['MA20'] = udmy['Adj Close'].rolling(20).mean()\n",
    "udmy"
   ]
  },
  {
   "cell_type": "code",
   "execution_count": 10,
   "id": "noble-tissue",
   "metadata": {},
   "outputs": [
    {
     "data": {
      "text/plain": [
       "<AxesSubplot:title={'center':'5day moving average'}, xlabel='Date'>"
      ]
     },
     "execution_count": 10,
     "metadata": {},
     "output_type": "execute_result"
    },
    {
     "data": {
      "image/png": "[encoded data removed]",
      "text/plain": [
       "<Figure size 432x288 with 1 Axes>"
      ]
     },
     "metadata": {
      "needs_background": "light"
     },
     "output_type": "display_data"
    }
   ],
   "source": [
    "udmy_ma5 = udmy['Adj Close'].rolling(window = 5).mean()\n",
    "udmy_ma5.plot(title = '5day moving average')\n",
    "udmy_ma5.plot()\n"
   ]
  },
  {
   "cell_type": "code",
   "execution_count": 11,
   "id": "virtual-provider",
   "metadata": {},
   "outputs": [
    {
     "data": {
      "text/plain": [
       "<AxesSubplot:title={'center':'20day moving average'}, xlabel='Date'>"
      ]
     },
     "execution_count": 11,
     "metadata": {},
     "output_type": "execute_result"
    },
    {
     "data": {
      "image/png": "[encoded data removed]",
      "text/plain": [
       "<Figure size 432x288 with 1 Axes>"
      ]
     },
     "metadata": {
      "needs_background": "light"
     },
     "output_type": "display_data"
    }
   ],
   "source": [
    "udmy_ma20 = udmy['Adj Close'].rolling(window = 20).mean()\n",
    "udmy_ma20.plot(title = '20day moving average')\n",
    "udmy_ma20.plot()"
   ]
  },
  {
   "cell_type": "code",
   "execution_count": null,
   "id": "ancient-steel",
   "metadata": {},
   "outputs": [],
   "source": []
  },
  {
   "cell_type": "code",
   "execution_count": 12,
   "id": "egyptian-lighter",
   "metadata": {},
   "outputs": [
    {
     "data": {
      "application/vnd.plotly.v1+json": {
       "config": {
        "plotlyServerURL": "https://plot.ly"
       },
       "data": [
        {
         "line": {
          "color": "red",
          "width": 1
         },
         "name": "MA5",
         "type": "scatter",
         "x": [
          "2021-10-29T00:00:00",
          "2021-11-01T00:00:00",
          "2021-11-02T00:00:00",
          "2021-11-03T00:00:00",
          "2021-11-04T00:00:00",
          "2021-11-05T00:00:00",
          "2021-11-08T00:00:00",
          "2021-11-09T00:00:00",
          "2021-11-10T00:00:00",
          "2021-11-11T00:00:00",
          "2021-11-12T00:00:00",
          "2021-11-15T00:00:00",
          "2021-11-16T00:00:00",
          "2021-11-17T00:00:00",
          "2021-11-18T00:00:00",
          "2021-11-19T00:00:00",
          "2021-11-22T00:00:00",
          "2021-11-23T00:00:00",
          "2021-11-24T00:00:00",
          "2021-11-26T00:00:00",
          "2021-11-29T00:00:00",
          "2021-11-30T00:00:00",
          "2021-12-01T00:00:00",
          "2021-12-02T00:00:00",
          "2021-12-03T00:00:00",
          "2021-12-06T00:00:00",
          "2021-12-07T00:00:00",
          "2021-12-08T00:00:00",
          "2021-12-09T00:00:00",
          "2021-12-10T00:00:00",
          "2021-12-13T00:00:00",
          "2021-12-14T00:00:00",
          "2021-12-15T00:00:00",
          "2021-12-16T00:00:00",
          "2021-12-17T00:00:00",
          "2021-12-20T00:00:00",
          "2021-12-21T00:00:00",
          "2021-12-22T00:00:00",
          "2021-12-23T00:00:00",
          "2021-12-27T00:00:00",
          "2021-12-28T00:00:00",
          "2021-12-29T00:00:00",
          "2021-12-30T00:00:00",
          "2021-12-31T00:00:00",
          "2022-01-03T00:00:00",
          "2022-01-04T00:00:00",
          "2022-01-05T00:00:00",
          "2022-01-06T00:00:00",
          "2022-01-07T00:00:00",
          "2022-01-10T00:00:00",
          "2022-01-11T00:00:00",
          "2022-01-12T00:00:00",
          "2022-01-13T00:00:00",
          "2022-01-14T00:00:00",
          "2022-01-18T00:00:00",
          "2022-01-19T00:00:00",
          "2022-01-20T00:00:00",
          "2022-01-21T00:00:00",
          "2022-01-24T00:00:00",
          "2022-01-25T00:00:00",
          "2022-01-26T00:00:00",
          "2022-01-27T00:00:00",
          "2022-01-28T00:00:00",
          "2022-01-31T00:00:00",
          "2022-02-01T00:00:00",
          "2022-02-02T00:00:00",
          "2022-02-03T00:00:00",
          "2022-02-04T00:00:00",
          "2022-02-07T00:00:00",
          "2022-02-08T00:00:00",
          "2022-02-09T00:00:00",
          "2022-02-10T00:00:00",
          "2022-02-11T00:00:00",
          "2022-02-14T00:00:00",
          "2022-02-15T00:00:00",
          "2022-02-16T00:00:00",
          "2022-02-17T00:00:00",
          "2022-02-18T00:00:00",
          "2022-02-22T00:00:00",
          "2022-02-23T00:00:00",
          "2022-02-24T00:00:00",
          "2022-02-25T00:00:00",
          "2022-02-28T00:00:00",
          "2022-03-01T00:00:00",
          "2022-03-02T00:00:00",
          "2022-03-03T00:00:00",
          "2022-03-04T00:00:00",
          "2022-03-07T00:00:00",
          "2022-03-08T00:00:00",
          "2022-03-09T00:00:00",
          "2022-03-10T00:00:00",
          "2022-03-11T00:00:00",
          "2022-03-14T00:00:00",
          "2022-03-15T00:00:00",
          "2022-03-16T00:00:00",
          "2022-03-17T00:00:00",
          "2022-03-18T00:00:00",
          "2022-03-21T00:00:00",
          "2022-03-22T00:00:00",
          "2022-03-23T00:00:00",
          "2022-03-24T00:00:00",
          "2022-03-25T00:00:00",
          "2022-03-28T00:00:00",
          "2022-03-29T00:00:00",
          "2022-03-30T00:00:00",
          "2022-03-31T00:00:00",
          "2022-04-01T00:00:00",
          "2022-04-04T00:00:00",
          "2022-04-05T00:00:00",
          "2022-04-06T00:00:00",
          "2022-04-07T00:00:00",
          "2022-04-08T00:00:00",
          "2022-04-11T00:00:00",
          "2022-04-12T00:00:00",
          "2022-04-13T00:00:00",
          "2022-04-14T00:00:00",
          "2022-04-18T00:00:00",
          "2022-04-19T00:00:00",
          "2022-04-20T00:00:00",
          "2022-04-21T00:00:00",
          "2022-04-22T00:00:00",
          "2022-04-25T00:00:00",
          "2022-04-26T00:00:00",
          "2022-04-27T00:00:00",
          "2022-04-28T00:00:00",
          "2022-04-29T00:00:00",
          "2022-05-02T00:00:00",
          "2022-05-03T00:00:00",
          "2022-05-04T00:00:00",
          "2022-05-05T00:00:00",
          "2022-05-06T00:00:00",
          "2022-05-09T00:00:00",
          "2022-05-10T00:00:00",
          "2022-05-11T00:00:00",
          "2022-05-12T00:00:00",
          "2022-05-13T00:00:00",
          "2022-05-16T00:00:00",
          "2022-05-17T00:00:00",
          "2022-05-18T00:00:00",
          "2022-05-19T00:00:00",
          "2022-05-20T00:00:00",
          "2022-05-23T00:00:00",
          "2022-05-24T00:00:00",
          "2022-05-25T00:00:00",
          "2022-05-26T00:00:00",
          "2022-05-27T00:00:00",
          "2022-05-31T00:00:00",
          "2022-06-01T00:00:00",
          "2022-06-02T00:00:00",
          "2022-06-03T00:00:00",
          "2022-06-06T00:00:00"
         ],
         "y": [
          null,
          null,
          null,
          null,
          28.431999588012694,
          28.26799964904785,
          27.845999908447265,
          27.456000137329102,
          26.93400001525879,
          26.904000091552735,
          27.095999908447265,
          27.20199966430664,
          27.63599967956543,
          28.61999969482422,
          29.3939998626709,
          30.059999847412108,
          30.39000015258789,
          29.936000061035156,
          29.12400016784668,
          28.144000244140624,
          27.386000442504884,
          27.026000213623046,
          26.286000061035157,
          25.43400001525879,
          24.529999923706054,
          23.2,
          22.0560001373291,
          21.528000259399413,
          21.08000030517578,
          20.966000366210938,
          20.960000228881835,
          20.526000213623046,
          20.304000091552734,
          19.95,
          19.229999923706053,
          18.547999954223634,
          18.068000030517577,
          17.7120002746582,
          17.894000244140624,
          18.1560001373291,
          18.362000274658204,
          18.602000045776368,
          18.62799987792969,
          18.638000106811525,
          18.670000076293945,
          18.647999954223632,
          18.17600021362305,
          17.518000411987305,
          16.550000190734863,
          15.800000190734863,
          15.320000076293946,
          15.121999931335449,
          15.129999923706055,
          15.257999992370605,
          15.048000144958497,
          14.80200023651123,
          14.77400016784668,
          14.754000091552735,
          14.770000076293945,
          14.946000099182129,
          15.196000099182129,
          15.156000137329102,
          15.156000137329102,
          15.312000274658203,
          15.648000144958496,
          15.634000205993653,
          15.670000267028808,
          15.690000343322755,
          15.480000114440918,
          15.322000122070312,
          15.41200008392334,
          15.210000038146973,
          14.83400001525879,
          14.54000015258789,
          14.214000129699707,
          13.748000144958496,
          13.664000129699707,
          13.71200008392334,
          13.620000076293945,
          13.224000167846679,
          13.134000015258788,
          13.13799991607666,
          13.091999816894532,
          13.117999839782716,
          13.149999809265136,
          12.819999885559081,
          12.353999900817872,
          11.868000030517578,
          11.373999977111817,
          11.207999992370606,
          11.210000038146973,
          11.186000061035156,
          11.092000007629395,
          11.086000061035156,
          11.164000129699707,
          11.214000129699707,
          11.664000129699707,
          12.128000068664551,
          12.563999938964844,
          12.663999938964844,
          12.833999824523925,
          12.617999839782716,
          12.65999984741211,
          12.607999992370605,
          12.713999938964843,
          12.668000030517579,
          12.886000061035157,
          13.006000137329101,
          13.01599998474121,
          12.934000015258789,
          12.863999938964843,
          12.560000038146972,
          12.3,
          12.176000022888184,
          12.197999954223633,
          12.27800006866455,
          12.315999984741211,
          12.284000015258789,
          12.092000007629395,
          11.686000061035156,
          11.342000007629395,
          11.197999954223633,
          10.857999992370605,
          10.692000007629394,
          10.707999992370606,
          10.731999969482422,
          10.655999946594239,
          10.649999809265136,
          10.591999816894532,
          10.573999786376953,
          10.899999809265136,
          11.157999801635743,
          11.397999954223632,
          11.579999923706055,
          11.7,
          11.629999923706055,
          11.52800006866455,
          11.679999923706054,
          11.860000038146973,
          12.05,
          12.09600009918213,
          12.286000061035157,
          12.442000198364259,
          12.84000015258789,
          13.468000030517578,
          14.227999877929687,
          14.65999984741211,
          14.755999755859374,
          14.771999740600586,
          14.53799991607666,
          13.986000061035156
         ]
        },
        {
         "line": {
          "color": "green",
          "width": 1
         },
         "name": "MA20",
         "type": "scatter",
         "x": [
          "2021-10-29T00:00:00",
          "2021-11-01T00:00:00",
          "2021-11-02T00:00:00",
          "2021-11-03T00:00:00",
          "2021-11-04T00:00:00",
          "2021-11-05T00:00:00",
          "2021-11-08T00:00:00",
          "2021-11-09T00:00:00",
          "2021-11-10T00:00:00",
          "2021-11-11T00:00:00",
          "2021-11-12T00:00:00",
          "2021-11-15T00:00:00",
          "2021-11-16T00:00:00",
          "2021-11-17T00:00:00",
          "2021-11-18T00:00:00",
          "2021-11-19T00:00:00",
          "2021-11-22T00:00:00",
          "2021-11-23T00:00:00",
          "2021-11-24T00:00:00",
          "2021-11-26T00:00:00",
          "2021-11-29T00:00:00",
          "2021-11-30T00:00:00",
          "2021-12-01T00:00:00",
          "2021-12-02T00:00:00",
          "2021-12-03T00:00:00",
          "2021-12-06T00:00:00",
          "2021-12-07T00:00:00",
          "2021-12-08T00:00:00",
          "2021-12-09T00:00:00",
          "2021-12-10T00:00:00",
          "2021-12-13T00:00:00",
          "2021-12-14T00:00:00",
          "2021-12-15T00:00:00",
          "2021-12-16T00:00:00",
          "2021-12-17T00:00:00",
          "2021-12-20T00:00:00",
          "2021-12-21T00:00:00",
          "2021-12-22T00:00:00",
          "2021-12-23T00:00:00",
          "2021-12-27T00:00:00",
          "2021-12-28T00:00:00",
          "2021-12-29T00:00:00",
          "2021-12-30T00:00:00",
          "2021-12-31T00:00:00",
          "2022-01-03T00:00:00",
          "2022-01-04T00:00:00",
          "2022-01-05T00:00:00",
          "2022-01-06T00:00:00",
          "2022-01-07T00:00:00",
          "2022-01-10T00:00:00",
          "2022-01-11T00:00:00",
          "2022-01-12T00:00:00",
          "2022-01-13T00:00:00",
          "2022-01-14T00:00:00",
          "2022-01-18T00:00:00",
          "2022-01-19T00:00:00",
          "2022-01-20T00:00:00",
          "2022-01-21T00:00:00",
          "2022-01-24T00:00:00",
          "2022-01-25T00:00:00",
          "2022-01-26T00:00:00",
          "2022-01-27T00:00:00",
          "2022-01-28T00:00:00",
          "2022-01-31T00:00:00",
          "2022-02-01T00:00:00",
          "2022-02-02T00:00:00",
          "2022-02-03T00:00:00",
          "2022-02-04T00:00:00",
          "2022-02-07T00:00:00",
          "2022-02-08T00:00:00",
          "2022-02-09T00:00:00",
          "2022-02-10T00:00:00",
          "2022-02-11T00:00:00",
          "2022-02-14T00:00:00",
          "2022-02-15T00:00:00",
          "2022-02-16T00:00:00",
          "2022-02-17T00:00:00",
          "2022-02-18T00:00:00",
          "2022-02-22T00:00:00",
          "2022-02-23T00:00:00",
          "2022-02-24T00:00:00",
          "2022-02-25T00:00:00",
          "2022-02-28T00:00:00",
          "2022-03-01T00:00:00",
          "2022-03-02T00:00:00",
          "2022-03-03T00:00:00",
          "2022-03-04T00:00:00",
          "2022-03-07T00:00:00",
          "2022-03-08T00:00:00",
          "2022-03-09T00:00:00",
          "2022-03-10T00:00:00",
          "2022-03-11T00:00:00",
          "2022-03-14T00:00:00",
          "2022-03-15T00:00:00",
          "2022-03-16T00:00:00",
          "2022-03-17T00:00:00",
          "2022-03-18T00:00:00",
          "2022-03-21T00:00:00",
          "2022-03-22T00:00:00",
          "2022-03-23T00:00:00",
          "2022-03-24T00:00:00",
          "2022-03-25T00:00:00",
          "2022-03-28T00:00:00",
          "2022-03-29T00:00:00",
          "2022-03-30T00:00:00",
          "2022-03-31T00:00:00",
          "2022-04-01T00:00:00",
          "2022-04-04T00:00:00",
          "2022-04-05T00:00:00",
          "2022-04-06T00:00:00",
          "2022-04-07T00:00:00",
          "2022-04-08T00:00:00",
          "2022-04-11T00:00:00",
          "2022-04-12T00:00:00",
          "2022-04-13T00:00:00",
          "2022-04-14T00:00:00",
          "2022-04-18T00:00:00",
          "2022-04-19T00:00:00",
          "2022-04-20T00:00:00",
          "2022-04-21T00:00:00",
          "2022-04-22T00:00:00",
          "2022-04-25T00:00:00",
          "2022-04-26T00:00:00",
          "2022-04-27T00:00:00",
          "2022-04-28T00:00:00",
          "2022-04-29T00:00:00",
          "2022-05-02T00:00:00",
          "2022-05-03T00:00:00",
          "2022-05-04T00:00:00",
          "2022-05-05T00:00:00",
          "2022-05-06T00:00:00",
          "2022-05-09T00:00:00",
          "2022-05-10T00:00:00",
          "2022-05-11T00:00:00",
          "2022-05-12T00:00:00",
          "2022-05-13T00:00:00",
          "2022-05-16T00:00:00",
          "2022-05-17T00:00:00",
          "2022-05-18T00:00:00",
          "2022-05-19T00:00:00",
          "2022-05-20T00:00:00",
          "2022-05-23T00:00:00",
          "2022-05-24T00:00:00",
          "2022-05-25T00:00:00",
          "2022-05-26T00:00:00",
          "2022-05-27T00:00:00",
          "2022-05-31T00:00:00",
          "2022-06-01T00:00:00",
          "2022-06-02T00:00:00",
          "2022-06-03T00:00:00",
          "2022-06-06T00:00:00"
         ],
         "y": [
          null,
          null,
          null,
          null,
          null,
          null,
          null,
          null,
          null,
          null,
          null,
          null,
          null,
          null,
          null,
          null,
          null,
          null,
          null,
          28.21849994659424,
          28.20249996185303,
          28.11599998474121,
          27.82849998474121,
          27.52799997329712,
          27.243000030517578,
          26.935500049591063,
          26.66850004196167,
          26.34650001525879,
          26.064500045776366,
          25.75850009918213,
          25.401500129699706,
          24.99950017929077,
          24.513500118255614,
          23.897000122070313,
          23.217500114440917,
          22.523500156402587,
          21.919000148773193,
          21.457500171661376,
          21.089500141143798,
          20.72050008773804,
          20.267500114440917,
          19.813000106811522,
          19.54300012588501,
          19.390500164031984,
          19.25550012588501,
          19.129500102996825,
          18.84300012588501,
          18.540500164031982,
          18.258000135421753,
          17.964000082015993,
          17.719500064849854,
          17.49200005531311,
          17.24700012207031,
          17.085000133514406,
          16.9185001373291,
          16.78300013542175,
          16.668500089645384,
          16.507500076293944,
          16.304000091552734,
          16.116000127792358,
          15.991500091552734,
          15.807000112533569,
          15.639500141143799,
          15.472500133514405,
          15.360500144958497,
          15.23800015449524,
          15.18050012588501,
          15.182500123977661,
          15.205000114440917,
          15.241000127792358,
          15.261000156402588,
          15.202500152587891,
          15.108500146865845,
          15.025500154495239,
          15.03250012397766,
          14.997500133514404,
          14.925000143051147,
          14.848000144958496,
          14.73800015449524,
          14.6020001411438,
          14.48200011253357,
          14.420500087738038,
          14.332000064849854,
          14.189500045776366,
          13.977500057220459,
          13.778500032424926,
          13.591499996185302,
          13.37649998664856,
          13.163000011444092,
          12.949000024795533,
          12.728000020980835,
          12.585500001907349,
          12.440999984741211,
          12.299499988555908,
          12.186500024795532,
          12.094500017166137,
          12.085500001907349,
          12.044999980926514,
          12.035499954223633,
          12.046499967575073,
          12.019499969482421,
          11.955499982833862,
          11.936999988555907,
          11.907999992370605,
          11.9375,
          11.981500005722046,
          12.088500022888184,
          12.221500015258789,
          12.318499994277953,
          12.369000005722047,
          12.394999980926514,
          12.432000017166137,
          12.523500013351441,
          12.590999984741211,
          12.627499961853028,
          12.660999965667724,
          12.594999980926513,
          12.5625,
          12.473000001907348,
          12.382999992370605,
          12.288000011444092,
          12.240000009536743,
          12.112000036239625,
          11.994000005722047,
          11.881500005722046,
          11.803999996185302,
          11.682499980926513,
          11.522999954223632,
          11.387999963760375,
          11.291499948501587,
          11.312999963760376,
          11.331999921798706,
          11.297499942779542,
          11.238999938964843,
          11.166999959945679,
          11.150999927520752,
          11.13499994277954,
          11.146499919891358,
          11.180999946594238,
          11.25799994468689,
          11.339499950408936,
          11.406999969482422,
          11.54249997138977,
          11.717999982833863,
          11.947999954223633,
          12.213499927520752,
          12.407999944686889,
          12.56899995803833,
          12.762999963760375,
          12.93899998664856,
          12.984999990463256
         ]
        },
        {
         "line": {
          "color": "blue",
          "width": 1
         },
         "name": "Price",
         "type": "scatter",
         "x": [
          "2021-10-29T00:00:00",
          "2021-11-01T00:00:00",
          "2021-11-02T00:00:00",
          "2021-11-03T00:00:00",
          "2021-11-04T00:00:00",
          "2021-11-05T00:00:00",
          "2021-11-08T00:00:00",
          "2021-11-09T00:00:00",
          "2021-11-10T00:00:00",
          "2021-11-11T00:00:00",
          "2021-11-12T00:00:00",
          "2021-11-15T00:00:00",
          "2021-11-16T00:00:00",
          "2021-11-17T00:00:00",
          "2021-11-18T00:00:00",
          "2021-11-19T00:00:00",
          "2021-11-22T00:00:00",
          "2021-11-23T00:00:00",
          "2021-11-24T00:00:00",
          "2021-11-26T00:00:00",
          "2021-11-29T00:00:00",
          "2021-11-30T00:00:00",
          "2021-12-01T00:00:00",
          "2021-12-02T00:00:00",
          "2021-12-03T00:00:00",
          "2021-12-06T00:00:00",
          "2021-12-07T00:00:00",
          "2021-12-08T00:00:00",
          "2021-12-09T00:00:00",
          "2021-12-10T00:00:00",
          "2021-12-13T00:00:00",
          "2021-12-14T00:00:00",
          "2021-12-15T00:00:00",
          "2021-12-16T00:00:00",
          "2021-12-17T00:00:00",
          "2021-12-20T00:00:00",
          "2021-12-21T00:00:00",
          "2021-12-22T00:00:00",
          "2021-12-23T00:00:00",
          "2021-12-27T00:00:00",
          "2021-12-28T00:00:00",
          "2021-12-29T00:00:00",
          "2021-12-30T00:00:00",
          "2021-12-31T00:00:00",
          "2022-01-03T00:00:00",
          "2022-01-04T00:00:00",
          "2022-01-05T00:00:00",
          "2022-01-06T00:00:00",
          "2022-01-07T00:00:00",
          "2022-01-10T00:00:00",
          "2022-01-11T00:00:00",
          "2022-01-12T00:00:00",
          "2022-01-13T00:00:00",
          "2022-01-14T00:00:00",
          "2022-01-18T00:00:00",
          "2022-01-19T00:00:00",
          "2022-01-20T00:00:00",
          "2022-01-21T00:00:00",
          "2022-01-24T00:00:00",
          "2022-01-25T00:00:00",
          "2022-01-26T00:00:00",
          "2022-01-27T00:00:00",
          "2022-01-28T00:00:00",
          "2022-01-31T00:00:00",
          "2022-02-01T00:00:00",
          "2022-02-02T00:00:00",
          "2022-02-03T00:00:00",
          "2022-02-04T00:00:00",
          "2022-02-07T00:00:00",
          "2022-02-08T00:00:00",
          "2022-02-09T00:00:00",
          "2022-02-10T00:00:00",
          "2022-02-11T00:00:00",
          "2022-02-14T00:00:00",
          "2022-02-15T00:00:00",
          "2022-02-16T00:00:00",
          "2022-02-17T00:00:00",
          "2022-02-18T00:00:00",
          "2022-02-22T00:00:00",
          "2022-02-23T00:00:00",
          "2022-02-24T00:00:00",
          "2022-02-25T00:00:00",
          "2022-02-28T00:00:00",
          "2022-03-01T00:00:00",
          "2022-03-02T00:00:00",
          "2022-03-03T00:00:00",
          "2022-03-04T00:00:00",
          "2022-03-07T00:00:00",
          "2022-03-08T00:00:00",
          "2022-03-09T00:00:00",
          "2022-03-10T00:00:00",
          "2022-03-11T00:00:00",
          "2022-03-14T00:00:00",
          "2022-03-15T00:00:00",
          "2022-03-16T00:00:00",
          "2022-03-17T00:00:00",
          "2022-03-18T00:00:00",
          "2022-03-21T00:00:00",
          "2022-03-22T00:00:00",
          "2022-03-23T00:00:00",
          "2022-03-24T00:00:00",
          "2022-03-25T00:00:00",
          "2022-03-28T00:00:00",
          "2022-03-29T00:00:00",
          "2022-03-30T00:00:00",
          "2022-03-31T00:00:00",
          "2022-04-01T00:00:00",
          "2022-04-04T00:00:00",
          "2022-04-05T00:00:00",
          "2022-04-06T00:00:00",
          "2022-04-07T00:00:00",
          "2022-04-08T00:00:00",
          "2022-04-11T00:00:00",
          "2022-04-12T00:00:00",
          "2022-04-13T00:00:00",
          "2022-04-14T00:00:00",
          "2022-04-18T00:00:00",
          "2022-04-19T00:00:00",
          "2022-04-20T00:00:00",
          "2022-04-21T00:00:00",
          "2022-04-22T00:00:00",
          "2022-04-25T00:00:00",
          "2022-04-26T00:00:00",
          "2022-04-27T00:00:00",
          "2022-04-28T00:00:00",
          "2022-04-29T00:00:00",
          "2022-05-02T00:00:00",
          "2022-05-03T00:00:00",
          "2022-05-04T00:00:00",
          "2022-05-05T00:00:00",
          "2022-05-06T00:00:00",
          "2022-05-09T00:00:00",
          "2022-05-10T00:00:00",
          "2022-05-11T00:00:00",
          "2022-05-12T00:00:00",
          "2022-05-13T00:00:00",
          "2022-05-16T00:00:00",
          "2022-05-17T00:00:00",
          "2022-05-18T00:00:00",
          "2022-05-19T00:00:00",
          "2022-05-20T00:00:00",
          "2022-05-23T00:00:00",
          "2022-05-24T00:00:00",
          "2022-05-25T00:00:00",
          "2022-05-26T00:00:00",
          "2022-05-27T00:00:00",
          "2022-05-31T00:00:00",
          "2022-06-01T00:00:00",
          "2022-06-02T00:00:00",
          "2022-06-03T00:00:00",
          "2022-06-06T00:00:00"
         ],
         "y": [
          27.5,
          29.219999313354492,
          29.459999084472656,
          28.600000381469727,
          27.3799991607666,
          26.68000030517578,
          27.110000610351562,
          27.510000228881836,
          25.989999771118164,
          27.229999542236328,
          27.639999389648438,
          27.639999389648438,
          29.68000030517578,
          30.90999984741211,
          31.100000381469727,
          30.969999313354492,
          29.290000915527344,
          27.40999984741211,
          26.850000381469727,
          26.200000762939453,
          27.18000030517578,
          27.489999771118164,
          23.709999084472656,
          22.59000015258789,
          21.68000030517578,
          20.530000686645508,
          21.770000457763672,
          21.06999969482422,
          20.350000381469727,
          21.110000610351562,
          20.5,
          19.600000381469727,
          19.959999084472656,
          18.579999923706055,
          17.510000228881836,
          17.09000015258789,
          17.200000762939453,
          18.18000030517578,
          19.489999771118164,
          18.81999969482422,
          18.1200008392334,
          18.399999618530273,
          18.309999465942383,
          19.540000915527344,
          18.979999542236328,
          18.010000228881836,
          16.040000915527344,
          15.020000457763672,
          14.699999809265137,
          15.229999542236328,
          15.609999656677246,
          15.050000190734863,
          15.0600004196167,
          15.34000015258789,
          14.180000305175781,
          14.380000114440918,
          14.90999984741211,
          14.960000038146973,
          15.420000076293945,
          15.0600004196167,
          15.630000114440918,
          14.710000038146973,
          14.960000038146973,
          16.200000762939453,
          16.739999771118164,
          15.5600004196167,
          14.890000343322754,
          15.0600004196167,
          15.149999618530273,
          15.949999809265137,
          16.010000228881836,
          13.880000114440918,
          13.180000305175781,
          13.680000305175781,
          14.319999694824219,
          13.680000305175781,
          13.460000038146973,
          13.420000076293945,
          13.220000267028809,
          12.34000015258789,
          13.229999542236328,
          13.479999542236328,
          13.1899995803833,
          13.350000381469727,
          12.5,
          11.579999923706055,
          11.149999618530273,
          10.760000228881836,
          10.880000114440918,
          11.670000076293945,
          11.59000015258789,
          11.029999732971191,
          10.289999961853027,
          10.850000381469727,
          12.0600004196167,
          11.84000015258789,
          13.279999732971191,
          12.609999656677246,
          13.029999732971191,
          12.5600004196167,
          12.6899995803833,
          12.199999809265137,
          12.819999694824219,
          12.770000457763672,
          13.09000015258789,
          12.460000038146973,
          13.289999961853027,
          13.420000076293945,
          12.819999694824219,
          12.680000305175781,
          12.109999656677246,
          11.770000457763672,
          12.119999885559082,
          12.199999809265137,
          12.789999961853027,
          12.510000228881836,
          11.960000038146973,
          11.960000038146973,
          11.239999771118164,
          10.760000228881836,
          10.789999961853027,
          11.239999771118164,
          10.260000228881836,
          10.40999984741211,
          10.84000015258789,
          10.90999984741211,
          10.859999656677246,
          10.229999542236328,
          10.119999885559082,
          10.75,
          12.539999961853027,
          12.149999618530273,
          11.430000305175781,
          11.029999732971191,
          11.350000381469727,
          12.1899995803833,
          11.640000343322754,
          12.1899995803833,
          11.930000305175781,
          12.300000190734863,
          12.420000076293945,
          12.59000015258789,
          12.970000267028809,
          13.920000076293945,
          15.4399995803833,
          16.219999313354492,
          14.75,
          13.449999809265137,
          14,
          14.270000457763672,
          13.460000038146973
         ]
        }
       ],
       "layout": {
        "template": {
         "data": {
          "bar": [
           {
            "error_x": {
             "color": "#2a3f5f"
            },
            "error_y": {
             "color": "#2a3f5f"
            },
            "marker": {
             "line": {
              "color": "#E5ECF6",
              "width": 0.5
             },
             "pattern": {
              "fillmode": "overlay",
              "size": 10,
              "solidity": 0.2
             }
            },
            "type": "bar"
           }
          ],
          "barpolar": [
           {
            "marker": {
             "line": {
              "color": "#E5ECF6",
              "width": 0.5
             },
             "pattern": {
              "fillmode": "overlay",
              "size": 10,
              "solidity": 0.2
             }
            },
            "type": "barpolar"
           }
          ],
          "carpet": [
           {
            "aaxis": {
             "endlinecolor": "#2a3f5f",
             "gridcolor": "white",
             "linecolor": "white",
             "minorgridcolor": "white",
             "startlinecolor": "#2a3f5f"
            },
            "baxis": {
             "endlinecolor": "#2a3f5f",
             "gridcolor": "white",
             "linecolor": "white",
             "minorgridcolor": "white",
             "startlinecolor": "#2a3f5f"
            },
            "type": "carpet"
           }
          ],
          "choropleth": [
           {
            "colorbar": {
             "outlinewidth": 0,
             "ticks": ""
            },
            "type": "choropleth"
           }
          ],
          "contour": [
           {
            "colorbar": {
             "outlinewidth": 0,
             "ticks": ""
            },
            "colorscale": [
             [
              0,
              "#0d0887"
             ],
             [
              0.1111111111111111,
              "#46039f"
             ],
             [
              0.2222222222222222,
              "#7201a8"
             ],
             [
              0.3333333333333333,
              "#9c179e"
             ],
             [
              0.4444444444444444,
              "#bd3786"
             ],
             [
              0.5555555555555556,
              "#d8576b"
             ],
             [
              0.6666666666666666,
              "#ed7953"
             ],
             [
              0.7777777777777778,
              "#fb9f3a"
             ],
             [
              0.8888888888888888,
              "#fdca26"
             ],
             [
              1,
              "#f0f921"
             ]
            ],
            "type": "contour"
           }
          ],
          "contourcarpet": [
           {
            "colorbar": {
             "outlinewidth": 0,
             "ticks": ""
            },
            "type": "contourcarpet"
           }
          ],
          "heatmap": [
           {
            "colorbar": {
             "outlinewidth": 0,
             "ticks": ""
            },
            "colorscale": [
             [
              0,
              "#0d0887"
             ],
             [
              0.1111111111111111,
              "#46039f"
             ],
             [
              0.2222222222222222,
              "#7201a8"
             ],
             [
              0.3333333333333333,
              "#9c179e"
             ],
             [
              0.4444444444444444,
              "#bd3786"
             ],
             [
              0.5555555555555556,
              "#d8576b"
             ],
             [
              0.6666666666666666,
              "#ed7953"
             ],
             [
              0.7777777777777778,
              "#fb9f3a"
             ],
             [
              0.8888888888888888,
              "#fdca26"
             ],
             [
              1,
              "#f0f921"
             ]
            ],
            "type": "heatmap"
           }
          ],
          "heatmapgl": [
           {
            "colorbar": {
             "outlinewidth": 0,
             "ticks": ""
            },
            "colorscale": [
             [
              0,
              "#0d0887"
             ],
             [
              0.1111111111111111,
              "#46039f"
             ],
             [
              0.2222222222222222,
              "#7201a8"
             ],
             [
              0.3333333333333333,
              "#9c179e"
             ],
             [
              0.4444444444444444,
              "#bd3786"
             ],
             [
              0.5555555555555556,
              "#d8576b"
             ],
             [
              0.6666666666666666,
              "#ed7953"
             ],
             [
              0.7777777777777778,
              "#fb9f3a"
             ],
             [
              0.8888888888888888,
              "#fdca26"
             ],
             [
              1,
              "#f0f921"
             ]
            ],
            "type": "heatmapgl"
           }
          ],
          "histogram": [
           {
            "marker": {
             "pattern": {
              "fillmode": "overlay",
              "size": 10,
              "solidity": 0.2
             }
            },
            "type": "histogram"
           }
          ],
          "histogram2d": [
           {
            "colorbar": {
             "outlinewidth": 0,
             "ticks": ""
            },
            "colorscale": [
             [
              0,
              "#0d0887"
             ],
             [
              0.1111111111111111,
              "#46039f"
             ],
             [
              0.2222222222222222,
              "#7201a8"
             ],
             [
              0.3333333333333333,
              "#9c179e"
             ],
             [
              0.4444444444444444,
              "#bd3786"
             ],
             [
              0.5555555555555556,
              "#d8576b"
             ],
             [
              0.6666666666666666,
              "#ed7953"
             ],
             [
              0.7777777777777778,
              "#fb9f3a"
             ],
             [
              0.8888888888888888,
              "#fdca26"
             ],
             [
              1,
              "#f0f921"
             ]
            ],
            "type": "histogram2d"
           }
          ],
          "histogram2dcontour": [
           {
            "colorbar": {
             "outlinewidth": 0,
             "ticks": ""
            },
            "colorscale": [
             [
              0,
              "#0d0887"
             ],
             [
              0.1111111111111111,
              "#46039f"
             ],
             [
              0.2222222222222222,
              "#7201a8"
             ],
             [
              0.3333333333333333,
              "#9c179e"
             ],
             [
              0.4444444444444444,
              "#bd3786"
             ],
             [
              0.5555555555555556,
              "#d8576b"
             ],
             [
              0.6666666666666666,
              "#ed7953"
             ],
             [
              0.7777777777777778,
              "#fb9f3a"
             ],
             [
              0.8888888888888888,
              "#fdca26"
             ],
             [
              1,
              "#f0f921"
             ]
            ],
            "type": "histogram2dcontour"
           }
          ],
          "mesh3d": [
           {
            "colorbar": {
             "outlinewidth": 0,
             "ticks": ""
            },
            "type": "mesh3d"
           }
          ],
          "parcoords": [
           {
            "line": {
             "colorbar": {
              "outlinewidth": 0,
              "ticks": ""
             }
            },
            "type": "parcoords"
           }
          ],
          "pie": [
           {
            "automargin": true,
            "type": "pie"
           }
          ],
          "scatter": [
           {
            "fillpattern": {
             "fillmode": "overlay",
             "size": 10,
             "solidity": 0.2
            },
            "type": "scatter"
           }
          ],
          "scatter3d": [
           {
            "line": {
             "colorbar": {
              "outlinewidth": 0,
              "ticks": ""
             }
            },
            "marker": {
             "colorbar": {
              "outlinewidth": 0,
              "ticks": ""
             }
            },
            "type": "scatter3d"
           }
          ],
          "scattercarpet": [
           {
            "marker": {
             "colorbar": {
              "outlinewidth": 0,
              "ticks": ""
             }
            },
            "type": "scattercarpet"
           }
          ],
          "scattergeo": [
           {
            "marker": {
             "colorbar": {
              "outlinewidth": 0,
              "ticks": ""
             }
            },
            "type": "scattergeo"
           }
          ],
          "scattergl": [
           {
            "marker": {
             "colorbar": {
              "outlinewidth": 0,
              "ticks": ""
             }
            },
            "type": "scattergl"
           }
          ],
          "scattermapbox": [
           {
            "marker": {
             "colorbar": {
              "outlinewidth": 0,
              "ticks": ""
             }
            },
            "type": "scattermapbox"
           }
          ],
          "scatterpolar": [
           {
            "marker": {
             "colorbar": {
              "outlinewidth": 0,
              "ticks": ""
             }
            },
            "type": "scatterpolar"
           }
          ],
          "scatterpolargl": [
           {
            "marker": {
             "colorbar": {
              "outlinewidth": 0,
              "ticks": ""
             }
            },
            "type": "scatterpolargl"
           }
          ],
          "scatterternary": [
           {
            "marker": {
             "colorbar": {
              "outlinewidth": 0,
              "ticks": ""
             }
            },
            "type": "scatterternary"
           }
          ],
          "surface": [
           {
            "colorbar": {
             "outlinewidth": 0,
             "ticks": ""
            },
            "colorscale": [
             [
              0,
              "#0d0887"
             ],
             [
              0.1111111111111111,
              "#46039f"
             ],
             [
              0.2222222222222222,
              "#7201a8"
             ],
             [
              0.3333333333333333,
              "#9c179e"
             ],
             [
              0.4444444444444444,
              "#bd3786"
             ],
             [
              0.5555555555555556,
              "#d8576b"
             ],
             [
              0.6666666666666666,
              "#ed7953"
             ],
             [
              0.7777777777777778,
              "#fb9f3a"
             ],
             [
              0.8888888888888888,
              "#fdca26"
             ],
             [
              1,
              "#f0f921"
             ]
            ],
            "type": "surface"
           }
          ],
          "table": [
           {
            "cells": {
             "fill": {
              "color": "#EBF0F8"
             },
             "line": {
              "color": "white"
             }
            },
            "header": {
             "fill": {
              "color": "#C8D4E3"
             },
             "line": {
              "color": "white"
             }
            },
            "type": "table"
           }
          ]
         },
         "layout": {
          "annotationdefaults": {
           "arrowcolor": "#2a3f5f",
           "arrowhead": 0,
           "arrowwidth": 1
          },
          "autotypenumbers": "strict",
          "coloraxis": {
           "colorbar": {
            "outlinewidth": 0,
            "ticks": ""
           }
          },
          "colorscale": {
           "diverging": [
            [
             0,
             "#8e0152"
            ],
            [
             0.1,
             "#c51b7d"
            ],
            [
             0.2,
             "#de77ae"
            ],
            [
             0.3,
             "#f1b6da"
            ],
            [
             0.4,
             "#fde0ef"
            ],
            [
             0.5,
             "#f7f7f7"
            ],
            [
             0.6,
             "#e6f5d0"
            ],
            [
             0.7,
             "#b8e186"
            ],
            [
             0.8,
             "#7fbc41"
            ],
            [
             0.9,
             "#4d9221"
            ],
            [
             1,
             "#276419"
            ]
           ],
           "sequential": [
            [
             0,
             "#0d0887"
            ],
            [
             0.1111111111111111,
             "#46039f"
            ],
            [
             0.2222222222222222,
             "#7201a8"
            ],
            [
             0.3333333333333333,
             "#9c179e"
            ],
            [
             0.4444444444444444,
             "#bd3786"
            ],
            [
             0.5555555555555556,
             "#d8576b"
            ],
            [
             0.6666666666666666,
             "#ed7953"
            ],
            [
             0.7777777777777778,
             "#fb9f3a"
            ],
            [
             0.8888888888888888,
             "#fdca26"
            ],
            [
             1,
             "#f0f921"
            ]
           ],
           "sequentialminus": [
            [
             0,
             "#0d0887"
            ],
            [
             0.1111111111111111,
             "#46039f"
            ],
            [
             0.2222222222222222,
             "#7201a8"
            ],
            [
             0.3333333333333333,
             "#9c179e"
            ],
            [
             0.4444444444444444,
             "#bd3786"
            ],
            [
             0.5555555555555556,
             "#d8576b"
            ],
            [
             0.6666666666666666,
             "#ed7953"
            ],
            [
             0.7777777777777778,
             "#fb9f3a"
            ],
            [
             0.8888888888888888,
             "#fdca26"
            ],
            [
             1,
             "#f0f921"
            ]
           ]
          },
          "colorway": [
           "#636efa",
           "#EF553B",
           "#00cc96",
           "#ab63fa",
           "#FFA15A",
           "#19d3f3",
           "#FF6692",
           "#B6E880",
           "#FF97FF",
           "#FECB52"
          ],
          "font": {
           "color": "#2a3f5f"
          },
          "geo": {
           "bgcolor": "white",
           "lakecolor": "white",
           "landcolor": "#E5ECF6",
           "showlakes": true,
           "showland": true,
           "subunitcolor": "white"
          },
          "hoverlabel": {
           "align": "left"
          },
          "hovermode": "closest",
          "mapbox": {
           "style": "light"
          },
          "paper_bgcolor": "white",
          "plot_bgcolor": "#E5ECF6",
          "polar": {
           "angularaxis": {
            "gridcolor": "white",
            "linecolor": "white",
            "ticks": ""
           },
           "bgcolor": "#E5ECF6",
           "radialaxis": {
            "gridcolor": "white",
            "linecolor": "white",
            "ticks": ""
           }
          },
          "scene": {
           "xaxis": {
            "backgroundcolor": "#E5ECF6",
            "gridcolor": "white",
            "gridwidth": 2,
            "linecolor": "white",
            "showbackground": true,
            "ticks": "",
            "zerolinecolor": "white"
           },
           "yaxis": {
            "backgroundcolor": "#E5ECF6",
            "gridcolor": "white",
            "gridwidth": 2,
            "linecolor": "white",
            "showbackground": true,
            "ticks": "",
            "zerolinecolor": "white"
           },
           "zaxis": {
            "backgroundcolor": "#E5ECF6",
            "gridcolor": "white",
            "gridwidth": 2,
            "linecolor": "white",
            "showbackground": true,
            "ticks": "",
            "zerolinecolor": "white"
           }
          },
          "shapedefaults": {
           "line": {
            "color": "#2a3f5f"
           }
          },
          "ternary": {
           "aaxis": {
            "gridcolor": "white",
            "linecolor": "white",
            "ticks": ""
           },
           "baxis": {
            "gridcolor": "white",
            "linecolor": "white",
            "ticks": ""
           },
           "bgcolor": "#E5ECF6",
           "caxis": {
            "gridcolor": "white",
            "linecolor": "white",
            "ticks": ""
           }
          },
          "title": {
           "x": 0.05
          },
          "xaxis": {
           "automargin": true,
           "gridcolor": "white",
           "linecolor": "white",
           "ticks": "",
           "title": {
            "standoff": 15
           },
           "zerolinecolor": "white",
           "zerolinewidth": 2
          },
          "yaxis": {
           "automargin": true,
           "gridcolor": "white",
           "linecolor": "white",
           "ticks": "",
           "title": {
            "standoff": 15
           },
           "zerolinecolor": "white",
           "zerolinewidth": 2
          }
         }
        },
        "title": {
         "text": "UDEMY Simple Moving Average"
        },
        "xaxis": {
         "rangeslider": {
          "visible": true
         },
         "title": {
          "text": "Zoom on dates using slider"
         }
        },
        "yaxis": {
         "title": {
          "text": "Stock price"
         }
        }
       }
      },
      "text/html": [
       "<div>                            <div id=\"1de2dd7a-5b9a-441d-9f5a-513d083aeaa0\" class=\"plotly-graph-div\" style=\"height:525px; width:100%;\"></div>            <script type=\"text/javascript\">                require([\"plotly\"], function(Plotly) {                    window.PLOTLYENV=window.PLOTLYENV || {};                                    if (document.getElementById(\"1de2dd7a-5b9a-441d-9f5a-513d083aeaa0\")) {                    Plotly.newPlot(                        \"1de2dd7a-5b9a-441d-9f5a-513d083aeaa0\",                        [{\"line\":{\"color\":\"red\",\"width\":1},\"name\":\"MA5\",\"x\":[\"2021-10-29T00:00:00\",\"2021-11-01T00:00:00\",\"2021-11-02T00:00:00\",\"2021-11-03T00:00:00\",\"2021-11-04T00:00:00\",\"2021-11-05T00:00:00\",\"2021-11-08T00:00:00\",\"2021-11-09T00:00:00\",\"2021-11-10T00:00:00\",\"2021-11-11T00:00:00\",\"2021-11-12T00:00:00\",\"2021-11-15T00:00:00\",\"2021-11-16T00:00:00\",\"2021-11-17T00:00:00\",\"2021-11-18T00:00:00\",\"2021-11-19T00:00:00\",\"2021-11-22T00:00:00\",\"2021-11-23T00:00:00\",\"2021-11-24T00:00:00\",\"2021-11-26T00:00:00\",\"2021-11-29T00:00:00\",\"2021-11-30T00:00:00\",\"2021-12-01T00:00:00\",\"2021-12-02T00:00:00\",\"2021-12-03T00:00:00\",\"2021-12-06T00:00:00\",\"2021-12-07T00:00:00\",\"2021-12-08T00:00:00\",\"2021-12-09T00:00:00\",\"2021-12-10T00:00:00\",\"2021-12-13T00:00:00\",\"2021-12-14T00:00:00\",\"2021-12-15T00:00:00\",\"2021-12-16T00:00:00\",\"2021-12-17T00:00:00\",\"2021-12-20T00:00:00\",\"2021-12-21T00:00:00\",\"2021-12-22T00:00:00\",\"2021-12-23T00:00:00\",\"2021-12-27T00:00:00\",\"2021-12-28T00:00:00\",\"2021-12-29T00:00:00\",\"2021-12-30T00:00:00\",\"2021-12-31T00:00:00\",\"2022-01-03T00:00:00\",\"2022-01-04T00:00:00\",\"2022-01-05T00:00:00\",\"2022-01-06T00:00:00\",\"2022-01-07T00:00:00\",\"2022-01-10T00:00:00\",\"2022-01-11T00:00:00\",\"2022-01-12T00:00:00\",\"2022-01-13T00:00:00\",\"2022-01-14T00:00:00\",\"2022-01-18T00:00:00\",\"2022-01-19T00:00:00\",\"2022-01-20T00:00:00\",\"2022-01-21T00:00:00\",\"2022-01-24T00:00:00\",\"2022-01-25T00:00:00\",\"2022-01-26T00:00:00\",\"2022-01-27T00:00:00\",\"2022-01-28T00:00:00\",\"2022-01-31T00:00:00\",\"2022-02-01T00:00:00\",\"2022-02-02T00:00:00\",\"2022-02-03T00:00:00\",\"2022-02-04T00:00:00\",\"2022-02-07T00:00:00\",\"2022-02-08T00:00:00\",\"2022-02-09T00:00:00\",\"2022-02-10T00:00:00\",\"2022-02-11T00:00:00\",\"2022-02-14T00:00:00\",\"2022-02-15T00:00:00\",\"2022-02-16T00:00:00\",\"2022-02-17T00:00:00\",\"2022-02-18T00:00:00\",\"2022-02-22T00:00:00\",\"2022-02-23T00:00:00\",\"2022-02-24T00:00:00\",\"2022-02-25T00:00:00\",\"2022-02-28T00:00:00\",\"2022-03-01T00:00:00\",\"2022-03-02T00:00:00\",\"2022-03-03T00:00:00\",\"2022-03-04T00:00:00\",\"2022-03-07T00:00:00\",\"2022-03-08T00:00:00\",\"2022-03-09T00:00:00\",\"2022-03-10T00:00:00\",\"2022-03-11T00:00:00\",\"2022-03-14T00:00:00\",\"2022-03-15T00:00:00\",\"2022-03-16T00:00:00\",\"2022-03-17T00:00:00\",\"2022-03-18T00:00:00\",\"2022-03-21T00:00:00\",\"2022-03-22T00:00:00\",\"2022-03-23T00:00:00\",\"2022-03-24T00:00:00\",\"2022-03-25T00:00:00\",\"2022-03-28T00:00:00\",\"2022-03-29T00:00:00\",\"2022-03-30T00:00:00\",\"2022-03-31T00:00:00\",\"2022-04-01T00:00:00\",\"2022-04-04T00:00:00\",\"2022-04-05T00:00:00\",\"2022-04-06T00:00:00\",\"2022-04-07T00:00:00\",\"2022-04-08T00:00:00\",\"2022-04-11T00:00:00\",\"2022-04-12T00:00:00\",\"2022-04-13T00:00:00\",\"2022-04-14T00:00:00\",\"2022-04-18T00:00:00\",\"2022-04-19T00:00:00\",\"2022-04-20T00:00:00\",\"2022-04-21T00:00:00\",\"2022-04-22T00:00:00\",\"2022-04-25T00:00:00\",\"2022-04-26T00:00:00\",\"2022-04-27T00:00:00\",\"2022-04-28T00:00:00\",\"2022-04-29T00:00:00\",\"2022-05-02T00:00:00\",\"2022-05-03T00:00:00\",\"2022-05-04T00:00:00\",\"2022-05-05T00:00:00\",\"2022-05-06T00:00:00\",\"2022-05-09T00:00:00\",\"2022-05-10T00:00:00\",\"2022-05-11T00:00:00\",\"2022-05-12T00:00:00\",\"2022-05-13T00:00:00\",\"2022-05-16T00:00:00\",\"2022-05-17T00:00:00\",\"2022-05-18T00:00:00\",\"2022-05-19T00:00:00\",\"2022-05-20T00:00:00\",\"2022-05-23T00:00:00\",\"2022-05-24T00:00:00\",\"2022-05-25T00:00:00\",\"2022-05-26T00:00:00\",\"2022-05-27T00:00:00\",\"2022-05-31T00:00:00\",\"2022-06-01T00:00:00\",\"2022-06-02T00:00:00\",\"2022-06-03T00:00:00\",\"2022-06-06T00:00:00\"],\"y\":[null,null,null,null,28.431999588012694,28.26799964904785,27.845999908447265,27.456000137329102,26.93400001525879,26.904000091552735,27.095999908447265,27.20199966430664,27.63599967956543,28.61999969482422,29.3939998626709,30.059999847412108,30.39000015258789,29.936000061035156,29.12400016784668,28.144000244140624,27.386000442504884,27.026000213623046,26.286000061035157,25.43400001525879,24.529999923706054,23.2,22.0560001373291,21.528000259399413,21.08000030517578,20.966000366210938,20.960000228881835,20.526000213623046,20.304000091552734,19.95,19.229999923706053,18.547999954223634,18.068000030517577,17.7120002746582,17.894000244140624,18.1560001373291,18.362000274658204,18.602000045776368,18.62799987792969,18.638000106811525,18.670000076293945,18.647999954223632,18.17600021362305,17.518000411987305,16.550000190734863,15.800000190734863,15.320000076293946,15.121999931335449,15.129999923706055,15.257999992370605,15.048000144958497,14.80200023651123,14.77400016784668,14.754000091552735,14.770000076293945,14.946000099182129,15.196000099182129,15.156000137329102,15.156000137329102,15.312000274658203,15.648000144958496,15.634000205993653,15.670000267028808,15.690000343322755,15.480000114440918,15.322000122070312,15.41200008392334,15.210000038146973,14.83400001525879,14.54000015258789,14.214000129699707,13.748000144958496,13.664000129699707,13.71200008392334,13.620000076293945,13.224000167846679,13.134000015258788,13.13799991607666,13.091999816894532,13.117999839782716,13.149999809265136,12.819999885559081,12.353999900817872,11.868000030517578,11.373999977111817,11.207999992370606,11.210000038146973,11.186000061035156,11.092000007629395,11.086000061035156,11.164000129699707,11.214000129699707,11.664000129699707,12.128000068664551,12.563999938964844,12.663999938964844,12.833999824523925,12.617999839782716,12.65999984741211,12.607999992370605,12.713999938964843,12.668000030517579,12.886000061035157,13.006000137329101,13.01599998474121,12.934000015258789,12.863999938964843,12.560000038146972,12.3,12.176000022888184,12.197999954223633,12.27800006866455,12.315999984741211,12.284000015258789,12.092000007629395,11.686000061035156,11.342000007629395,11.197999954223633,10.857999992370605,10.692000007629394,10.707999992370606,10.731999969482422,10.655999946594239,10.649999809265136,10.591999816894532,10.573999786376953,10.899999809265136,11.157999801635743,11.397999954223632,11.579999923706055,11.7,11.629999923706055,11.52800006866455,11.679999923706054,11.860000038146973,12.05,12.09600009918213,12.286000061035157,12.442000198364259,12.84000015258789,13.468000030517578,14.227999877929687,14.65999984741211,14.755999755859374,14.771999740600586,14.53799991607666,13.986000061035156],\"type\":\"scatter\"},{\"line\":{\"color\":\"green\",\"width\":1},\"name\":\"MA20\",\"x\":[\"2021-10-29T00:00:00\",\"2021-11-01T00:00:00\",\"2021-11-02T00:00:00\",\"2021-11-03T00:00:00\",\"2021-11-04T00:00:00\",\"2021-11-05T00:00:00\",\"2021-11-08T00:00:00\",\"2021-11-09T00:00:00\",\"2021-11-10T00:00:00\",\"2021-11-11T00:00:00\",\"2021-11-12T00:00:00\",\"2021-11-15T00:00:00\",\"2021-11-16T00:00:00\",\"2021-11-17T00:00:00\",\"2021-11-18T00:00:00\",\"2021-11-19T00:00:00\",\"2021-11-22T00:00:00\",\"2021-11-23T00:00:00\",\"2021-11-24T00:00:00\",\"2021-11-26T00:00:00\",\"2021-11-29T00:00:00\",\"2021-11-30T00:00:00\",\"2021-12-01T00:00:00\",\"2021-12-02T00:00:00\",\"2021-12-03T00:00:00\",\"2021-12-06T00:00:00\",\"2021-12-07T00:00:00\",\"2021-12-08T00:00:00\",\"2021-12-09T00:00:00\",\"2021-12-10T00:00:00\",\"2021-12-13T00:00:00\",\"2021-12-14T00:00:00\",\"2021-12-15T00:00:00\",\"2021-12-16T00:00:00\",\"2021-12-17T00:00:00\",\"2021-12-20T00:00:00\",\"2021-12-21T00:00:00\",\"2021-12-22T00:00:00\",\"2021-12-23T00:00:00\",\"2021-12-27T00:00:00\",\"2021-12-28T00:00:00\",\"2021-12-29T00:00:00\",\"2021-12-30T00:00:00\",\"2021-12-31T00:00:00\",\"2022-01-03T00:00:00\",\"2022-01-04T00:00:00\",\"2022-01-05T00:00:00\",\"2022-01-06T00:00:00\",\"2022-01-07T00:00:00\",\"2022-01-10T00:00:00\",\"2022-01-11T00:00:00\",\"2022-01-12T00:00:00\",\"2022-01-13T00:00:00\",\"2022-01-14T00:00:00\",\"2022-01-18T00:00:00\",\"2022-01-19T00:00:00\",\"2022-01-20T00:00:00\",\"2022-01-21T00:00:00\",\"2022-01-24T00:00:00\",\"2022-01-25T00:00:00\",\"2022-01-26T00:00:00\",\"2022-01-27T00:00:00\",\"2022-01-28T00:00:00\",\"2022-01-31T00:00:00\",\"2022-02-01T00:00:00\",\"2022-02-02T00:00:00\",\"2022-02-03T00:00:00\",\"2022-02-04T00:00:00\",\"2022-02-07T00:00:00\",\"2022-02-08T00:00:00\",\"2022-02-09T00:00:00\",\"2022-02-10T00:00:00\",\"2022-02-11T00:00:00\",\"2022-02-14T00:00:00\",\"2022-02-15T00:00:00\",\"2022-02-16T00:00:00\",\"2022-02-17T00:00:00\",\"2022-02-18T00:00:00\",\"2022-02-22T00:00:00\",\"2022-02-23T00:00:00\",\"2022-02-24T00:00:00\",\"2022-02-25T00:00:00\",\"2022-02-28T00:00:00\",\"2022-03-01T00:00:00\",\"2022-03-02T00:00:00\",\"2022-03-03T00:00:00\",\"2022-03-04T00:00:00\",\"2022-03-07T00:00:00\",\"2022-03-08T00:00:00\",\"2022-03-09T00:00:00\",\"2022-03-10T00:00:00\",\"2022-03-11T00:00:00\",\"2022-03-14T00:00:00\",\"2022-03-15T00:00:00\",\"2022-03-16T00:00:00\",\"2022-03-17T00:00:00\",\"2022-03-18T00:00:00\",\"2022-03-21T00:00:00\",\"2022-03-22T00:00:00\",\"2022-03-23T00:00:00\",\"2022-03-24T00:00:00\",\"2022-03-25T00:00:00\",\"2022-03-28T00:00:00\",\"2022-03-29T00:00:00\",\"2022-03-30T00:00:00\",\"2022-03-31T00:00:00\",\"2022-04-01T00:00:00\",\"2022-04-04T00:00:00\",\"2022-04-05T00:00:00\",\"2022-04-06T00:00:00\",\"2022-04-07T00:00:00\",\"2022-04-08T00:00:00\",\"2022-04-11T00:00:00\",\"2022-04-12T00:00:00\",\"2022-04-13T00:00:00\",\"2022-04-14T00:00:00\",\"2022-04-18T00:00:00\",\"2022-04-19T00:00:00\",\"2022-04-20T00:00:00\",\"2022-04-21T00:00:00\",\"2022-04-22T00:00:00\",\"2022-04-25T00:00:00\",\"2022-04-26T00:00:00\",\"2022-04-27T00:00:00\",\"2022-04-28T00:00:00\",\"2022-04-29T00:00:00\",\"2022-05-02T00:00:00\",\"2022-05-03T00:00:00\",\"2022-05-04T00:00:00\",\"2022-05-05T00:00:00\",\"2022-05-06T00:00:00\",\"2022-05-09T00:00:00\",\"2022-05-10T00:00:00\",\"2022-05-11T00:00:00\",\"2022-05-12T00:00:00\",\"2022-05-13T00:00:00\",\"2022-05-16T00:00:00\",\"2022-05-17T00:00:00\",\"2022-05-18T00:00:00\",\"2022-05-19T00:00:00\",\"2022-05-20T00:00:00\",\"2022-05-23T00:00:00\",\"2022-05-24T00:00:00\",\"2022-05-25T00:00:00\",\"2022-05-26T00:00:00\",\"2022-05-27T00:00:00\",\"2022-05-31T00:00:00\",\"2022-06-01T00:00:00\",\"2022-06-02T00:00:00\",\"2022-06-03T00:00:00\",\"2022-06-06T00:00:00\"],\"y\":[null,null,null,null,null,null,null,null,null,null,null,null,null,null,null,null,null,null,null,28.21849994659424,28.20249996185303,28.11599998474121,27.82849998474121,27.52799997329712,27.243000030517578,26.935500049591063,26.66850004196167,26.34650001525879,26.064500045776366,25.75850009918213,25.401500129699706,24.99950017929077,24.513500118255614,23.897000122070313,23.217500114440917,22.523500156402587,21.919000148773193,21.457500171661376,21.089500141143798,20.72050008773804,20.267500114440917,19.813000106811522,19.54300012588501,19.390500164031984,19.25550012588501,19.129500102996825,18.84300012588501,18.540500164031982,18.258000135421753,17.964000082015993,17.719500064849854,17.49200005531311,17.24700012207031,17.085000133514406,16.9185001373291,16.78300013542175,16.668500089645384,16.507500076293944,16.304000091552734,16.116000127792358,15.991500091552734,15.807000112533569,15.639500141143799,15.472500133514405,15.360500144958497,15.23800015449524,15.18050012588501,15.182500123977661,15.205000114440917,15.241000127792358,15.261000156402588,15.202500152587891,15.108500146865845,15.025500154495239,15.03250012397766,14.997500133514404,14.925000143051147,14.848000144958496,14.73800015449524,14.6020001411438,14.48200011253357,14.420500087738038,14.332000064849854,14.189500045776366,13.977500057220459,13.778500032424926,13.591499996185302,13.37649998664856,13.163000011444092,12.949000024795533,12.728000020980835,12.585500001907349,12.440999984741211,12.299499988555908,12.186500024795532,12.094500017166137,12.085500001907349,12.044999980926514,12.035499954223633,12.046499967575073,12.019499969482421,11.955499982833862,11.936999988555907,11.907999992370605,11.9375,11.981500005722046,12.088500022888184,12.221500015258789,12.318499994277953,12.369000005722047,12.394999980926514,12.432000017166137,12.523500013351441,12.590999984741211,12.627499961853028,12.660999965667724,12.594999980926513,12.5625,12.473000001907348,12.382999992370605,12.288000011444092,12.240000009536743,12.112000036239625,11.994000005722047,11.881500005722046,11.803999996185302,11.682499980926513,11.522999954223632,11.387999963760375,11.291499948501587,11.312999963760376,11.331999921798706,11.297499942779542,11.238999938964843,11.166999959945679,11.150999927520752,11.13499994277954,11.146499919891358,11.180999946594238,11.25799994468689,11.339499950408936,11.406999969482422,11.54249997138977,11.717999982833863,11.947999954223633,12.213499927520752,12.407999944686889,12.56899995803833,12.762999963760375,12.93899998664856,12.984999990463256],\"type\":\"scatter\"},{\"line\":{\"color\":\"blue\",\"width\":1},\"name\":\"Price\",\"x\":[\"2021-10-29T00:00:00\",\"2021-11-01T00:00:00\",\"2021-11-02T00:00:00\",\"2021-11-03T00:00:00\",\"2021-11-04T00:00:00\",\"2021-11-05T00:00:00\",\"2021-11-08T00:00:00\",\"2021-11-09T00:00:00\",\"2021-11-10T00:00:00\",\"2021-11-11T00:00:00\",\"2021-11-12T00:00:00\",\"2021-11-15T00:00:00\",\"2021-11-16T00:00:00\",\"2021-11-17T00:00:00\",\"2021-11-18T00:00:00\",\"2021-11-19T00:00:00\",\"2021-11-22T00:00:00\",\"2021-11-23T00:00:00\",\"2021-11-24T00:00:00\",\"2021-11-26T00:00:00\",\"2021-11-29T00:00:00\",\"2021-11-30T00:00:00\",\"2021-12-01T00:00:00\",\"2021-12-02T00:00:00\",\"2021-12-03T00:00:00\",\"2021-12-06T00:00:00\",\"2021-12-07T00:00:00\",\"2021-12-08T00:00:00\",\"2021-12-09T00:00:00\",\"2021-12-10T00:00:00\",\"2021-12-13T00:00:00\",\"2021-12-14T00:00:00\",\"2021-12-15T00:00:00\",\"2021-12-16T00:00:00\",\"2021-12-17T00:00:00\",\"2021-12-20T00:00:00\",\"2021-12-21T00:00:00\",\"2021-12-22T00:00:00\",\"2021-12-23T00:00:00\",\"2021-12-27T00:00:00\",\"2021-12-28T00:00:00\",\"2021-12-29T00:00:00\",\"2021-12-30T00:00:00\",\"2021-12-31T00:00:00\",\"2022-01-03T00:00:00\",\"2022-01-04T00:00:00\",\"2022-01-05T00:00:00\",\"2022-01-06T00:00:00\",\"2022-01-07T00:00:00\",\"2022-01-10T00:00:00\",\"2022-01-11T00:00:00\",\"2022-01-12T00:00:00\",\"2022-01-13T00:00:00\",\"2022-01-14T00:00:00\",\"2022-01-18T00:00:00\",\"2022-01-19T00:00:00\",\"2022-01-20T00:00:00\",\"2022-01-21T00:00:00\",\"2022-01-24T00:00:00\",\"2022-01-25T00:00:00\",\"2022-01-26T00:00:00\",\"2022-01-27T00:00:00\",\"2022-01-28T00:00:00\",\"2022-01-31T00:00:00\",\"2022-02-01T00:00:00\",\"2022-02-02T00:00:00\",\"2022-02-03T00:00:00\",\"2022-02-04T00:00:00\",\"2022-02-07T00:00:00\",\"2022-02-08T00:00:00\",\"2022-02-09T00:00:00\",\"2022-02-10T00:00:00\",\"2022-02-11T00:00:00\",\"2022-02-14T00:00:00\",\"2022-02-15T00:00:00\",\"2022-02-16T00:00:00\",\"2022-02-17T00:00:00\",\"2022-02-18T00:00:00\",\"2022-02-22T00:00:00\",\"2022-02-23T00:00:00\",\"2022-02-24T00:00:00\",\"2022-02-25T00:00:00\",\"2022-02-28T00:00:00\",\"2022-03-01T00:00:00\",\"2022-03-02T00:00:00\",\"2022-03-03T00:00:00\",\"2022-03-04T00:00:00\",\"2022-03-07T00:00:00\",\"2022-03-08T00:00:00\",\"2022-03-09T00:00:00\",\"2022-03-10T00:00:00\",\"2022-03-11T00:00:00\",\"2022-03-14T00:00:00\",\"2022-03-15T00:00:00\",\"2022-03-16T00:00:00\",\"2022-03-17T00:00:00\",\"2022-03-18T00:00:00\",\"2022-03-21T00:00:00\",\"2022-03-22T00:00:00\",\"2022-03-23T00:00:00\",\"2022-03-24T00:00:00\",\"2022-03-25T00:00:00\",\"2022-03-28T00:00:00\",\"2022-03-29T00:00:00\",\"2022-03-30T00:00:00\",\"2022-03-31T00:00:00\",\"2022-04-01T00:00:00\",\"2022-04-04T00:00:00\",\"2022-04-05T00:00:00\",\"2022-04-06T00:00:00\",\"2022-04-07T00:00:00\",\"2022-04-08T00:00:00\",\"2022-04-11T00:00:00\",\"2022-04-12T00:00:00\",\"2022-04-13T00:00:00\",\"2022-04-14T00:00:00\",\"2022-04-18T00:00:00\",\"2022-04-19T00:00:00\",\"2022-04-20T00:00:00\",\"2022-04-21T00:00:00\",\"2022-04-22T00:00:00\",\"2022-04-25T00:00:00\",\"2022-04-26T00:00:00\",\"2022-04-27T00:00:00\",\"2022-04-28T00:00:00\",\"2022-04-29T00:00:00\",\"2022-05-02T00:00:00\",\"2022-05-03T00:00:00\",\"2022-05-04T00:00:00\",\"2022-05-05T00:00:00\",\"2022-05-06T00:00:00\",\"2022-05-09T00:00:00\",\"2022-05-10T00:00:00\",\"2022-05-11T00:00:00\",\"2022-05-12T00:00:00\",\"2022-05-13T00:00:00\",\"2022-05-16T00:00:00\",\"2022-05-17T00:00:00\",\"2022-05-18T00:00:00\",\"2022-05-19T00:00:00\",\"2022-05-20T00:00:00\",\"2022-05-23T00:00:00\",\"2022-05-24T00:00:00\",\"2022-05-25T00:00:00\",\"2022-05-26T00:00:00\",\"2022-05-27T00:00:00\",\"2022-05-31T00:00:00\",\"2022-06-01T00:00:00\",\"2022-06-02T00:00:00\",\"2022-06-03T00:00:00\",\"2022-06-06T00:00:00\"],\"y\":[27.5,29.219999313354492,29.459999084472656,28.600000381469727,27.3799991607666,26.68000030517578,27.110000610351562,27.510000228881836,25.989999771118164,27.229999542236328,27.639999389648438,27.639999389648438,29.68000030517578,30.90999984741211,31.100000381469727,30.969999313354492,29.290000915527344,27.40999984741211,26.850000381469727,26.200000762939453,27.18000030517578,27.489999771118164,23.709999084472656,22.59000015258789,21.68000030517578,20.530000686645508,21.770000457763672,21.06999969482422,20.350000381469727,21.110000610351562,20.5,19.600000381469727,19.959999084472656,18.579999923706055,17.510000228881836,17.09000015258789,17.200000762939453,18.18000030517578,19.489999771118164,18.81999969482422,18.1200008392334,18.399999618530273,18.309999465942383,19.540000915527344,18.979999542236328,18.010000228881836,16.040000915527344,15.020000457763672,14.699999809265137,15.229999542236328,15.609999656677246,15.050000190734863,15.0600004196167,15.34000015258789,14.180000305175781,14.380000114440918,14.90999984741211,14.960000038146973,15.420000076293945,15.0600004196167,15.630000114440918,14.710000038146973,14.960000038146973,16.200000762939453,16.739999771118164,15.5600004196167,14.890000343322754,15.0600004196167,15.149999618530273,15.949999809265137,16.010000228881836,13.880000114440918,13.180000305175781,13.680000305175781,14.319999694824219,13.680000305175781,13.460000038146973,13.420000076293945,13.220000267028809,12.34000015258789,13.229999542236328,13.479999542236328,13.1899995803833,13.350000381469727,12.5,11.579999923706055,11.149999618530273,10.760000228881836,10.880000114440918,11.670000076293945,11.59000015258789,11.029999732971191,10.289999961853027,10.850000381469727,12.0600004196167,11.84000015258789,13.279999732971191,12.609999656677246,13.029999732971191,12.5600004196167,12.6899995803833,12.199999809265137,12.819999694824219,12.770000457763672,13.09000015258789,12.460000038146973,13.289999961853027,13.420000076293945,12.819999694824219,12.680000305175781,12.109999656677246,11.770000457763672,12.119999885559082,12.199999809265137,12.789999961853027,12.510000228881836,11.960000038146973,11.960000038146973,11.239999771118164,10.760000228881836,10.789999961853027,11.239999771118164,10.260000228881836,10.40999984741211,10.84000015258789,10.90999984741211,10.859999656677246,10.229999542236328,10.119999885559082,10.75,12.539999961853027,12.149999618530273,11.430000305175781,11.029999732971191,11.350000381469727,12.1899995803833,11.640000343322754,12.1899995803833,11.930000305175781,12.300000190734863,12.420000076293945,12.59000015258789,12.970000267028809,13.920000076293945,15.4399995803833,16.219999313354492,14.75,13.449999809265137,14.0,14.270000457763672,13.460000038146973],\"type\":\"scatter\"}],                        {\"template\":{\"data\":{\"histogram2dcontour\":[{\"type\":\"histogram2dcontour\",\"colorbar\":{\"outlinewidth\":0,\"ticks\":\"\"},\"colorscale\":[[0.0,\"#0d0887\"],[0.1111111111111111,\"#46039f\"],[0.2222222222222222,\"#7201a8\"],[0.3333333333333333,\"#9c179e\"],[0.4444444444444444,\"#bd3786\"],[0.5555555555555556,\"#d8576b\"],[0.6666666666666666,\"#ed7953\"],[0.7777777777777778,\"#fb9f3a\"],[0.8888888888888888,\"#fdca26\"],[1.0,\"#f0f921\"]]}],\"choropleth\":[{\"type\":\"choropleth\",\"colorbar\":{\"outlinewidth\":0,\"ticks\":\"\"}}],\"histogram2d\":[{\"type\":\"histogram2d\",\"colorbar\":{\"outlinewidth\":0,\"ticks\":\"\"},\"colorscale\":[[0.0,\"#0d0887\"],[0.1111111111111111,\"#46039f\"],[0.2222222222222222,\"#7201a8\"],[0.3333333333333333,\"#9c179e\"],[0.4444444444444444,\"#bd3786\"],[0.5555555555555556,\"#d8576b\"],[0.6666666666666666,\"#ed7953\"],[0.7777777777777778,\"#fb9f3a\"],[0.8888888888888888,\"#fdca26\"],[1.0,\"#f0f921\"]]}],\"heatmap\":[{\"type\":\"heatmap\",\"colorbar\":{\"outlinewidth\":0,\"ticks\":\"\"},\"colorscale\":[[0.0,\"#0d0887\"],[0.1111111111111111,\"#46039f\"],[0.2222222222222222,\"#7201a8\"],[0.3333333333333333,\"#9c179e\"],[0.4444444444444444,\"#bd3786\"],[0.5555555555555556,\"#d8576b\"],[0.6666666666666666,\"#ed7953\"],[0.7777777777777778,\"#fb9f3a\"],[0.8888888888888888,\"#fdca26\"],[1.0,\"#f0f921\"]]}],\"heatmapgl\":[{\"type\":\"heatmapgl\",\"colorbar\":{\"outlinewidth\":0,\"ticks\":\"\"},\"colorscale\":[[0.0,\"#0d0887\"],[0.1111111111111111,\"#46039f\"],[0.2222222222222222,\"#7201a8\"],[0.3333333333333333,\"#9c179e\"],[0.4444444444444444,\"#bd3786\"],[0.5555555555555556,\"#d8576b\"],[0.6666666666666666,\"#ed7953\"],[0.7777777777777778,\"#fb9f3a\"],[0.8888888888888888,\"#fdca26\"],[1.0,\"#f0f921\"]]}],\"contourcarpet\":[{\"type\":\"contourcarpet\",\"colorbar\":{\"outlinewidth\":0,\"ticks\":\"\"}}],\"contour\":[{\"type\":\"contour\",\"colorbar\":{\"outlinewidth\":0,\"ticks\":\"\"},\"colorscale\":[[0.0,\"#0d0887\"],[0.1111111111111111,\"#46039f\"],[0.2222222222222222,\"#7201a8\"],[0.3333333333333333,\"#9c179e\"],[0.4444444444444444,\"#bd3786\"],[0.5555555555555556,\"#d8576b\"],[0.6666666666666666,\"#ed7953\"],[0.7777777777777778,\"#fb9f3a\"],[0.8888888888888888,\"#fdca26\"],[1.0,\"#f0f921\"]]}],\"surface\":[{\"type\":\"surface\",\"colorbar\":{\"outlinewidth\":0,\"ticks\":\"\"},\"colorscale\":[[0.0,\"#0d0887\"],[0.1111111111111111,\"#46039f\"],[0.2222222222222222,\"#7201a8\"],[0.3333333333333333,\"#9c179e\"],[0.4444444444444444,\"#bd3786\"],[0.5555555555555556,\"#d8576b\"],[0.6666666666666666,\"#ed7953\"],[0.7777777777777778,\"#fb9f3a\"],[0.8888888888888888,\"#fdca26\"],[1.0,\"#f0f921\"]]}],\"mesh3d\":[{\"type\":\"mesh3d\",\"colorbar\":{\"outlinewidth\":0,\"ticks\":\"\"}}],\"scatter\":[{\"fillpattern\":{\"fillmode\":\"overlay\",\"size\":10,\"solidity\":0.2},\"type\":\"scatter\"}],\"parcoords\":[{\"type\":\"parcoords\",\"line\":{\"colorbar\":{\"outlinewidth\":0,\"ticks\":\"\"}}}],\"scatterpolargl\":[{\"type\":\"scatterpolargl\",\"marker\":{\"colorbar\":{\"outlinewidth\":0,\"ticks\":\"\"}}}],\"bar\":[{\"error_x\":{\"color\":\"#2a3f5f\"},\"error_y\":{\"color\":\"#2a3f5f\"},\"marker\":{\"line\":{\"color\":\"#E5ECF6\",\"width\":0.5},\"pattern\":{\"fillmode\":\"overlay\",\"size\":10,\"solidity\":0.2}},\"type\":\"bar\"}],\"scattergeo\":[{\"type\":\"scattergeo\",\"marker\":{\"colorbar\":{\"outlinewidth\":0,\"ticks\":\"\"}}}],\"scatterpolar\":[{\"type\":\"scatterpolar\",\"marker\":{\"colorbar\":{\"outlinewidth\":0,\"ticks\":\"\"}}}],\"histogram\":[{\"marker\":{\"pattern\":{\"fillmode\":\"overlay\",\"size\":10,\"solidity\":0.2}},\"type\":\"histogram\"}],\"scattergl\":[{\"type\":\"scattergl\",\"marker\":{\"colorbar\":{\"outlinewidth\":0,\"ticks\":\"\"}}}],\"scatter3d\":[{\"type\":\"scatter3d\",\"line\":{\"colorbar\":{\"outlinewidth\":0,\"ticks\":\"\"}},\"marker\":{\"colorbar\":{\"outlinewidth\":0,\"ticks\":\"\"}}}],\"scattermapbox\":[{\"type\":\"scattermapbox\",\"marker\":{\"colorbar\":{\"outlinewidth\":0,\"ticks\":\"\"}}}],\"scatterternary\":[{\"type\":\"scatterternary\",\"marker\":{\"colorbar\":{\"outlinewidth\":0,\"ticks\":\"\"}}}],\"scattercarpet\":[{\"type\":\"scattercarpet\",\"marker\":{\"colorbar\":{\"outlinewidth\":0,\"ticks\":\"\"}}}],\"carpet\":[{\"aaxis\":{\"endlinecolor\":\"#2a3f5f\",\"gridcolor\":\"white\",\"linecolor\":\"white\",\"minorgridcolor\":\"white\",\"startlinecolor\":\"#2a3f5f\"},\"baxis\":{\"endlinecolor\":\"#2a3f5f\",\"gridcolor\":\"white\",\"linecolor\":\"white\",\"minorgridcolor\":\"white\",\"startlinecolor\":\"#2a3f5f\"},\"type\":\"carpet\"}],\"table\":[{\"cells\":{\"fill\":{\"color\":\"#EBF0F8\"},\"line\":{\"color\":\"white\"}},\"header\":{\"fill\":{\"color\":\"#C8D4E3\"},\"line\":{\"color\":\"white\"}},\"type\":\"table\"}],\"barpolar\":[{\"marker\":{\"line\":{\"color\":\"#E5ECF6\",\"width\":0.5},\"pattern\":{\"fillmode\":\"overlay\",\"size\":10,\"solidity\":0.2}},\"type\":\"barpolar\"}],\"pie\":[{\"automargin\":true,\"type\":\"pie\"}]},\"layout\":{\"autotypenumbers\":\"strict\",\"colorway\":[\"#636efa\",\"#EF553B\",\"#00cc96\",\"#ab63fa\",\"#FFA15A\",\"#19d3f3\",\"#FF6692\",\"#B6E880\",\"#FF97FF\",\"#FECB52\"],\"font\":{\"color\":\"#2a3f5f\"},\"hovermode\":\"closest\",\"hoverlabel\":{\"align\":\"left\"},\"paper_bgcolor\":\"white\",\"plot_bgcolor\":\"#E5ECF6\",\"polar\":{\"bgcolor\":\"#E5ECF6\",\"angularaxis\":{\"gridcolor\":\"white\",\"linecolor\":\"white\",\"ticks\":\"\"},\"radialaxis\":{\"gridcolor\":\"white\",\"linecolor\":\"white\",\"ticks\":\"\"}},\"ternary\":{\"bgcolor\":\"#E5ECF6\",\"aaxis\":{\"gridcolor\":\"white\",\"linecolor\":\"white\",\"ticks\":\"\"},\"baxis\":{\"gridcolor\":\"white\",\"linecolor\":\"white\",\"ticks\":\"\"},\"caxis\":{\"gridcolor\":\"white\",\"linecolor\":\"white\",\"ticks\":\"\"}},\"coloraxis\":{\"colorbar\":{\"outlinewidth\":0,\"ticks\":\"\"}},\"colorscale\":{\"sequential\":[[0.0,\"#0d0887\"],[0.1111111111111111,\"#46039f\"],[0.2222222222222222,\"#7201a8\"],[0.3333333333333333,\"#9c179e\"],[0.4444444444444444,\"#bd3786\"],[0.5555555555555556,\"#d8576b\"],[0.6666666666666666,\"#ed7953\"],[0.7777777777777778,\"#fb9f3a\"],[0.8888888888888888,\"#fdca26\"],[1.0,\"#f0f921\"]],\"sequentialminus\":[[0.0,\"#0d0887\"],[0.1111111111111111,\"#46039f\"],[0.2222222222222222,\"#7201a8\"],[0.3333333333333333,\"#9c179e\"],[0.4444444444444444,\"#bd3786\"],[0.5555555555555556,\"#d8576b\"],[0.6666666666666666,\"#ed7953\"],[0.7777777777777778,\"#fb9f3a\"],[0.8888888888888888,\"#fdca26\"],[1.0,\"#f0f921\"]],\"diverging\":[[0,\"#8e0152\"],[0.1,\"#c51b7d\"],[0.2,\"#de77ae\"],[0.3,\"#f1b6da\"],[0.4,\"#fde0ef\"],[0.5,\"#f7f7f7\"],[0.6,\"#e6f5d0\"],[0.7,\"#b8e186\"],[0.8,\"#7fbc41\"],[0.9,\"#4d9221\"],[1,\"#276419\"]]},\"xaxis\":{\"gridcolor\":\"white\",\"linecolor\":\"white\",\"ticks\":\"\",\"title\":{\"standoff\":15},\"zerolinecolor\":\"white\",\"automargin\":true,\"zerolinewidth\":2},\"yaxis\":{\"gridcolor\":\"white\",\"linecolor\":\"white\",\"ticks\":\"\",\"title\":{\"standoff\":15},\"zerolinecolor\":\"white\",\"automargin\":true,\"zerolinewidth\":2},\"scene\":{\"xaxis\":{\"backgroundcolor\":\"#E5ECF6\",\"gridcolor\":\"white\",\"linecolor\":\"white\",\"showbackground\":true,\"ticks\":\"\",\"zerolinecolor\":\"white\",\"gridwidth\":2},\"yaxis\":{\"backgroundcolor\":\"#E5ECF6\",\"gridcolor\":\"white\",\"linecolor\":\"white\",\"showbackground\":true,\"ticks\":\"\",\"zerolinecolor\":\"white\",\"gridwidth\":2},\"zaxis\":{\"backgroundcolor\":\"#E5ECF6\",\"gridcolor\":\"white\",\"linecolor\":\"white\",\"showbackground\":true,\"ticks\":\"\",\"zerolinecolor\":\"white\",\"gridwidth\":2}},\"shapedefaults\":{\"line\":{\"color\":\"#2a3f5f\"}},\"annotationdefaults\":{\"arrowcolor\":\"#2a3f5f\",\"arrowhead\":0,\"arrowwidth\":1},\"geo\":{\"bgcolor\":\"white\",\"landcolor\":\"#E5ECF6\",\"subunitcolor\":\"white\",\"showland\":true,\"showlakes\":true,\"lakecolor\":\"white\"},\"title\":{\"x\":0.05},\"mapbox\":{\"style\":\"light\"}}},\"xaxis\":{\"rangeslider\":{\"visible\":true},\"title\":{\"text\":\"Zoom on dates using slider\"}},\"title\":{\"text\":\"UDEMY Simple Moving Average\"},\"yaxis\":{\"title\":{\"text\":\"Stock price\"}}},                        {\"responsive\": true}                    ).then(function(){\n",
       "                            \n",
       "var gd = document.getElementById('1de2dd7a-5b9a-441d-9f5a-513d083aeaa0');\n",
       "var x = new MutationObserver(function (mutations, observer) {{\n",
       "        var display = window.getComputedStyle(gd).display;\n",
       "        if (!display || display === 'none') {{\n",
       "            console.log([gd, 'removed!']);\n",
       "            Plotly.purge(gd);\n",
       "            observer.disconnect();\n",
       "        }}\n",
       "}});\n",
       "\n",
       "// Listen for the removal of the full notebook cells\n",
       "var notebookContainer = gd.closest('#notebook-container');\n",
       "if (notebookContainer) {{\n",
       "    x.observe(notebookContainer, {childList: true});\n",
       "}}\n",
       "\n",
       "// Listen for the clearing of the current output cell\n",
       "var outputEl = gd.closest('.output');\n",
       "if (outputEl) {{\n",
       "    x.observe(outputEl, {childList: true});\n",
       "}}\n",
       "\n",
       "                        })                };                });            </script>        </div>"
      ]
     },
     "metadata": {},
     "output_type": "display_data"
    }
   ],
   "source": [
    "# Plot UDEMY stock price data with moving averages\n",
    "# Calculates 5 and 20 day moving average\n",
    "# Takes prices and divides them by a defined time period\n",
    "# Short periods react quickly, while longer react slower to price changes\n",
    "# They are used to see if a stock is in an uptrend\n",
    "\n",
    "# 5day moving average\n",
    "ma5 = go.Scatter(x = udmy.index, y = udmy_ma5, line = dict(color = 'red',\n",
    "                                                                 width = 1), name = 'MA5')\n",
    "# 20day moving average\n",
    "ma20 = go.Scatter(x = udmy.index, y = udmy_ma20, line = dict(color = 'green',\n",
    "                                                                 width = 1), name = 'MA20')\n",
    "\n",
    "# Plotting the price\n",
    "udmy_prc = go.Scatter(x = udmy.index, y = udmy['Adj Close'], line = dict(color = 'blue',\n",
    "                                                                 width = 1), name = 'Price')\n",
    "\n",
    "fig = go.Figure()\n",
    "fig.add_trace(ma5)\n",
    "fig.add_trace(ma20)\n",
    "fig.add_trace(udmy_prc)\n",
    "fig.update_xaxes(rangeslider_visible = True, title = 'Zoom on dates using slider')\n",
    "fig.update_layout(title = 'UDEMY Simple Moving Average')\n",
    "fig.update_yaxes(title = 'Stock price')\n",
    "fig.show()"
   ]
  },
  {
   "cell_type": "markdown",
   "id": "right-monitoring",
   "metadata": {},
   "source": [
    "A SMA allows you to see the big picture when analyzing a stock. It however takes time to catch up to current trends. \n"
   ]
  },
  {
   "cell_type": "code",
   "execution_count": 13,
   "id": "involved-learning",
   "metadata": {},
   "outputs": [
    {
     "data": {
      "text/html": [
       "<div>\n",
       "<style scoped>\n",
       "    .dataframe tbody tr th:only-of-type {\n",
       "        vertical-align: middle;\n",
       "    }\n",
       "\n",
       "    .dataframe tbody tr th {\n",
       "        vertical-align: top;\n",
       "    }\n",
       "\n",
       "    .dataframe thead th {\n",
       "        text-align: right;\n",
       "    }\n",
       "</style>\n",
       "<table border=\"1\" class=\"dataframe\">\n",
       "  <thead>\n",
       "    <tr style=\"text-align: right;\">\n",
       "      <th></th>\n",
       "      <th>Open</th>\n",
       "      <th>High</th>\n",
       "      <th>Low</th>\n",
       "      <th>Close</th>\n",
       "      <th>Adj Close</th>\n",
       "      <th>Volume</th>\n",
       "      <th>MA5</th>\n",
       "      <th>MA20</th>\n",
       "      <th>ema5</th>\n",
       "      <th>ema20</th>\n",
       "    </tr>\n",
       "    <tr>\n",
       "      <th>Date</th>\n",
       "      <th></th>\n",
       "      <th></th>\n",
       "      <th></th>\n",
       "      <th></th>\n",
       "      <th></th>\n",
       "      <th></th>\n",
       "      <th></th>\n",
       "      <th></th>\n",
       "      <th></th>\n",
       "      <th></th>\n",
       "    </tr>\n",
       "  </thead>\n",
       "  <tbody>\n",
       "    <tr>\n",
       "      <th>2021-10-29</th>\n",
       "      <td>27.000000</td>\n",
       "      <td>27.740000</td>\n",
       "      <td>26.010000</td>\n",
       "      <td>27.500000</td>\n",
       "      <td>27.500000</td>\n",
       "      <td>7601900</td>\n",
       "      <td>NaN</td>\n",
       "      <td>NaN</td>\n",
       "      <td>27.500000</td>\n",
       "      <td>27.500000</td>\n",
       "    </tr>\n",
       "    <tr>\n",
       "      <th>2021-11-01</th>\n",
       "      <td>28.000000</td>\n",
       "      <td>29.690001</td>\n",
       "      <td>26.110001</td>\n",
       "      <td>29.219999</td>\n",
       "      <td>29.219999</td>\n",
       "      <td>2189400</td>\n",
       "      <td>NaN</td>\n",
       "      <td>NaN</td>\n",
       "      <td>28.073333</td>\n",
       "      <td>27.663809</td>\n",
       "    </tr>\n",
       "    <tr>\n",
       "      <th>2021-11-02</th>\n",
       "      <td>29.219999</td>\n",
       "      <td>29.590000</td>\n",
       "      <td>27.705000</td>\n",
       "      <td>29.459999</td>\n",
       "      <td>29.459999</td>\n",
       "      <td>1371000</td>\n",
       "      <td>NaN</td>\n",
       "      <td>NaN</td>\n",
       "      <td>28.535555</td>\n",
       "      <td>27.834875</td>\n",
       "    </tr>\n",
       "    <tr>\n",
       "      <th>2021-11-03</th>\n",
       "      <td>29.590000</td>\n",
       "      <td>29.990000</td>\n",
       "      <td>27.129999</td>\n",
       "      <td>28.600000</td>\n",
       "      <td>28.600000</td>\n",
       "      <td>1338900</td>\n",
       "      <td>NaN</td>\n",
       "      <td>NaN</td>\n",
       "      <td>28.557037</td>\n",
       "      <td>27.907744</td>\n",
       "    </tr>\n",
       "    <tr>\n",
       "      <th>2021-11-04</th>\n",
       "      <td>28.980000</td>\n",
       "      <td>29.030001</td>\n",
       "      <td>27.219999</td>\n",
       "      <td>27.379999</td>\n",
       "      <td>27.379999</td>\n",
       "      <td>2029700</td>\n",
       "      <td>28.432</td>\n",
       "      <td>NaN</td>\n",
       "      <td>28.164691</td>\n",
       "      <td>27.857483</td>\n",
       "    </tr>\n",
       "    <tr>\n",
       "      <th>...</th>\n",
       "      <td>...</td>\n",
       "      <td>...</td>\n",
       "      <td>...</td>\n",
       "      <td>...</td>\n",
       "      <td>...</td>\n",
       "      <td>...</td>\n",
       "      <td>...</td>\n",
       "      <td>...</td>\n",
       "      <td>...</td>\n",
       "      <td>...</td>\n",
       "    </tr>\n",
       "    <tr>\n",
       "      <th>2022-05-31</th>\n",
       "      <td>15.690000</td>\n",
       "      <td>15.960000</td>\n",
       "      <td>14.360000</td>\n",
       "      <td>14.750000</td>\n",
       "      <td>14.750000</td>\n",
       "      <td>1177100</td>\n",
       "      <td>14.660</td>\n",
       "      <td>12.408</td>\n",
       "      <td>14.655945</td>\n",
       "      <td>12.964819</td>\n",
       "    </tr>\n",
       "    <tr>\n",
       "      <th>2022-06-01</th>\n",
       "      <td>14.590000</td>\n",
       "      <td>14.920000</td>\n",
       "      <td>13.370000</td>\n",
       "      <td>13.450000</td>\n",
       "      <td>13.450000</td>\n",
       "      <td>1331000</td>\n",
       "      <td>14.756</td>\n",
       "      <td>12.569</td>\n",
       "      <td>14.253963</td>\n",
       "      <td>13.011027</td>\n",
       "    </tr>\n",
       "    <tr>\n",
       "      <th>2022-06-02</th>\n",
       "      <td>13.390000</td>\n",
       "      <td>14.210000</td>\n",
       "      <td>13.070000</td>\n",
       "      <td>14.000000</td>\n",
       "      <td>14.000000</td>\n",
       "      <td>1407000</td>\n",
       "      <td>14.772</td>\n",
       "      <td>12.763</td>\n",
       "      <td>14.169309</td>\n",
       "      <td>13.105215</td>\n",
       "    </tr>\n",
       "    <tr>\n",
       "      <th>2022-06-03</th>\n",
       "      <td>13.850000</td>\n",
       "      <td>14.390000</td>\n",
       "      <td>13.325000</td>\n",
       "      <td>14.270000</td>\n",
       "      <td>14.270000</td>\n",
       "      <td>1066300</td>\n",
       "      <td>14.538</td>\n",
       "      <td>12.939</td>\n",
       "      <td>14.202873</td>\n",
       "      <td>13.216147</td>\n",
       "    </tr>\n",
       "    <tr>\n",
       "      <th>2022-06-06</th>\n",
       "      <td>14.580000</td>\n",
       "      <td>14.970000</td>\n",
       "      <td>13.410000</td>\n",
       "      <td>13.460000</td>\n",
       "      <td>13.460000</td>\n",
       "      <td>1088100</td>\n",
       "      <td>13.986</td>\n",
       "      <td>12.985</td>\n",
       "      <td>13.955249</td>\n",
       "      <td>13.239371</td>\n",
       "    </tr>\n",
       "  </tbody>\n",
       "</table>\n",
       "<p>151 rows × 10 columns</p>\n",
       "</div>"
      ],
      "text/plain": [
       "                 Open       High        Low      Close  Adj Close   Volume  \\\n",
       "Date                                                                         \n",
       "2021-10-29  27.000000  27.740000  26.010000  27.500000  27.500000  7601900   \n",
       "2021-11-01  28.000000  29.690001  26.110001  29.219999  29.219999  2189400   \n",
       "2021-11-02  29.219999  29.590000  27.705000  29.459999  29.459999  1371000   \n",
       "2021-11-03  29.590000  29.990000  27.129999  28.600000  28.600000  1338900   \n",
       "2021-11-04  28.980000  29.030001  27.219999  27.379999  27.379999  2029700   \n",
       "...               ...        ...        ...        ...        ...      ...   \n",
       "2022-05-31  15.690000  15.960000  14.360000  14.750000  14.750000  1177100   \n",
       "2022-06-01  14.590000  14.920000  13.370000  13.450000  13.450000  1331000   \n",
       "2022-06-02  13.390000  14.210000  13.070000  14.000000  14.000000  1407000   \n",
       "2022-06-03  13.850000  14.390000  13.325000  14.270000  14.270000  1066300   \n",
       "2022-06-06  14.580000  14.970000  13.410000  13.460000  13.460000  1088100   \n",
       "\n",
       "               MA5    MA20       ema5      ema20  \n",
       "Date                                              \n",
       "2021-10-29     NaN     NaN  27.500000  27.500000  \n",
       "2021-11-01     NaN     NaN  28.073333  27.663809  \n",
       "2021-11-02     NaN     NaN  28.535555  27.834875  \n",
       "2021-11-03     NaN     NaN  28.557037  27.907744  \n",
       "2021-11-04  28.432     NaN  28.164691  27.857483  \n",
       "...            ...     ...        ...        ...  \n",
       "2022-05-31  14.660  12.408  14.655945  12.964819  \n",
       "2022-06-01  14.756  12.569  14.253963  13.011027  \n",
       "2022-06-02  14.772  12.763  14.169309  13.105215  \n",
       "2022-06-03  14.538  12.939  14.202873  13.216147  \n",
       "2022-06-06  13.986  12.985  13.955249  13.239371  \n",
       "\n",
       "[151 rows x 10 columns]"
      ]
     },
     "execution_count": 13,
     "metadata": {},
     "output_type": "execute_result"
    }
   ],
   "source": [
    "# Exponential moving average\n",
    "udmy['ema5'] = udmy['Adj Close'].ewm(span = 5, adjust = False).mean()\n",
    "udmy['ema20'] = udmy['Adj Close'].ewm(span = 20, adjust = False).mean()\n",
    "udmy"
   ]
  },
  {
   "cell_type": "code",
   "execution_count": 14,
   "id": "appointed-affect",
   "metadata": {},
   "outputs": [
    {
     "data": {
      "application/vnd.plotly.v1+json": {
       "config": {
        "plotlyServerURL": "https://plot.ly"
       },
       "data": [
        {
         "close": [
          27.5,
          29.219999313354492,
          29.459999084472656,
          28.600000381469727,
          27.3799991607666,
          26.68000030517578,
          27.110000610351562,
          27.510000228881836,
          25.989999771118164,
          27.229999542236328,
          27.639999389648438,
          27.639999389648438,
          29.68000030517578,
          30.90999984741211,
          31.100000381469727,
          30.969999313354492,
          29.290000915527344,
          27.40999984741211,
          26.850000381469727,
          26.200000762939453,
          27.18000030517578,
          27.489999771118164,
          23.709999084472656,
          22.59000015258789,
          21.68000030517578,
          20.530000686645508,
          21.770000457763672,
          21.06999969482422,
          20.350000381469727,
          21.110000610351562,
          20.5,
          19.600000381469727,
          19.959999084472656,
          18.579999923706055,
          17.510000228881836,
          17.09000015258789,
          17.200000762939453,
          18.18000030517578,
          19.489999771118164,
          18.81999969482422,
          18.1200008392334,
          18.399999618530273,
          18.309999465942383,
          19.540000915527344,
          18.979999542236328,
          18.010000228881836,
          16.040000915527344,
          15.020000457763672,
          14.699999809265137,
          15.229999542236328,
          15.609999656677246,
          15.050000190734863,
          15.0600004196167,
          15.34000015258789,
          14.180000305175781,
          14.380000114440918,
          14.90999984741211,
          14.960000038146973,
          15.420000076293945,
          15.0600004196167,
          15.630000114440918,
          14.710000038146973,
          14.960000038146973,
          16.200000762939453,
          16.739999771118164,
          15.5600004196167,
          14.890000343322754,
          15.0600004196167,
          15.149999618530273,
          15.949999809265137,
          16.010000228881836,
          13.880000114440918,
          13.180000305175781,
          13.680000305175781,
          14.319999694824219,
          13.680000305175781,
          13.460000038146973,
          13.420000076293945,
          13.220000267028809,
          12.34000015258789,
          13.229999542236328,
          13.479999542236328,
          13.1899995803833,
          13.350000381469727,
          12.5,
          11.579999923706055,
          11.149999618530273,
          10.760000228881836,
          10.880000114440918,
          11.670000076293945,
          11.59000015258789,
          11.029999732971191,
          10.289999961853027,
          10.850000381469727,
          12.0600004196167,
          11.84000015258789,
          13.279999732971191,
          12.609999656677246,
          13.029999732971191,
          12.5600004196167,
          12.6899995803833,
          12.199999809265137,
          12.819999694824219,
          12.770000457763672,
          13.09000015258789,
          12.460000038146973,
          13.289999961853027,
          13.420000076293945,
          12.819999694824219,
          12.680000305175781,
          12.109999656677246,
          11.770000457763672,
          12.119999885559082,
          12.199999809265137,
          12.789999961853027,
          12.510000228881836,
          11.960000038146973,
          11.960000038146973,
          11.239999771118164,
          10.760000228881836,
          10.789999961853027,
          11.239999771118164,
          10.260000228881836,
          10.40999984741211,
          10.84000015258789,
          10.90999984741211,
          10.859999656677246,
          10.229999542236328,
          10.119999885559082,
          10.75,
          12.539999961853027,
          12.149999618530273,
          11.430000305175781,
          11.029999732971191,
          11.350000381469727,
          12.1899995803833,
          11.640000343322754,
          12.1899995803833,
          11.930000305175781,
          12.300000190734863,
          12.420000076293945,
          12.59000015258789,
          12.970000267028809,
          13.920000076293945,
          15.4399995803833,
          16.219999313354492,
          14.75,
          13.449999809265137,
          14,
          14.270000457763672,
          13.460000038146973
         ],
         "high": [
          27.739999771118164,
          29.690000534057617,
          29.59000015258789,
          29.989999771118164,
          29.030000686645508,
          27.799999237060547,
          27.6299991607666,
          28,
          27.09000015258789,
          28.280000686645508,
          27.700000762939453,
          29.059999465942383,
          30,
          31.09000015258789,
          31.780000686645508,
          32.619998931884766,
          31.610000610351562,
          29.829999923706055,
          27.969999313354492,
          26.90999984741211,
          27.600000381469727,
          27.65999984741211,
          28.5,
          24.8700008392334,
          23.030000686645508,
          22.18000030517578,
          22.40999984741211,
          22.299999237060547,
          22,
          21.549999237060547,
          22.170000076293945,
          20.684999465942383,
          20.530000686645508,
          20.729999542236328,
          18.709999084472656,
          17.43000030517578,
          17.40999984741211,
          18.18000030517578,
          19.8700008392334,
          19.899999618530273,
          19,
          18.540000915527344,
          18.989999771118164,
          19.68000030517578,
          19.780000686645508,
          19.200000762939453,
          18.780000686645508,
          16.200000762939453,
          15.449999809265137,
          15.25,
          16.290000915527344,
          16.1200008392334,
          15.329999923706055,
          15.460000038146973,
          15.229999542236328,
          14.680000305175781,
          15.229000091552734,
          15.239999771118164,
          15.539999961853027,
          15.789999961853027,
          16.170000076293945,
          15.65999984741211,
          14.979999542236328,
          16.229999542236328,
          16.780000686645508,
          16.979999542236328,
          15.640000343322754,
          15.180000305175781,
          15.579999923706055,
          16,
          16.31399917602539,
          14.989999771118164,
          14.055000305175781,
          13.979999542236328,
          14.470000267028809,
          14.350000381469727,
          14.180000305175781,
          13.595000267028809,
          13.819999694824219,
          13.470000267028809,
          13.479999542236328,
          13.6899995803833,
          13.6899995803833,
          13.899999618530273,
          13.4399995803833,
          12.75,
          11.520000457763672,
          11.239999771118164,
          11.420000076293945,
          11.880000114440918,
          11.680000305175781,
          12.119999885559082,
          10.9399995803833,
          11.050000190734863,
          12.0600004196167,
          12.579999923706055,
          13.369999885559082,
          13.329999923706055,
          13.25,
          12.930000305175781,
          12.869999885559082,
          12.65999984741211,
          12.859999656677246,
          13.439000129699707,
          13.670000076293945,
          13.59000015258789,
          13.470000267028809,
          13.680000305175781,
          13.539999961853027,
          12.75,
          12.970000267028809,
          11.989999771118164,
          12.15999984741211,
          12.649999618530273,
          12.930000305175781,
          12.84000015258789,
          12.510000228881836,
          12.14799976348877,
          12.010000228881836,
          11.635000228881836,
          10.989999771118164,
          11.270000457763672,
          11.15999984741211,
          10.9399995803833,
          11.020000457763672,
          11.5,
          11.079999923706055,
          10.880000114440918,
          10.770000457763672,
          12.199999809265137,
          12.670000076293945,
          12.373000144958496,
          12.395000457763672,
          11.720000267028809,
          11.550000190734863,
          12.369999885559082,
          12.260000228881836,
          12.380000114440918,
          12.449999809265137,
          12.489999771118164,
          12.479999542236328,
          12.739999771118164,
          13.140000343322754,
          14.140000343322754,
          15.449999809265137,
          16.350000381469727,
          15.960000038146973,
          14.920000076293945,
          14.210000038146973,
          14.390000343322754,
          14.970000267028809
         ],
         "low": [
          26.010000228881836,
          26.110000610351562,
          27.704999923706055,
          27.1299991607666,
          27.219999313354492,
          25.242000579833984,
          26.170000076293945,
          26.8799991607666,
          25.799999237060547,
          25.510000228881836,
          26.819000244140625,
          27.469999313354492,
          27.75,
          29.079999923706055,
          29.43000030517578,
          30.809999465942383,
          28.56999969482422,
          26.530000686645508,
          26.485000610351562,
          25.280000686645508,
          26.200000762939453,
          26.90999984741211,
          23.530000686645508,
          20.309999465942383,
          20.729999542236328,
          20.010000228881836,
          20.40999984741211,
          20.270000457763672,
          19.610000610351562,
          20.520000457763672,
          20.239999771118164,
          18.790000915527344,
          19.530000686645508,
          18.274999618530273,
          16.850000381469727,
          16.209999084472656,
          16.559999465942383,
          16.700000762939453,
          18,
          18.190000534057617,
          17.8799991607666,
          17.600000381469727,
          18.15999984741211,
          18.200000762939453,
          18.514999389648438,
          17.93000030517578,
          15.789999961853027,
          14.800000190734863,
          14.109999656677246,
          13.420000076293945,
          15.210000038146973,
          14.739999771118164,
          14.699999809265137,
          14.920000076293945,
          14.079999923706055,
          14.100000381469727,
          14.520000457763672,
          14.210000038146973,
          13.270000457763672,
          14.899999618530273,
          15.390000343322754,
          14.380000114440918,
          13.5600004196167,
          15.109999656677246,
          15.979999542236328,
          15.510000228881836,
          14.600000381469727,
          14.550000190734863,
          14.8100004196167,
          14.739999771118164,
          15.609999656677246,
          13.260000228881836,
          13,
          12.895000457763672,
          13.920000076293945,
          13.65999984741211,
          13.319999694824219,
          12.890000343322754,
          12.979999542236328,
          12.25,
          11.699999809265137,
          12.619999885559082,
          13,
          12.975000381469727,
          12.25,
          11.520000457763672,
          11.010000228881836,
          10.600000381469727,
          10.220000267028809,
          11.010000228881836,
          11,
          10.960000038146973,
          10.01099967956543,
          10.16100025177002,
          10.949999809265137,
          11.739999771118164,
          11.699999809265137,
          12.46500015258789,
          12.420000076293945,
          12.350000381469727,
          12.305000305175781,
          11.9399995803833,
          12.300000190734863,
          12.649999618530273,
          12.550000190734863,
          12.3100004196167,
          12.270000457763672,
          13.039999961853027,
          12.649999618530273,
          11.967000007629395,
          11.850000381469727,
          11.600000381469727,
          11.289999961853027,
          12.0600004196167,
          12.170000076293945,
          12.369999885559082,
          11.520000457763672,
          11.774999618530273,
          11.194999694824219,
          10.65999984741211,
          10.645999908447266,
          10.6899995803833,
          10.1899995803833,
          9.949999809265137,
          10.050000190734863,
          10.6899995803833,
          10.170000076293945,
          10.149999618530273,
          9.65999984741211,
          9.949999809265137,
          10.489999771118164,
          11.640000343322754,
          11.027999877929688,
          10.869999885559082,
          10.550000190734863,
          11.229999542236328,
          11.520000457763672,
          11.41100025177002,
          11.84000015258789,
          11.850000381469727,
          11.875,
          11.670000076293945,
          11.989999771118164,
          12.65999984741211,
          13.619999885559082,
          15.345000267028809,
          14.359999656677246,
          13.369999885559082,
          13.069999694824219,
          13.324999809265137,
          13.40999984741211
         ],
         "name": "Candlestick",
         "open": [
          27,
          28,
          29.219999313354492,
          29.59000015258789,
          28.979999542236328,
          27.3799991607666,
          27.200000762939453,
          27.479999542236328,
          25.799999237060547,
          26.31999969482422,
          27.31999969482422,
          27.90999984741211,
          28.049999237060547,
          29.299999237060547,
          31.309999465942383,
          31.100000381469727,
          30.959999084472656,
          28.600000381469727,
          27.34000015258789,
          26.489999771118164,
          26.600000381469727,
          27.209999084472656,
          27.850000381469727,
          23.860000610351562,
          22.600000381469727,
          21.84000015258789,
          21.040000915527344,
          22.030000686645508,
          21.84000015258789,
          20.75,
          20.969999313354492,
          20.079999923706055,
          19.610000610351562,
          20.209999084472656,
          18.31999969482422,
          17.1299991607666,
          17.149999618530273,
          17.110000610351562,
          18.219999313354492,
          19.670000076293945,
          18.899999618530273,
          18.1200008392334,
          18.31999969482422,
          18.399999618530273,
          19.450000762939453,
          19.1200008392334,
          17.860000610351562,
          15.949999809265137,
          15.050000190734863,
          14.5,
          15.210000038146973,
          15.699999809265137,
          15.079999923706055,
          15,
          15.039999961853027,
          14.279999732971191,
          14.520000457763672,
          14.710000038146973,
          14.449999809265137,
          15.029999732971191,
          15.649999618530273,
          15.65999984741211,
          14.59000015258789,
          15.140000343322754,
          16.25,
          16.93000030517578,
          15.449999809265137,
          14.869999885559082,
          14.979999542236328,
          14.880000114440918,
          16.149999618530273,
          13.5600004196167,
          13.729999542236328,
          13.329999923706055,
          13.930000305175781,
          14.210000038146973,
          13.369999885559082,
          13.34000015258789,
          13.180000305175781,
          13.359999656677246,
          11.899999618530273,
          13.180000305175781,
          13.199999809265137,
          13.130000114440918,
          13.3100004196167,
          12.529999732971191,
          11.5,
          11.079999923706055,
          10.619999885559082,
          11.079999923706055,
          11.1899995803833,
          11.65999984741211,
          10.9399995803833,
          10.460000038146973,
          10.949999809265137,
          12.130000114440918,
          11.800000190734863,
          13.329999923706055,
          12.550000190734863,
          12.770000457763672,
          12.609999656677246,
          12.65999984741211,
          12.300000190734863,
          13.119999885559082,
          12.869999885559082,
          13.140000343322754,
          12.4399995803833,
          13.3100004196167,
          13.319999694824219,
          12.529999732971191,
          12.619999885559082,
          11.989999771118164,
          11.579999923706055,
          12.380000114440918,
          12.210000038146973,
          12.84000015258789,
          12.510000228881836,
          11.90999984741211,
          12.010000228881836,
          11.390000343322754,
          10.779999732971191,
          10.779999732971191,
          11.15999984741211,
          10.149999618530273,
          10.479999542236328,
          10.6899995803833,
          10.699999809265137,
          10.779999732971191,
          10.229999542236328,
          10,
          10.699999809265137,
          12.270000457763672,
          12.170000076293945,
          11.3100004196167,
          10.930000305175781,
          11.460000038146973,
          11.869999885559082,
          11.90999984741211,
          11.90999984741211,
          11.850000381469727,
          12.350000381469727,
          12.260000228881836,
          12.359999656677246,
          12.84000015258789,
          13.850000381469727,
          15.399999618530273,
          15.6899995803833,
          14.59000015258789,
          13.390000343322754,
          13.850000381469727,
          14.579999923706055
         ],
         "type": "candlestick",
         "x": [
          "2021-10-29T00:00:00",
          "2021-11-01T00:00:00",
          "2021-11-02T00:00:00",
          "2021-11-03T00:00:00",
          "2021-11-04T00:00:00",
          "2021-11-05T00:00:00",
          "2021-11-08T00:00:00",
          "2021-11-09T00:00:00",
          "2021-11-10T00:00:00",
          "2021-11-11T00:00:00",
          "2021-11-12T00:00:00",
          "2021-11-15T00:00:00",
          "2021-11-16T00:00:00",
          "2021-11-17T00:00:00",
          "2021-11-18T00:00:00",
          "2021-11-19T00:00:00",
          "2021-11-22T00:00:00",
          "2021-11-23T00:00:00",
          "2021-11-24T00:00:00",
          "2021-11-26T00:00:00",
          "2021-11-29T00:00:00",
          "2021-11-30T00:00:00",
          "2021-12-01T00:00:00",
          "2021-12-02T00:00:00",
          "2021-12-03T00:00:00",
          "2021-12-06T00:00:00",
          "2021-12-07T00:00:00",
          "2021-12-08T00:00:00",
          "2021-12-09T00:00:00",
          "2021-12-10T00:00:00",
          "2021-12-13T00:00:00",
          "2021-12-14T00:00:00",
          "2021-12-15T00:00:00",
          "2021-12-16T00:00:00",
          "2021-12-17T00:00:00",
          "2021-12-20T00:00:00",
          "2021-12-21T00:00:00",
          "2021-12-22T00:00:00",
          "2021-12-23T00:00:00",
          "2021-12-27T00:00:00",
          "2021-12-28T00:00:00",
          "2021-12-29T00:00:00",
          "2021-12-30T00:00:00",
          "2021-12-31T00:00:00",
          "2022-01-03T00:00:00",
          "2022-01-04T00:00:00",
          "2022-01-05T00:00:00",
          "2022-01-06T00:00:00",
          "2022-01-07T00:00:00",
          "2022-01-10T00:00:00",
          "2022-01-11T00:00:00",
          "2022-01-12T00:00:00",
          "2022-01-13T00:00:00",
          "2022-01-14T00:00:00",
          "2022-01-18T00:00:00",
          "2022-01-19T00:00:00",
          "2022-01-20T00:00:00",
          "2022-01-21T00:00:00",
          "2022-01-24T00:00:00",
          "2022-01-25T00:00:00",
          "2022-01-26T00:00:00",
          "2022-01-27T00:00:00",
          "2022-01-28T00:00:00",
          "2022-01-31T00:00:00",
          "2022-02-01T00:00:00",
          "2022-02-02T00:00:00",
          "2022-02-03T00:00:00",
          "2022-02-04T00:00:00",
          "2022-02-07T00:00:00",
          "2022-02-08T00:00:00",
          "2022-02-09T00:00:00",
          "2022-02-10T00:00:00",
          "2022-02-11T00:00:00",
          "2022-02-14T00:00:00",
          "2022-02-15T00:00:00",
          "2022-02-16T00:00:00",
          "2022-02-17T00:00:00",
          "2022-02-18T00:00:00",
          "2022-02-22T00:00:00",
          "2022-02-23T00:00:00",
          "2022-02-24T00:00:00",
          "2022-02-25T00:00:00",
          "2022-02-28T00:00:00",
          "2022-03-01T00:00:00",
          "2022-03-02T00:00:00",
          "2022-03-03T00:00:00",
          "2022-03-04T00:00:00",
          "2022-03-07T00:00:00",
          "2022-03-08T00:00:00",
          "2022-03-09T00:00:00",
          "2022-03-10T00:00:00",
          "2022-03-11T00:00:00",
          "2022-03-14T00:00:00",
          "2022-03-15T00:00:00",
          "2022-03-16T00:00:00",
          "2022-03-17T00:00:00",
          "2022-03-18T00:00:00",
          "2022-03-21T00:00:00",
          "2022-03-22T00:00:00",
          "2022-03-23T00:00:00",
          "2022-03-24T00:00:00",
          "2022-03-25T00:00:00",
          "2022-03-28T00:00:00",
          "2022-03-29T00:00:00",
          "2022-03-30T00:00:00",
          "2022-03-31T00:00:00",
          "2022-04-01T00:00:00",
          "2022-04-04T00:00:00",
          "2022-04-05T00:00:00",
          "2022-04-06T00:00:00",
          "2022-04-07T00:00:00",
          "2022-04-08T00:00:00",
          "2022-04-11T00:00:00",
          "2022-04-12T00:00:00",
          "2022-04-13T00:00:00",
          "2022-04-14T00:00:00",
          "2022-04-18T00:00:00",
          "2022-04-19T00:00:00",
          "2022-04-20T00:00:00",
          "2022-04-21T00:00:00",
          "2022-04-22T00:00:00",
          "2022-04-25T00:00:00",
          "2022-04-26T00:00:00",
          "2022-04-27T00:00:00",
          "2022-04-28T00:00:00",
          "2022-04-29T00:00:00",
          "2022-05-02T00:00:00",
          "2022-05-03T00:00:00",
          "2022-05-04T00:00:00",
          "2022-05-05T00:00:00",
          "2022-05-06T00:00:00",
          "2022-05-09T00:00:00",
          "2022-05-10T00:00:00",
          "2022-05-11T00:00:00",
          "2022-05-12T00:00:00",
          "2022-05-13T00:00:00",
          "2022-05-16T00:00:00",
          "2022-05-17T00:00:00",
          "2022-05-18T00:00:00",
          "2022-05-19T00:00:00",
          "2022-05-20T00:00:00",
          "2022-05-23T00:00:00",
          "2022-05-24T00:00:00",
          "2022-05-25T00:00:00",
          "2022-05-26T00:00:00",
          "2022-05-27T00:00:00",
          "2022-05-31T00:00:00",
          "2022-06-01T00:00:00",
          "2022-06-02T00:00:00",
          "2022-06-03T00:00:00",
          "2022-06-06T00:00:00"
         ]
        },
        {
         "line": {
          "color": "green",
          "width": 1
         },
         "name": "EMA5",
         "type": "scatter",
         "x": [
          "2021-10-29T00:00:00",
          "2021-11-01T00:00:00",
          "2021-11-02T00:00:00",
          "2021-11-03T00:00:00",
          "2021-11-04T00:00:00",
          "2021-11-05T00:00:00",
          "2021-11-08T00:00:00",
          "2021-11-09T00:00:00",
          "2021-11-10T00:00:00",
          "2021-11-11T00:00:00",
          "2021-11-12T00:00:00",
          "2021-11-15T00:00:00",
          "2021-11-16T00:00:00",
          "2021-11-17T00:00:00",
          "2021-11-18T00:00:00",
          "2021-11-19T00:00:00",
          "2021-11-22T00:00:00",
          "2021-11-23T00:00:00",
          "2021-11-24T00:00:00",
          "2021-11-26T00:00:00",
          "2021-11-29T00:00:00",
          "2021-11-30T00:00:00",
          "2021-12-01T00:00:00",
          "2021-12-02T00:00:00",
          "2021-12-03T00:00:00",
          "2021-12-06T00:00:00",
          "2021-12-07T00:00:00",
          "2021-12-08T00:00:00",
          "2021-12-09T00:00:00",
          "2021-12-10T00:00:00",
          "2021-12-13T00:00:00",
          "2021-12-14T00:00:00",
          "2021-12-15T00:00:00",
          "2021-12-16T00:00:00",
          "2021-12-17T00:00:00",
          "2021-12-20T00:00:00",
          "2021-12-21T00:00:00",
          "2021-12-22T00:00:00",
          "2021-12-23T00:00:00",
          "2021-12-27T00:00:00",
          "2021-12-28T00:00:00",
          "2021-12-29T00:00:00",
          "2021-12-30T00:00:00",
          "2021-12-31T00:00:00",
          "2022-01-03T00:00:00",
          "2022-01-04T00:00:00",
          "2022-01-05T00:00:00",
          "2022-01-06T00:00:00",
          "2022-01-07T00:00:00",
          "2022-01-10T00:00:00",
          "2022-01-11T00:00:00",
          "2022-01-12T00:00:00",
          "2022-01-13T00:00:00",
          "2022-01-14T00:00:00",
          "2022-01-18T00:00:00",
          "2022-01-19T00:00:00",
          "2022-01-20T00:00:00",
          "2022-01-21T00:00:00",
          "2022-01-24T00:00:00",
          "2022-01-25T00:00:00",
          "2022-01-26T00:00:00",
          "2022-01-27T00:00:00",
          "2022-01-28T00:00:00",
          "2022-01-31T00:00:00",
          "2022-02-01T00:00:00",
          "2022-02-02T00:00:00",
          "2022-02-03T00:00:00",
          "2022-02-04T00:00:00",
          "2022-02-07T00:00:00",
          "2022-02-08T00:00:00",
          "2022-02-09T00:00:00",
          "2022-02-10T00:00:00",
          "2022-02-11T00:00:00",
          "2022-02-14T00:00:00",
          "2022-02-15T00:00:00",
          "2022-02-16T00:00:00",
          "2022-02-17T00:00:00",
          "2022-02-18T00:00:00",
          "2022-02-22T00:00:00",
          "2022-02-23T00:00:00",
          "2022-02-24T00:00:00",
          "2022-02-25T00:00:00",
          "2022-02-28T00:00:00",
          "2022-03-01T00:00:00",
          "2022-03-02T00:00:00",
          "2022-03-03T00:00:00",
          "2022-03-04T00:00:00",
          "2022-03-07T00:00:00",
          "2022-03-08T00:00:00",
          "2022-03-09T00:00:00",
          "2022-03-10T00:00:00",
          "2022-03-11T00:00:00",
          "2022-03-14T00:00:00",
          "2022-03-15T00:00:00",
          "2022-03-16T00:00:00",
          "2022-03-17T00:00:00",
          "2022-03-18T00:00:00",
          "2022-03-21T00:00:00",
          "2022-03-22T00:00:00",
          "2022-03-23T00:00:00",
          "2022-03-24T00:00:00",
          "2022-03-25T00:00:00",
          "2022-03-28T00:00:00",
          "2022-03-29T00:00:00",
          "2022-03-30T00:00:00",
          "2022-03-31T00:00:00",
          "2022-04-01T00:00:00",
          "2022-04-04T00:00:00",
          "2022-04-05T00:00:00",
          "2022-04-06T00:00:00",
          "2022-04-07T00:00:00",
          "2022-04-08T00:00:00",
          "2022-04-11T00:00:00",
          "2022-04-12T00:00:00",
          "2022-04-13T00:00:00",
          "2022-04-14T00:00:00",
          "2022-04-18T00:00:00",
          "2022-04-19T00:00:00",
          "2022-04-20T00:00:00",
          "2022-04-21T00:00:00",
          "2022-04-22T00:00:00",
          "2022-04-25T00:00:00",
          "2022-04-26T00:00:00",
          "2022-04-27T00:00:00",
          "2022-04-28T00:00:00",
          "2022-04-29T00:00:00",
          "2022-05-02T00:00:00",
          "2022-05-03T00:00:00",
          "2022-05-04T00:00:00",
          "2022-05-05T00:00:00",
          "2022-05-06T00:00:00",
          "2022-05-09T00:00:00",
          "2022-05-10T00:00:00",
          "2022-05-11T00:00:00",
          "2022-05-12T00:00:00",
          "2022-05-13T00:00:00",
          "2022-05-16T00:00:00",
          "2022-05-17T00:00:00",
          "2022-05-18T00:00:00",
          "2022-05-19T00:00:00",
          "2022-05-20T00:00:00",
          "2022-05-23T00:00:00",
          "2022-05-24T00:00:00",
          "2022-05-25T00:00:00",
          "2022-05-26T00:00:00",
          "2022-05-27T00:00:00",
          "2022-05-31T00:00:00",
          "2022-06-01T00:00:00",
          "2022-06-02T00:00:00",
          "2022-06-03T00:00:00",
          "2022-06-06T00:00:00"
         ],
         "y": [
          27.5,
          28.0733331044515,
          28.53555509779189,
          28.557036859017835,
          28.164690959600758,
          27.669794074792435,
          27.483196253312148,
          27.49213091183538,
          26.991420531596308,
          27.07094686847632,
          27.260631042200362,
          27.38708715801639,
          28.151391540402855,
          29.070927642739274,
          29.747285222316094,
          30.15485658599556,
          29.866571362506157,
          29.047714190808144,
          28.315142921028674,
          27.610095534998937,
          27.46673045839122,
          27.47448689596687,
          26.2196576254688,
          25.009771801175162,
          23.89984796917537,
          22.776565541665416,
          22.4410438470315,
          21.984029129629075,
          21.439352880242627,
          21.32956879027894,
          21.05304586018596,
          20.56869736728055,
          20.36579793967792,
          19.770531934353965,
          19.017021365863258,
          18.374680961438138,
          17.98312089527191,
          18.04874736523987,
          18.52916483386597,
          18.626109787518722,
          18.45740680475695,
          18.438271076014725,
          18.39551387265728,
          18.77700955361397,
          18.844672883154757,
          18.566448665063785,
          17.724299415218304,
          16.822866429400094,
          16.115244222688442,
          15.820162662537738,
          15.75010832725091,
          15.516738948412229,
          15.364492772147052,
          15.356328565627333,
          14.964219145476818,
          14.769479468464851,
          14.816319594780605,
          14.864213075902729,
          15.049475409366469,
          15.052983746116546,
          15.245322535558005,
          15.066881703087661,
          15.031254481440767,
          15.420836575273663,
          15.860557640555164,
          15.760371900242344,
          15.470248047935815,
          15.33349883849611,
          15.272332431840832,
          15.498221557648934,
          15.668814448059901,
          15.072543003520241,
          14.441695437405423,
          14.187797059995543,
          14.231864604938435,
          14.047909838350884,
          13.851939904949582,
          13.70795996206437,
          13.545306730385851,
          13.143537871119864,
          13.172358428158686,
          13.274905466184567,
          13.246603504250812,
          13.281069129990453,
          13.020712753326968,
          12.540475143453332,
          12.076983301812312,
          11.637988944168821,
          11.385326000926188,
          11.480217359382108,
          11.516811623784037,
          11.354540993513089,
          10.999693982959736,
          10.9497961157964,
          11.319864217069833,
          11.49324286224252,
          12.088828485818745,
          12.262552209438248,
          12.518368050615896,
          12.532245506949497,
          12.5848301980941,
          12.45655340181778,
          12.57770216615326,
          12.641801596690065,
          12.791201115322675,
          12.680800756264109,
          12.883867158127082,
          13.06257813084937,
          12.98171865217432,
          12.881145869841475,
          12.624097132120067,
          12.339398240667936,
          12.266265455631652,
          12.244176906842815,
          12.426117925179554,
          12.454078693080316,
          12.289385808102535,
          12.179590551450682,
          11.866393624673176,
          11.497595826076063,
          11.261730538001718,
          11.254486949040533,
          10.922991375654302,
          10.751994199573572,
          10.781329517245013,
          10.824219627300712,
          10.836146303759557,
          10.634097383251815,
          10.462731550687572,
          10.558487700458382,
          11.218991787589932,
          11.529327731236712,
          11.496218589216403,
          11.340812303801332,
          11.343874996357464,
          11.625916524366076,
          11.630611130684969,
          11.81707394725108,
          11.854716066559314,
          12.003144107951165,
          12.14209609739876,
          12.291397449128471,
          12.517598388428585,
          12.985065617717039,
          13.803376938605794,
          14.608917730188693,
          14.655945153459129,
          14.253963372061133,
          14.169308914707422,
          14.20287276239284,
          13.955248520977552
         ]
        },
        {
         "line": {
          "color": "orange",
          "width": 1
         },
         "name": "EMA20",
         "type": "scatter",
         "x": [
          "2021-10-29T00:00:00",
          "2021-11-01T00:00:00",
          "2021-11-02T00:00:00",
          "2021-11-03T00:00:00",
          "2021-11-04T00:00:00",
          "2021-11-05T00:00:00",
          "2021-11-08T00:00:00",
          "2021-11-09T00:00:00",
          "2021-11-10T00:00:00",
          "2021-11-11T00:00:00",
          "2021-11-12T00:00:00",
          "2021-11-15T00:00:00",
          "2021-11-16T00:00:00",
          "2021-11-17T00:00:00",
          "2021-11-18T00:00:00",
          "2021-11-19T00:00:00",
          "2021-11-22T00:00:00",
          "2021-11-23T00:00:00",
          "2021-11-24T00:00:00",
          "2021-11-26T00:00:00",
          "2021-11-29T00:00:00",
          "2021-11-30T00:00:00",
          "2021-12-01T00:00:00",
          "2021-12-02T00:00:00",
          "2021-12-03T00:00:00",
          "2021-12-06T00:00:00",
          "2021-12-07T00:00:00",
          "2021-12-08T00:00:00",
          "2021-12-09T00:00:00",
          "2021-12-10T00:00:00",
          "2021-12-13T00:00:00",
          "2021-12-14T00:00:00",
          "2021-12-15T00:00:00",
          "2021-12-16T00:00:00",
          "2021-12-17T00:00:00",
          "2021-12-20T00:00:00",
          "2021-12-21T00:00:00",
          "2021-12-22T00:00:00",
          "2021-12-23T00:00:00",
          "2021-12-27T00:00:00",
          "2021-12-28T00:00:00",
          "2021-12-29T00:00:00",
          "2021-12-30T00:00:00",
          "2021-12-31T00:00:00",
          "2022-01-03T00:00:00",
          "2022-01-04T00:00:00",
          "2022-01-05T00:00:00",
          "2022-01-06T00:00:00",
          "2022-01-07T00:00:00",
          "2022-01-10T00:00:00",
          "2022-01-11T00:00:00",
          "2022-01-12T00:00:00",
          "2022-01-13T00:00:00",
          "2022-01-14T00:00:00",
          "2022-01-18T00:00:00",
          "2022-01-19T00:00:00",
          "2022-01-20T00:00:00",
          "2022-01-21T00:00:00",
          "2022-01-24T00:00:00",
          "2022-01-25T00:00:00",
          "2022-01-26T00:00:00",
          "2022-01-27T00:00:00",
          "2022-01-28T00:00:00",
          "2022-01-31T00:00:00",
          "2022-02-01T00:00:00",
          "2022-02-02T00:00:00",
          "2022-02-03T00:00:00",
          "2022-02-04T00:00:00",
          "2022-02-07T00:00:00",
          "2022-02-08T00:00:00",
          "2022-02-09T00:00:00",
          "2022-02-10T00:00:00",
          "2022-02-11T00:00:00",
          "2022-02-14T00:00:00",
          "2022-02-15T00:00:00",
          "2022-02-16T00:00:00",
          "2022-02-17T00:00:00",
          "2022-02-18T00:00:00",
          "2022-02-22T00:00:00",
          "2022-02-23T00:00:00",
          "2022-02-24T00:00:00",
          "2022-02-25T00:00:00",
          "2022-02-28T00:00:00",
          "2022-03-01T00:00:00",
          "2022-03-02T00:00:00",
          "2022-03-03T00:00:00",
          "2022-03-04T00:00:00",
          "2022-03-07T00:00:00",
          "2022-03-08T00:00:00",
          "2022-03-09T00:00:00",
          "2022-03-10T00:00:00",
          "2022-03-11T00:00:00",
          "2022-03-14T00:00:00",
          "2022-03-15T00:00:00",
          "2022-03-16T00:00:00",
          "2022-03-17T00:00:00",
          "2022-03-18T00:00:00",
          "2022-03-21T00:00:00",
          "2022-03-22T00:00:00",
          "2022-03-23T00:00:00",
          "2022-03-24T00:00:00",
          "2022-03-25T00:00:00",
          "2022-03-28T00:00:00",
          "2022-03-29T00:00:00",
          "2022-03-30T00:00:00",
          "2022-03-31T00:00:00",
          "2022-04-01T00:00:00",
          "2022-04-04T00:00:00",
          "2022-04-05T00:00:00",
          "2022-04-06T00:00:00",
          "2022-04-07T00:00:00",
          "2022-04-08T00:00:00",
          "2022-04-11T00:00:00",
          "2022-04-12T00:00:00",
          "2022-04-13T00:00:00",
          "2022-04-14T00:00:00",
          "2022-04-18T00:00:00",
          "2022-04-19T00:00:00",
          "2022-04-20T00:00:00",
          "2022-04-21T00:00:00",
          "2022-04-22T00:00:00",
          "2022-04-25T00:00:00",
          "2022-04-26T00:00:00",
          "2022-04-27T00:00:00",
          "2022-04-28T00:00:00",
          "2022-04-29T00:00:00",
          "2022-05-02T00:00:00",
          "2022-05-03T00:00:00",
          "2022-05-04T00:00:00",
          "2022-05-05T00:00:00",
          "2022-05-06T00:00:00",
          "2022-05-09T00:00:00",
          "2022-05-10T00:00:00",
          "2022-05-11T00:00:00",
          "2022-05-12T00:00:00",
          "2022-05-13T00:00:00",
          "2022-05-16T00:00:00",
          "2022-05-17T00:00:00",
          "2022-05-18T00:00:00",
          "2022-05-19T00:00:00",
          "2022-05-20T00:00:00",
          "2022-05-23T00:00:00",
          "2022-05-24T00:00:00",
          "2022-05-25T00:00:00",
          "2022-05-26T00:00:00",
          "2022-05-27T00:00:00",
          "2022-05-31T00:00:00",
          "2022-06-01T00:00:00",
          "2022-06-02T00:00:00",
          "2022-06-03T00:00:00",
          "2022-06-06T00:00:00"
         ],
         "y": [
          27.5,
          27.66380945841471,
          27.834875137086897,
          27.9077442079805,
          27.857482774912512,
          27.745341587318535,
          27.68483292284549,
          27.668182190087048,
          27.508355293042392,
          27.481845221537053,
          27.49690752326195,
          27.510535320060665,
          27.717151032928772,
          28.021231872403376,
          28.314447920885883,
          28.567357577311466,
          28.636180752379644,
          28.519401618573212,
          28.36041102456336,
          28.154657666313465,
          28.061833155728923,
          28.00737283338504,
          27.598099143012433,
          27.121137334400572,
          26.602933807807734,
          26.0245592248399,
          25.619363151785024,
          25.18609044159828,
          24.72551043587175,
          24.38117616677459,
          24.011540341367485,
          23.591393678520078,
          23.245546574325083,
          22.801208798075653,
          22.297284172438147,
          21.801352361023838,
          21.363128399301516,
          21.059973342718113,
          20.910452050184784,
          20.711361349674256,
          20.46456511058465,
          20.267939825627092,
          20.08146931518093,
          20.029900896166303,
          19.929910291030115,
          19.74706171368266,
          19.394008304334534,
          18.977436128470643,
          18.570061240927263,
          18.251960126766225,
          18.000344843900606,
          17.7193596388372,
          17.466087332244772,
          17.263602838944117,
          16.969926407156656,
          16.723266760231347,
          16.550574673296182,
          16.399091374710544,
          16.305844584385152,
          16.187192759169108,
          16.13412679300452,
          15.998495673494276,
          15.899591327270723,
          15.928201749715363,
          16.00551584699182,
          15.963085806289428,
          15.860887190768791,
          15.784612260182877,
          15.724172960977867,
          15.745680279862368,
          15.770853608340412,
          15.590772323207126,
          15.361174988156522,
          15.201063113586928,
          15.117152311800004,
          14.980280692121505,
          14.835492058409645,
          14.70068329820815,
          14.55966586666726,
          14.348269131993034,
          14.241767266301919,
          14.169217959248053,
          14.07595906602284,
          14.006820143684449,
          13.863313463333547,
          13.645855030988072,
          13.4081545155159,
          13.155949345360273,
          12.939192275748907,
          12.818316828181768,
          12.701334287649017,
          12.54215956815589,
          12.327668177079426,
          12.186937910830883,
          12.174848625953341,
          12.142958295156632,
          12.251247955900874,
          12.285414784546242,
          12.35632763677719,
          12.375725044666666,
          12.405655952830156,
          12.38606965344301,
          12.427396324050745,
          12.460025289166262,
          12.520022895206417,
          12.514306432629327,
          12.588182006841109,
          12.667402775360427,
          12.68193581530936,
          12.681751481010924,
          12.627298926312479,
          12.545651453117355,
          12.505113208587995,
          12.476054789604866,
          12.505954329818978,
          12.506339653539252,
          12.454307309216178,
          12.407230426257206,
          12.296065601958249,
          12.149773661665257,
          12.020271404540283,
          11.945959820404843,
          11.785392240259794,
          11.654402488560015,
          11.576840361324575,
          11.513331740951958,
          11.4511096376877,
          11.334813438120904,
          11.219116909305493,
          11.174439108419255,
          11.304492523031996,
          11.385017008317547,
          11.389301131827855,
          11.355081950984363,
          11.354597991982969,
          11.434160048021095,
          11.453763885668872,
          11.52388157087977,
          11.562559545574628,
          11.63279198797084,
          11.707764186858755,
          11.79178665978534,
          11.903997479522811,
          12.095997726834348,
          12.41447409383901,
          12.776905067126199,
          12.964818870257037,
          13.011026578733999,
          13.105214523616477,
          13.21614651734478,
          13.239370662183084
         ]
        }
       ],
       "layout": {
        "template": {
         "data": {
          "bar": [
           {
            "error_x": {
             "color": "#2a3f5f"
            },
            "error_y": {
             "color": "#2a3f5f"
            },
            "marker": {
             "line": {
              "color": "#E5ECF6",
              "width": 0.5
             },
             "pattern": {
              "fillmode": "overlay",
              "size": 10,
              "solidity": 0.2
             }
            },
            "type": "bar"
           }
          ],
          "barpolar": [
           {
            "marker": {
             "line": {
              "color": "#E5ECF6",
              "width": 0.5
             },
             "pattern": {
              "fillmode": "overlay",
              "size": 10,
              "solidity": 0.2
             }
            },
            "type": "barpolar"
           }
          ],
          "carpet": [
           {
            "aaxis": {
             "endlinecolor": "#2a3f5f",
             "gridcolor": "white",
             "linecolor": "white",
             "minorgridcolor": "white",
             "startlinecolor": "#2a3f5f"
            },
            "baxis": {
             "endlinecolor": "#2a3f5f",
             "gridcolor": "white",
             "linecolor": "white",
             "minorgridcolor": "white",
             "startlinecolor": "#2a3f5f"
            },
            "type": "carpet"
           }
          ],
          "choropleth": [
           {
            "colorbar": {
             "outlinewidth": 0,
             "ticks": ""
            },
            "type": "choropleth"
           }
          ],
          "contour": [
           {
            "colorbar": {
             "outlinewidth": 0,
             "ticks": ""
            },
            "colorscale": [
             [
              0,
              "#0d0887"
             ],
             [
              0.1111111111111111,
              "#46039f"
             ],
             [
              0.2222222222222222,
              "#7201a8"
             ],
             [
              0.3333333333333333,
              "#9c179e"
             ],
             [
              0.4444444444444444,
              "#bd3786"
             ],
             [
              0.5555555555555556,
              "#d8576b"
             ],
             [
              0.6666666666666666,
              "#ed7953"
             ],
             [
              0.7777777777777778,
              "#fb9f3a"
             ],
             [
              0.8888888888888888,
              "#fdca26"
             ],
             [
              1,
              "#f0f921"
             ]
            ],
            "type": "contour"
           }
          ],
          "contourcarpet": [
           {
            "colorbar": {
             "outlinewidth": 0,
             "ticks": ""
            },
            "type": "contourcarpet"
           }
          ],
          "heatmap": [
           {
            "colorbar": {
             "outlinewidth": 0,
             "ticks": ""
            },
            "colorscale": [
             [
              0,
              "#0d0887"
             ],
             [
              0.1111111111111111,
              "#46039f"
             ],
             [
              0.2222222222222222,
              "#7201a8"
             ],
             [
              0.3333333333333333,
              "#9c179e"
             ],
             [
              0.4444444444444444,
              "#bd3786"
             ],
             [
              0.5555555555555556,
              "#d8576b"
             ],
             [
              0.6666666666666666,
              "#ed7953"
             ],
             [
              0.7777777777777778,
              "#fb9f3a"
             ],
             [
              0.8888888888888888,
              "#fdca26"
             ],
             [
              1,
              "#f0f921"
             ]
            ],
            "type": "heatmap"
           }
          ],
          "heatmapgl": [
           {
            "colorbar": {
             "outlinewidth": 0,
             "ticks": ""
            },
            "colorscale": [
             [
              0,
              "#0d0887"
             ],
             [
              0.1111111111111111,
              "#46039f"
             ],
             [
              0.2222222222222222,
              "#7201a8"
             ],
             [
              0.3333333333333333,
              "#9c179e"
             ],
             [
              0.4444444444444444,
              "#bd3786"
             ],
             [
              0.5555555555555556,
              "#d8576b"
             ],
             [
              0.6666666666666666,
              "#ed7953"
             ],
             [
              0.7777777777777778,
              "#fb9f3a"
             ],
             [
              0.8888888888888888,
              "#fdca26"
             ],
             [
              1,
              "#f0f921"
             ]
            ],
            "type": "heatmapgl"
           }
          ],
          "histogram": [
           {
            "marker": {
             "pattern": {
              "fillmode": "overlay",
              "size": 10,
              "solidity": 0.2
             }
            },
            "type": "histogram"
           }
          ],
          "histogram2d": [
           {
            "colorbar": {
             "outlinewidth": 0,
             "ticks": ""
            },
            "colorscale": [
             [
              0,
              "#0d0887"
             ],
             [
              0.1111111111111111,
              "#46039f"
             ],
             [
              0.2222222222222222,
              "#7201a8"
             ],
             [
              0.3333333333333333,
              "#9c179e"
             ],
             [
              0.4444444444444444,
              "#bd3786"
             ],
             [
              0.5555555555555556,
              "#d8576b"
             ],
             [
              0.6666666666666666,
              "#ed7953"
             ],
             [
              0.7777777777777778,
              "#fb9f3a"
             ],
             [
              0.8888888888888888,
              "#fdca26"
             ],
             [
              1,
              "#f0f921"
             ]
            ],
            "type": "histogram2d"
           }
          ],
          "histogram2dcontour": [
           {
            "colorbar": {
             "outlinewidth": 0,
             "ticks": ""
            },
            "colorscale": [
             [
              0,
              "#0d0887"
             ],
             [
              0.1111111111111111,
              "#46039f"
             ],
             [
              0.2222222222222222,
              "#7201a8"
             ],
             [
              0.3333333333333333,
              "#9c179e"
             ],
             [
              0.4444444444444444,
              "#bd3786"
             ],
             [
              0.5555555555555556,
              "#d8576b"
             ],
             [
              0.6666666666666666,
              "#ed7953"
             ],
             [
              0.7777777777777778,
              "#fb9f3a"
             ],
             [
              0.8888888888888888,
              "#fdca26"
             ],
             [
              1,
              "#f0f921"
             ]
            ],
            "type": "histogram2dcontour"
           }
          ],
          "mesh3d": [
           {
            "colorbar": {
             "outlinewidth": 0,
             "ticks": ""
            },
            "type": "mesh3d"
           }
          ],
          "parcoords": [
           {
            "line": {
             "colorbar": {
              "outlinewidth": 0,
              "ticks": ""
             }
            },
            "type": "parcoords"
           }
          ],
          "pie": [
           {
            "automargin": true,
            "type": "pie"
           }
          ],
          "scatter": [
           {
            "fillpattern": {
             "fillmode": "overlay",
             "size": 10,
             "solidity": 0.2
            },
            "type": "scatter"
           }
          ],
          "scatter3d": [
           {
            "line": {
             "colorbar": {
              "outlinewidth": 0,
              "ticks": ""
             }
            },
            "marker": {
             "colorbar": {
              "outlinewidth": 0,
              "ticks": ""
             }
            },
            "type": "scatter3d"
           }
          ],
          "scattercarpet": [
           {
            "marker": {
             "colorbar": {
              "outlinewidth": 0,
              "ticks": ""
             }
            },
            "type": "scattercarpet"
           }
          ],
          "scattergeo": [
           {
            "marker": {
             "colorbar": {
              "outlinewidth": 0,
              "ticks": ""
             }
            },
            "type": "scattergeo"
           }
          ],
          "scattergl": [
           {
            "marker": {
             "colorbar": {
              "outlinewidth": 0,
              "ticks": ""
             }
            },
            "type": "scattergl"
           }
          ],
          "scattermapbox": [
           {
            "marker": {
             "colorbar": {
              "outlinewidth": 0,
              "ticks": ""
             }
            },
            "type": "scattermapbox"
           }
          ],
          "scatterpolar": [
           {
            "marker": {
             "colorbar": {
              "outlinewidth": 0,
              "ticks": ""
             }
            },
            "type": "scatterpolar"
           }
          ],
          "scatterpolargl": [
           {
            "marker": {
             "colorbar": {
              "outlinewidth": 0,
              "ticks": ""
             }
            },
            "type": "scatterpolargl"
           }
          ],
          "scatterternary": [
           {
            "marker": {
             "colorbar": {
              "outlinewidth": 0,
              "ticks": ""
             }
            },
            "type": "scatterternary"
           }
          ],
          "surface": [
           {
            "colorbar": {
             "outlinewidth": 0,
             "ticks": ""
            },
            "colorscale": [
             [
              0,
              "#0d0887"
             ],
             [
              0.1111111111111111,
              "#46039f"
             ],
             [
              0.2222222222222222,
              "#7201a8"
             ],
             [
              0.3333333333333333,
              "#9c179e"
             ],
             [
              0.4444444444444444,
              "#bd3786"
             ],
             [
              0.5555555555555556,
              "#d8576b"
             ],
             [
              0.6666666666666666,
              "#ed7953"
             ],
             [
              0.7777777777777778,
              "#fb9f3a"
             ],
             [
              0.8888888888888888,
              "#fdca26"
             ],
             [
              1,
              "#f0f921"
             ]
            ],
            "type": "surface"
           }
          ],
          "table": [
           {
            "cells": {
             "fill": {
              "color": "#EBF0F8"
             },
             "line": {
              "color": "white"
             }
            },
            "header": {
             "fill": {
              "color": "#C8D4E3"
             },
             "line": {
              "color": "white"
             }
            },
            "type": "table"
           }
          ]
         },
         "layout": {
          "annotationdefaults": {
           "arrowcolor": "#2a3f5f",
           "arrowhead": 0,
           "arrowwidth": 1
          },
          "autotypenumbers": "strict",
          "coloraxis": {
           "colorbar": {
            "outlinewidth": 0,
            "ticks": ""
           }
          },
          "colorscale": {
           "diverging": [
            [
             0,
             "#8e0152"
            ],
            [
             0.1,
             "#c51b7d"
            ],
            [
             0.2,
             "#de77ae"
            ],
            [
             0.3,
             "#f1b6da"
            ],
            [
             0.4,
             "#fde0ef"
            ],
            [
             0.5,
             "#f7f7f7"
            ],
            [
             0.6,
             "#e6f5d0"
            ],
            [
             0.7,
             "#b8e186"
            ],
            [
             0.8,
             "#7fbc41"
            ],
            [
             0.9,
             "#4d9221"
            ],
            [
             1,
             "#276419"
            ]
           ],
           "sequential": [
            [
             0,
             "#0d0887"
            ],
            [
             0.1111111111111111,
             "#46039f"
            ],
            [
             0.2222222222222222,
             "#7201a8"
            ],
            [
             0.3333333333333333,
             "#9c179e"
            ],
            [
             0.4444444444444444,
             "#bd3786"
            ],
            [
             0.5555555555555556,
             "#d8576b"
            ],
            [
             0.6666666666666666,
             "#ed7953"
            ],
            [
             0.7777777777777778,
             "#fb9f3a"
            ],
            [
             0.8888888888888888,
             "#fdca26"
            ],
            [
             1,
             "#f0f921"
            ]
           ],
           "sequentialminus": [
            [
             0,
             "#0d0887"
            ],
            [
             0.1111111111111111,
             "#46039f"
            ],
            [
             0.2222222222222222,
             "#7201a8"
            ],
            [
             0.3333333333333333,
             "#9c179e"
            ],
            [
             0.4444444444444444,
             "#bd3786"
            ],
            [
             0.5555555555555556,
             "#d8576b"
            ],
            [
             0.6666666666666666,
             "#ed7953"
            ],
            [
             0.7777777777777778,
             "#fb9f3a"
            ],
            [
             0.8888888888888888,
             "#fdca26"
            ],
            [
             1,
             "#f0f921"
            ]
           ]
          },
          "colorway": [
           "#636efa",
           "#EF553B",
           "#00cc96",
           "#ab63fa",
           "#FFA15A",
           "#19d3f3",
           "#FF6692",
           "#B6E880",
           "#FF97FF",
           "#FECB52"
          ],
          "font": {
           "color": "#2a3f5f"
          },
          "geo": {
           "bgcolor": "white",
           "lakecolor": "white",
           "landcolor": "#E5ECF6",
           "showlakes": true,
           "showland": true,
           "subunitcolor": "white"
          },
          "hoverlabel": {
           "align": "left"
          },
          "hovermode": "closest",
          "mapbox": {
           "style": "light"
          },
          "paper_bgcolor": "white",
          "plot_bgcolor": "#E5ECF6",
          "polar": {
           "angularaxis": {
            "gridcolor": "white",
            "linecolor": "white",
            "ticks": ""
           },
           "bgcolor": "#E5ECF6",
           "radialaxis": {
            "gridcolor": "white",
            "linecolor": "white",
            "ticks": ""
           }
          },
          "scene": {
           "xaxis": {
            "backgroundcolor": "#E5ECF6",
            "gridcolor": "white",
            "gridwidth": 2,
            "linecolor": "white",
            "showbackground": true,
            "ticks": "",
            "zerolinecolor": "white"
           },
           "yaxis": {
            "backgroundcolor": "#E5ECF6",
            "gridcolor": "white",
            "gridwidth": 2,
            "linecolor": "white",
            "showbackground": true,
            "ticks": "",
            "zerolinecolor": "white"
           },
           "zaxis": {
            "backgroundcolor": "#E5ECF6",
            "gridcolor": "white",
            "gridwidth": 2,
            "linecolor": "white",
            "showbackground": true,
            "ticks": "",
            "zerolinecolor": "white"
           }
          },
          "shapedefaults": {
           "line": {
            "color": "#2a3f5f"
           }
          },
          "ternary": {
           "aaxis": {
            "gridcolor": "white",
            "linecolor": "white",
            "ticks": ""
           },
           "baxis": {
            "gridcolor": "white",
            "linecolor": "white",
            "ticks": ""
           },
           "bgcolor": "#E5ECF6",
           "caxis": {
            "gridcolor": "white",
            "linecolor": "white",
            "ticks": ""
           }
          },
          "title": {
           "x": 0.05
          },
          "xaxis": {
           "automargin": true,
           "gridcolor": "white",
           "linecolor": "white",
           "ticks": "",
           "title": {
            "standoff": 15
           },
           "zerolinecolor": "white",
           "zerolinewidth": 2
          },
          "yaxis": {
           "automargin": true,
           "gridcolor": "white",
           "linecolor": "white",
           "ticks": "",
           "title": {
            "standoff": 15
           },
           "zerolinecolor": "white",
           "zerolinewidth": 2
          }
         }
        },
        "title": {
         "text": "UDEMY Exponential Moving Average"
        },
        "xaxis": {
         "rangebreaks": [
          {
           "bounds": [
            "sat",
            "mon"
           ]
          }
         ]
        }
       }
      },
      "text/html": [
       "<div>                            <div id=\"ade5d8c7-803c-4a7b-865e-f540eb779850\" class=\"plotly-graph-div\" style=\"height:525px; width:100%;\"></div>            <script type=\"text/javascript\">                require([\"plotly\"], function(Plotly) {                    window.PLOTLYENV=window.PLOTLYENV || {};                                    if (document.getElementById(\"ade5d8c7-803c-4a7b-865e-f540eb779850\")) {                    Plotly.newPlot(                        \"ade5d8c7-803c-4a7b-865e-f540eb779850\",                        [{\"close\":[27.5,29.219999313354492,29.459999084472656,28.600000381469727,27.3799991607666,26.68000030517578,27.110000610351562,27.510000228881836,25.989999771118164,27.229999542236328,27.639999389648438,27.639999389648438,29.68000030517578,30.90999984741211,31.100000381469727,30.969999313354492,29.290000915527344,27.40999984741211,26.850000381469727,26.200000762939453,27.18000030517578,27.489999771118164,23.709999084472656,22.59000015258789,21.68000030517578,20.530000686645508,21.770000457763672,21.06999969482422,20.350000381469727,21.110000610351562,20.5,19.600000381469727,19.959999084472656,18.579999923706055,17.510000228881836,17.09000015258789,17.200000762939453,18.18000030517578,19.489999771118164,18.81999969482422,18.1200008392334,18.399999618530273,18.309999465942383,19.540000915527344,18.979999542236328,18.010000228881836,16.040000915527344,15.020000457763672,14.699999809265137,15.229999542236328,15.609999656677246,15.050000190734863,15.0600004196167,15.34000015258789,14.180000305175781,14.380000114440918,14.90999984741211,14.960000038146973,15.420000076293945,15.0600004196167,15.630000114440918,14.710000038146973,14.960000038146973,16.200000762939453,16.739999771118164,15.5600004196167,14.890000343322754,15.0600004196167,15.149999618530273,15.949999809265137,16.010000228881836,13.880000114440918,13.180000305175781,13.680000305175781,14.319999694824219,13.680000305175781,13.460000038146973,13.420000076293945,13.220000267028809,12.34000015258789,13.229999542236328,13.479999542236328,13.1899995803833,13.350000381469727,12.5,11.579999923706055,11.149999618530273,10.760000228881836,10.880000114440918,11.670000076293945,11.59000015258789,11.029999732971191,10.289999961853027,10.850000381469727,12.0600004196167,11.84000015258789,13.279999732971191,12.609999656677246,13.029999732971191,12.5600004196167,12.6899995803833,12.199999809265137,12.819999694824219,12.770000457763672,13.09000015258789,12.460000038146973,13.289999961853027,13.420000076293945,12.819999694824219,12.680000305175781,12.109999656677246,11.770000457763672,12.119999885559082,12.199999809265137,12.789999961853027,12.510000228881836,11.960000038146973,11.960000038146973,11.239999771118164,10.760000228881836,10.789999961853027,11.239999771118164,10.260000228881836,10.40999984741211,10.84000015258789,10.90999984741211,10.859999656677246,10.229999542236328,10.119999885559082,10.75,12.539999961853027,12.149999618530273,11.430000305175781,11.029999732971191,11.350000381469727,12.1899995803833,11.640000343322754,12.1899995803833,11.930000305175781,12.300000190734863,12.420000076293945,12.59000015258789,12.970000267028809,13.920000076293945,15.4399995803833,16.219999313354492,14.75,13.449999809265137,14.0,14.270000457763672,13.460000038146973],\"high\":[27.739999771118164,29.690000534057617,29.59000015258789,29.989999771118164,29.030000686645508,27.799999237060547,27.6299991607666,28.0,27.09000015258789,28.280000686645508,27.700000762939453,29.059999465942383,30.0,31.09000015258789,31.780000686645508,32.619998931884766,31.610000610351562,29.829999923706055,27.969999313354492,26.90999984741211,27.600000381469727,27.65999984741211,28.5,24.8700008392334,23.030000686645508,22.18000030517578,22.40999984741211,22.299999237060547,22.0,21.549999237060547,22.170000076293945,20.684999465942383,20.530000686645508,20.729999542236328,18.709999084472656,17.43000030517578,17.40999984741211,18.18000030517578,19.8700008392334,19.899999618530273,19.0,18.540000915527344,18.989999771118164,19.68000030517578,19.780000686645508,19.200000762939453,18.780000686645508,16.200000762939453,15.449999809265137,15.25,16.290000915527344,16.1200008392334,15.329999923706055,15.460000038146973,15.229999542236328,14.680000305175781,15.229000091552734,15.239999771118164,15.539999961853027,15.789999961853027,16.170000076293945,15.65999984741211,14.979999542236328,16.229999542236328,16.780000686645508,16.979999542236328,15.640000343322754,15.180000305175781,15.579999923706055,16.0,16.31399917602539,14.989999771118164,14.055000305175781,13.979999542236328,14.470000267028809,14.350000381469727,14.180000305175781,13.595000267028809,13.819999694824219,13.470000267028809,13.479999542236328,13.6899995803833,13.6899995803833,13.899999618530273,13.4399995803833,12.75,11.520000457763672,11.239999771118164,11.420000076293945,11.880000114440918,11.680000305175781,12.119999885559082,10.9399995803833,11.050000190734863,12.0600004196167,12.579999923706055,13.369999885559082,13.329999923706055,13.25,12.930000305175781,12.869999885559082,12.65999984741211,12.859999656677246,13.439000129699707,13.670000076293945,13.59000015258789,13.470000267028809,13.680000305175781,13.539999961853027,12.75,12.970000267028809,11.989999771118164,12.15999984741211,12.649999618530273,12.930000305175781,12.84000015258789,12.510000228881836,12.14799976348877,12.010000228881836,11.635000228881836,10.989999771118164,11.270000457763672,11.15999984741211,10.9399995803833,11.020000457763672,11.5,11.079999923706055,10.880000114440918,10.770000457763672,12.199999809265137,12.670000076293945,12.373000144958496,12.395000457763672,11.720000267028809,11.550000190734863,12.369999885559082,12.260000228881836,12.380000114440918,12.449999809265137,12.489999771118164,12.479999542236328,12.739999771118164,13.140000343322754,14.140000343322754,15.449999809265137,16.350000381469727,15.960000038146973,14.920000076293945,14.210000038146973,14.390000343322754,14.970000267028809],\"low\":[26.010000228881836,26.110000610351562,27.704999923706055,27.1299991607666,27.219999313354492,25.242000579833984,26.170000076293945,26.8799991607666,25.799999237060547,25.510000228881836,26.819000244140625,27.469999313354492,27.75,29.079999923706055,29.43000030517578,30.809999465942383,28.56999969482422,26.530000686645508,26.485000610351562,25.280000686645508,26.200000762939453,26.90999984741211,23.530000686645508,20.309999465942383,20.729999542236328,20.010000228881836,20.40999984741211,20.270000457763672,19.610000610351562,20.520000457763672,20.239999771118164,18.790000915527344,19.530000686645508,18.274999618530273,16.850000381469727,16.209999084472656,16.559999465942383,16.700000762939453,18.0,18.190000534057617,17.8799991607666,17.600000381469727,18.15999984741211,18.200000762939453,18.514999389648438,17.93000030517578,15.789999961853027,14.800000190734863,14.109999656677246,13.420000076293945,15.210000038146973,14.739999771118164,14.699999809265137,14.920000076293945,14.079999923706055,14.100000381469727,14.520000457763672,14.210000038146973,13.270000457763672,14.899999618530273,15.390000343322754,14.380000114440918,13.5600004196167,15.109999656677246,15.979999542236328,15.510000228881836,14.600000381469727,14.550000190734863,14.8100004196167,14.739999771118164,15.609999656677246,13.260000228881836,13.0,12.895000457763672,13.920000076293945,13.65999984741211,13.319999694824219,12.890000343322754,12.979999542236328,12.25,11.699999809265137,12.619999885559082,13.0,12.975000381469727,12.25,11.520000457763672,11.010000228881836,10.600000381469727,10.220000267028809,11.010000228881836,11.0,10.960000038146973,10.01099967956543,10.16100025177002,10.949999809265137,11.739999771118164,11.699999809265137,12.46500015258789,12.420000076293945,12.350000381469727,12.305000305175781,11.9399995803833,12.300000190734863,12.649999618530273,12.550000190734863,12.3100004196167,12.270000457763672,13.039999961853027,12.649999618530273,11.967000007629395,11.850000381469727,11.600000381469727,11.289999961853027,12.0600004196167,12.170000076293945,12.369999885559082,11.520000457763672,11.774999618530273,11.194999694824219,10.65999984741211,10.645999908447266,10.6899995803833,10.1899995803833,9.949999809265137,10.050000190734863,10.6899995803833,10.170000076293945,10.149999618530273,9.65999984741211,9.949999809265137,10.489999771118164,11.640000343322754,11.027999877929688,10.869999885559082,10.550000190734863,11.229999542236328,11.520000457763672,11.41100025177002,11.84000015258789,11.850000381469727,11.875,11.670000076293945,11.989999771118164,12.65999984741211,13.619999885559082,15.345000267028809,14.359999656677246,13.369999885559082,13.069999694824219,13.324999809265137,13.40999984741211],\"name\":\"Candlestick\",\"open\":[27.0,28.0,29.219999313354492,29.59000015258789,28.979999542236328,27.3799991607666,27.200000762939453,27.479999542236328,25.799999237060547,26.31999969482422,27.31999969482422,27.90999984741211,28.049999237060547,29.299999237060547,31.309999465942383,31.100000381469727,30.959999084472656,28.600000381469727,27.34000015258789,26.489999771118164,26.600000381469727,27.209999084472656,27.850000381469727,23.860000610351562,22.600000381469727,21.84000015258789,21.040000915527344,22.030000686645508,21.84000015258789,20.75,20.969999313354492,20.079999923706055,19.610000610351562,20.209999084472656,18.31999969482422,17.1299991607666,17.149999618530273,17.110000610351562,18.219999313354492,19.670000076293945,18.899999618530273,18.1200008392334,18.31999969482422,18.399999618530273,19.450000762939453,19.1200008392334,17.860000610351562,15.949999809265137,15.050000190734863,14.5,15.210000038146973,15.699999809265137,15.079999923706055,15.0,15.039999961853027,14.279999732971191,14.520000457763672,14.710000038146973,14.449999809265137,15.029999732971191,15.649999618530273,15.65999984741211,14.59000015258789,15.140000343322754,16.25,16.93000030517578,15.449999809265137,14.869999885559082,14.979999542236328,14.880000114440918,16.149999618530273,13.5600004196167,13.729999542236328,13.329999923706055,13.930000305175781,14.210000038146973,13.369999885559082,13.34000015258789,13.180000305175781,13.359999656677246,11.899999618530273,13.180000305175781,13.199999809265137,13.130000114440918,13.3100004196167,12.529999732971191,11.5,11.079999923706055,10.619999885559082,11.079999923706055,11.1899995803833,11.65999984741211,10.9399995803833,10.460000038146973,10.949999809265137,12.130000114440918,11.800000190734863,13.329999923706055,12.550000190734863,12.770000457763672,12.609999656677246,12.65999984741211,12.300000190734863,13.119999885559082,12.869999885559082,13.140000343322754,12.4399995803833,13.3100004196167,13.319999694824219,12.529999732971191,12.619999885559082,11.989999771118164,11.579999923706055,12.380000114440918,12.210000038146973,12.84000015258789,12.510000228881836,11.90999984741211,12.010000228881836,11.390000343322754,10.779999732971191,10.779999732971191,11.15999984741211,10.149999618530273,10.479999542236328,10.6899995803833,10.699999809265137,10.779999732971191,10.229999542236328,10.0,10.699999809265137,12.270000457763672,12.170000076293945,11.3100004196167,10.930000305175781,11.460000038146973,11.869999885559082,11.90999984741211,11.90999984741211,11.850000381469727,12.350000381469727,12.260000228881836,12.359999656677246,12.84000015258789,13.850000381469727,15.399999618530273,15.6899995803833,14.59000015258789,13.390000343322754,13.850000381469727,14.579999923706055],\"x\":[\"2021-10-29T00:00:00\",\"2021-11-01T00:00:00\",\"2021-11-02T00:00:00\",\"2021-11-03T00:00:00\",\"2021-11-04T00:00:00\",\"2021-11-05T00:00:00\",\"2021-11-08T00:00:00\",\"2021-11-09T00:00:00\",\"2021-11-10T00:00:00\",\"2021-11-11T00:00:00\",\"2021-11-12T00:00:00\",\"2021-11-15T00:00:00\",\"2021-11-16T00:00:00\",\"2021-11-17T00:00:00\",\"2021-11-18T00:00:00\",\"2021-11-19T00:00:00\",\"2021-11-22T00:00:00\",\"2021-11-23T00:00:00\",\"2021-11-24T00:00:00\",\"2021-11-26T00:00:00\",\"2021-11-29T00:00:00\",\"2021-11-30T00:00:00\",\"2021-12-01T00:00:00\",\"2021-12-02T00:00:00\",\"2021-12-03T00:00:00\",\"2021-12-06T00:00:00\",\"2021-12-07T00:00:00\",\"2021-12-08T00:00:00\",\"2021-12-09T00:00:00\",\"2021-12-10T00:00:00\",\"2021-12-13T00:00:00\",\"2021-12-14T00:00:00\",\"2021-12-15T00:00:00\",\"2021-12-16T00:00:00\",\"2021-12-17T00:00:00\",\"2021-12-20T00:00:00\",\"2021-12-21T00:00:00\",\"2021-12-22T00:00:00\",\"2021-12-23T00:00:00\",\"2021-12-27T00:00:00\",\"2021-12-28T00:00:00\",\"2021-12-29T00:00:00\",\"2021-12-30T00:00:00\",\"2021-12-31T00:00:00\",\"2022-01-03T00:00:00\",\"2022-01-04T00:00:00\",\"2022-01-05T00:00:00\",\"2022-01-06T00:00:00\",\"2022-01-07T00:00:00\",\"2022-01-10T00:00:00\",\"2022-01-11T00:00:00\",\"2022-01-12T00:00:00\",\"2022-01-13T00:00:00\",\"2022-01-14T00:00:00\",\"2022-01-18T00:00:00\",\"2022-01-19T00:00:00\",\"2022-01-20T00:00:00\",\"2022-01-21T00:00:00\",\"2022-01-24T00:00:00\",\"2022-01-25T00:00:00\",\"2022-01-26T00:00:00\",\"2022-01-27T00:00:00\",\"2022-01-28T00:00:00\",\"2022-01-31T00:00:00\",\"2022-02-01T00:00:00\",\"2022-02-02T00:00:00\",\"2022-02-03T00:00:00\",\"2022-02-04T00:00:00\",\"2022-02-07T00:00:00\",\"2022-02-08T00:00:00\",\"2022-02-09T00:00:00\",\"2022-02-10T00:00:00\",\"2022-02-11T00:00:00\",\"2022-02-14T00:00:00\",\"2022-02-15T00:00:00\",\"2022-02-16T00:00:00\",\"2022-02-17T00:00:00\",\"2022-02-18T00:00:00\",\"2022-02-22T00:00:00\",\"2022-02-23T00:00:00\",\"2022-02-24T00:00:00\",\"2022-02-25T00:00:00\",\"2022-02-28T00:00:00\",\"2022-03-01T00:00:00\",\"2022-03-02T00:00:00\",\"2022-03-03T00:00:00\",\"2022-03-04T00:00:00\",\"2022-03-07T00:00:00\",\"2022-03-08T00:00:00\",\"2022-03-09T00:00:00\",\"2022-03-10T00:00:00\",\"2022-03-11T00:00:00\",\"2022-03-14T00:00:00\",\"2022-03-15T00:00:00\",\"2022-03-16T00:00:00\",\"2022-03-17T00:00:00\",\"2022-03-18T00:00:00\",\"2022-03-21T00:00:00\",\"2022-03-22T00:00:00\",\"2022-03-23T00:00:00\",\"2022-03-24T00:00:00\",\"2022-03-25T00:00:00\",\"2022-03-28T00:00:00\",\"2022-03-29T00:00:00\",\"2022-03-30T00:00:00\",\"2022-03-31T00:00:00\",\"2022-04-01T00:00:00\",\"2022-04-04T00:00:00\",\"2022-04-05T00:00:00\",\"2022-04-06T00:00:00\",\"2022-04-07T00:00:00\",\"2022-04-08T00:00:00\",\"2022-04-11T00:00:00\",\"2022-04-12T00:00:00\",\"2022-04-13T00:00:00\",\"2022-04-14T00:00:00\",\"2022-04-18T00:00:00\",\"2022-04-19T00:00:00\",\"2022-04-20T00:00:00\",\"2022-04-21T00:00:00\",\"2022-04-22T00:00:00\",\"2022-04-25T00:00:00\",\"2022-04-26T00:00:00\",\"2022-04-27T00:00:00\",\"2022-04-28T00:00:00\",\"2022-04-29T00:00:00\",\"2022-05-02T00:00:00\",\"2022-05-03T00:00:00\",\"2022-05-04T00:00:00\",\"2022-05-05T00:00:00\",\"2022-05-06T00:00:00\",\"2022-05-09T00:00:00\",\"2022-05-10T00:00:00\",\"2022-05-11T00:00:00\",\"2022-05-12T00:00:00\",\"2022-05-13T00:00:00\",\"2022-05-16T00:00:00\",\"2022-05-17T00:00:00\",\"2022-05-18T00:00:00\",\"2022-05-19T00:00:00\",\"2022-05-20T00:00:00\",\"2022-05-23T00:00:00\",\"2022-05-24T00:00:00\",\"2022-05-25T00:00:00\",\"2022-05-26T00:00:00\",\"2022-05-27T00:00:00\",\"2022-05-31T00:00:00\",\"2022-06-01T00:00:00\",\"2022-06-02T00:00:00\",\"2022-06-03T00:00:00\",\"2022-06-06T00:00:00\"],\"type\":\"candlestick\"},{\"line\":{\"color\":\"green\",\"width\":1},\"name\":\"EMA5\",\"x\":[\"2021-10-29T00:00:00\",\"2021-11-01T00:00:00\",\"2021-11-02T00:00:00\",\"2021-11-03T00:00:00\",\"2021-11-04T00:00:00\",\"2021-11-05T00:00:00\",\"2021-11-08T00:00:00\",\"2021-11-09T00:00:00\",\"2021-11-10T00:00:00\",\"2021-11-11T00:00:00\",\"2021-11-12T00:00:00\",\"2021-11-15T00:00:00\",\"2021-11-16T00:00:00\",\"2021-11-17T00:00:00\",\"2021-11-18T00:00:00\",\"2021-11-19T00:00:00\",\"2021-11-22T00:00:00\",\"2021-11-23T00:00:00\",\"2021-11-24T00:00:00\",\"2021-11-26T00:00:00\",\"2021-11-29T00:00:00\",\"2021-11-30T00:00:00\",\"2021-12-01T00:00:00\",\"2021-12-02T00:00:00\",\"2021-12-03T00:00:00\",\"2021-12-06T00:00:00\",\"2021-12-07T00:00:00\",\"2021-12-08T00:00:00\",\"2021-12-09T00:00:00\",\"2021-12-10T00:00:00\",\"2021-12-13T00:00:00\",\"2021-12-14T00:00:00\",\"2021-12-15T00:00:00\",\"2021-12-16T00:00:00\",\"2021-12-17T00:00:00\",\"2021-12-20T00:00:00\",\"2021-12-21T00:00:00\",\"2021-12-22T00:00:00\",\"2021-12-23T00:00:00\",\"2021-12-27T00:00:00\",\"2021-12-28T00:00:00\",\"2021-12-29T00:00:00\",\"2021-12-30T00:00:00\",\"2021-12-31T00:00:00\",\"2022-01-03T00:00:00\",\"2022-01-04T00:00:00\",\"2022-01-05T00:00:00\",\"2022-01-06T00:00:00\",\"2022-01-07T00:00:00\",\"2022-01-10T00:00:00\",\"2022-01-11T00:00:00\",\"2022-01-12T00:00:00\",\"2022-01-13T00:00:00\",\"2022-01-14T00:00:00\",\"2022-01-18T00:00:00\",\"2022-01-19T00:00:00\",\"2022-01-20T00:00:00\",\"2022-01-21T00:00:00\",\"2022-01-24T00:00:00\",\"2022-01-25T00:00:00\",\"2022-01-26T00:00:00\",\"2022-01-27T00:00:00\",\"2022-01-28T00:00:00\",\"2022-01-31T00:00:00\",\"2022-02-01T00:00:00\",\"2022-02-02T00:00:00\",\"2022-02-03T00:00:00\",\"2022-02-04T00:00:00\",\"2022-02-07T00:00:00\",\"2022-02-08T00:00:00\",\"2022-02-09T00:00:00\",\"2022-02-10T00:00:00\",\"2022-02-11T00:00:00\",\"2022-02-14T00:00:00\",\"2022-02-15T00:00:00\",\"2022-02-16T00:00:00\",\"2022-02-17T00:00:00\",\"2022-02-18T00:00:00\",\"2022-02-22T00:00:00\",\"2022-02-23T00:00:00\",\"2022-02-24T00:00:00\",\"2022-02-25T00:00:00\",\"2022-02-28T00:00:00\",\"2022-03-01T00:00:00\",\"2022-03-02T00:00:00\",\"2022-03-03T00:00:00\",\"2022-03-04T00:00:00\",\"2022-03-07T00:00:00\",\"2022-03-08T00:00:00\",\"2022-03-09T00:00:00\",\"2022-03-10T00:00:00\",\"2022-03-11T00:00:00\",\"2022-03-14T00:00:00\",\"2022-03-15T00:00:00\",\"2022-03-16T00:00:00\",\"2022-03-17T00:00:00\",\"2022-03-18T00:00:00\",\"2022-03-21T00:00:00\",\"2022-03-22T00:00:00\",\"2022-03-23T00:00:00\",\"2022-03-24T00:00:00\",\"2022-03-25T00:00:00\",\"2022-03-28T00:00:00\",\"2022-03-29T00:00:00\",\"2022-03-30T00:00:00\",\"2022-03-31T00:00:00\",\"2022-04-01T00:00:00\",\"2022-04-04T00:00:00\",\"2022-04-05T00:00:00\",\"2022-04-06T00:00:00\",\"2022-04-07T00:00:00\",\"2022-04-08T00:00:00\",\"2022-04-11T00:00:00\",\"2022-04-12T00:00:00\",\"2022-04-13T00:00:00\",\"2022-04-14T00:00:00\",\"2022-04-18T00:00:00\",\"2022-04-19T00:00:00\",\"2022-04-20T00:00:00\",\"2022-04-21T00:00:00\",\"2022-04-22T00:00:00\",\"2022-04-25T00:00:00\",\"2022-04-26T00:00:00\",\"2022-04-27T00:00:00\",\"2022-04-28T00:00:00\",\"2022-04-29T00:00:00\",\"2022-05-02T00:00:00\",\"2022-05-03T00:00:00\",\"2022-05-04T00:00:00\",\"2022-05-05T00:00:00\",\"2022-05-06T00:00:00\",\"2022-05-09T00:00:00\",\"2022-05-10T00:00:00\",\"2022-05-11T00:00:00\",\"2022-05-12T00:00:00\",\"2022-05-13T00:00:00\",\"2022-05-16T00:00:00\",\"2022-05-17T00:00:00\",\"2022-05-18T00:00:00\",\"2022-05-19T00:00:00\",\"2022-05-20T00:00:00\",\"2022-05-23T00:00:00\",\"2022-05-24T00:00:00\",\"2022-05-25T00:00:00\",\"2022-05-26T00:00:00\",\"2022-05-27T00:00:00\",\"2022-05-31T00:00:00\",\"2022-06-01T00:00:00\",\"2022-06-02T00:00:00\",\"2022-06-03T00:00:00\",\"2022-06-06T00:00:00\"],\"y\":[27.5,28.0733331044515,28.53555509779189,28.557036859017835,28.164690959600758,27.669794074792435,27.483196253312148,27.49213091183538,26.991420531596308,27.07094686847632,27.260631042200362,27.38708715801639,28.151391540402855,29.070927642739274,29.747285222316094,30.15485658599556,29.866571362506157,29.047714190808144,28.315142921028674,27.610095534998937,27.46673045839122,27.47448689596687,26.2196576254688,25.009771801175162,23.89984796917537,22.776565541665416,22.4410438470315,21.984029129629075,21.439352880242627,21.32956879027894,21.05304586018596,20.56869736728055,20.36579793967792,19.770531934353965,19.017021365863258,18.374680961438138,17.98312089527191,18.04874736523987,18.52916483386597,18.626109787518722,18.45740680475695,18.438271076014725,18.39551387265728,18.77700955361397,18.844672883154757,18.566448665063785,17.724299415218304,16.822866429400094,16.115244222688442,15.820162662537738,15.75010832725091,15.516738948412229,15.364492772147052,15.356328565627333,14.964219145476818,14.769479468464851,14.816319594780605,14.864213075902729,15.049475409366469,15.052983746116546,15.245322535558005,15.066881703087661,15.031254481440767,15.420836575273663,15.860557640555164,15.760371900242344,15.470248047935815,15.33349883849611,15.272332431840832,15.498221557648934,15.668814448059901,15.072543003520241,14.441695437405423,14.187797059995543,14.231864604938435,14.047909838350884,13.851939904949582,13.70795996206437,13.545306730385851,13.143537871119864,13.172358428158686,13.274905466184567,13.246603504250812,13.281069129990453,13.020712753326968,12.540475143453332,12.076983301812312,11.637988944168821,11.385326000926188,11.480217359382108,11.516811623784037,11.354540993513089,10.999693982959736,10.9497961157964,11.319864217069833,11.49324286224252,12.088828485818745,12.262552209438248,12.518368050615896,12.532245506949497,12.5848301980941,12.45655340181778,12.57770216615326,12.641801596690065,12.791201115322675,12.680800756264109,12.883867158127082,13.06257813084937,12.98171865217432,12.881145869841475,12.624097132120067,12.339398240667936,12.266265455631652,12.244176906842815,12.426117925179554,12.454078693080316,12.289385808102535,12.179590551450682,11.866393624673176,11.497595826076063,11.261730538001718,11.254486949040533,10.922991375654302,10.751994199573572,10.781329517245013,10.824219627300712,10.836146303759557,10.634097383251815,10.462731550687572,10.558487700458382,11.218991787589932,11.529327731236712,11.496218589216403,11.340812303801332,11.343874996357464,11.625916524366076,11.630611130684969,11.81707394725108,11.854716066559314,12.003144107951165,12.14209609739876,12.291397449128471,12.517598388428585,12.985065617717039,13.803376938605794,14.608917730188693,14.655945153459129,14.253963372061133,14.169308914707422,14.20287276239284,13.955248520977552],\"type\":\"scatter\"},{\"line\":{\"color\":\"orange\",\"width\":1},\"name\":\"EMA20\",\"x\":[\"2021-10-29T00:00:00\",\"2021-11-01T00:00:00\",\"2021-11-02T00:00:00\",\"2021-11-03T00:00:00\",\"2021-11-04T00:00:00\",\"2021-11-05T00:00:00\",\"2021-11-08T00:00:00\",\"2021-11-09T00:00:00\",\"2021-11-10T00:00:00\",\"2021-11-11T00:00:00\",\"2021-11-12T00:00:00\",\"2021-11-15T00:00:00\",\"2021-11-16T00:00:00\",\"2021-11-17T00:00:00\",\"2021-11-18T00:00:00\",\"2021-11-19T00:00:00\",\"2021-11-22T00:00:00\",\"2021-11-23T00:00:00\",\"2021-11-24T00:00:00\",\"2021-11-26T00:00:00\",\"2021-11-29T00:00:00\",\"2021-11-30T00:00:00\",\"2021-12-01T00:00:00\",\"2021-12-02T00:00:00\",\"2021-12-03T00:00:00\",\"2021-12-06T00:00:00\",\"2021-12-07T00:00:00\",\"2021-12-08T00:00:00\",\"2021-12-09T00:00:00\",\"2021-12-10T00:00:00\",\"2021-12-13T00:00:00\",\"2021-12-14T00:00:00\",\"2021-12-15T00:00:00\",\"2021-12-16T00:00:00\",\"2021-12-17T00:00:00\",\"2021-12-20T00:00:00\",\"2021-12-21T00:00:00\",\"2021-12-22T00:00:00\",\"2021-12-23T00:00:00\",\"2021-12-27T00:00:00\",\"2021-12-28T00:00:00\",\"2021-12-29T00:00:00\",\"2021-12-30T00:00:00\",\"2021-12-31T00:00:00\",\"2022-01-03T00:00:00\",\"2022-01-04T00:00:00\",\"2022-01-05T00:00:00\",\"2022-01-06T00:00:00\",\"2022-01-07T00:00:00\",\"2022-01-10T00:00:00\",\"2022-01-11T00:00:00\",\"2022-01-12T00:00:00\",\"2022-01-13T00:00:00\",\"2022-01-14T00:00:00\",\"2022-01-18T00:00:00\",\"2022-01-19T00:00:00\",\"2022-01-20T00:00:00\",\"2022-01-21T00:00:00\",\"2022-01-24T00:00:00\",\"2022-01-25T00:00:00\",\"2022-01-26T00:00:00\",\"2022-01-27T00:00:00\",\"2022-01-28T00:00:00\",\"2022-01-31T00:00:00\",\"2022-02-01T00:00:00\",\"2022-02-02T00:00:00\",\"2022-02-03T00:00:00\",\"2022-02-04T00:00:00\",\"2022-02-07T00:00:00\",\"2022-02-08T00:00:00\",\"2022-02-09T00:00:00\",\"2022-02-10T00:00:00\",\"2022-02-11T00:00:00\",\"2022-02-14T00:00:00\",\"2022-02-15T00:00:00\",\"2022-02-16T00:00:00\",\"2022-02-17T00:00:00\",\"2022-02-18T00:00:00\",\"2022-02-22T00:00:00\",\"2022-02-23T00:00:00\",\"2022-02-24T00:00:00\",\"2022-02-25T00:00:00\",\"2022-02-28T00:00:00\",\"2022-03-01T00:00:00\",\"2022-03-02T00:00:00\",\"2022-03-03T00:00:00\",\"2022-03-04T00:00:00\",\"2022-03-07T00:00:00\",\"2022-03-08T00:00:00\",\"2022-03-09T00:00:00\",\"2022-03-10T00:00:00\",\"2022-03-11T00:00:00\",\"2022-03-14T00:00:00\",\"2022-03-15T00:00:00\",\"2022-03-16T00:00:00\",\"2022-03-17T00:00:00\",\"2022-03-18T00:00:00\",\"2022-03-21T00:00:00\",\"2022-03-22T00:00:00\",\"2022-03-23T00:00:00\",\"2022-03-24T00:00:00\",\"2022-03-25T00:00:00\",\"2022-03-28T00:00:00\",\"2022-03-29T00:00:00\",\"2022-03-30T00:00:00\",\"2022-03-31T00:00:00\",\"2022-04-01T00:00:00\",\"2022-04-04T00:00:00\",\"2022-04-05T00:00:00\",\"2022-04-06T00:00:00\",\"2022-04-07T00:00:00\",\"2022-04-08T00:00:00\",\"2022-04-11T00:00:00\",\"2022-04-12T00:00:00\",\"2022-04-13T00:00:00\",\"2022-04-14T00:00:00\",\"2022-04-18T00:00:00\",\"2022-04-19T00:00:00\",\"2022-04-20T00:00:00\",\"2022-04-21T00:00:00\",\"2022-04-22T00:00:00\",\"2022-04-25T00:00:00\",\"2022-04-26T00:00:00\",\"2022-04-27T00:00:00\",\"2022-04-28T00:00:00\",\"2022-04-29T00:00:00\",\"2022-05-02T00:00:00\",\"2022-05-03T00:00:00\",\"2022-05-04T00:00:00\",\"2022-05-05T00:00:00\",\"2022-05-06T00:00:00\",\"2022-05-09T00:00:00\",\"2022-05-10T00:00:00\",\"2022-05-11T00:00:00\",\"2022-05-12T00:00:00\",\"2022-05-13T00:00:00\",\"2022-05-16T00:00:00\",\"2022-05-17T00:00:00\",\"2022-05-18T00:00:00\",\"2022-05-19T00:00:00\",\"2022-05-20T00:00:00\",\"2022-05-23T00:00:00\",\"2022-05-24T00:00:00\",\"2022-05-25T00:00:00\",\"2022-05-26T00:00:00\",\"2022-05-27T00:00:00\",\"2022-05-31T00:00:00\",\"2022-06-01T00:00:00\",\"2022-06-02T00:00:00\",\"2022-06-03T00:00:00\",\"2022-06-06T00:00:00\"],\"y\":[27.5,27.66380945841471,27.834875137086897,27.9077442079805,27.857482774912512,27.745341587318535,27.68483292284549,27.668182190087048,27.508355293042392,27.481845221537053,27.49690752326195,27.510535320060665,27.717151032928772,28.021231872403376,28.314447920885883,28.567357577311466,28.636180752379644,28.519401618573212,28.36041102456336,28.154657666313465,28.061833155728923,28.00737283338504,27.598099143012433,27.121137334400572,26.602933807807734,26.0245592248399,25.619363151785024,25.18609044159828,24.72551043587175,24.38117616677459,24.011540341367485,23.591393678520078,23.245546574325083,22.801208798075653,22.297284172438147,21.801352361023838,21.363128399301516,21.059973342718113,20.910452050184784,20.711361349674256,20.46456511058465,20.267939825627092,20.08146931518093,20.029900896166303,19.929910291030115,19.74706171368266,19.394008304334534,18.977436128470643,18.570061240927263,18.251960126766225,18.000344843900606,17.7193596388372,17.466087332244772,17.263602838944117,16.969926407156656,16.723266760231347,16.550574673296182,16.399091374710544,16.305844584385152,16.187192759169108,16.13412679300452,15.998495673494276,15.899591327270723,15.928201749715363,16.00551584699182,15.963085806289428,15.860887190768791,15.784612260182877,15.724172960977867,15.745680279862368,15.770853608340412,15.590772323207126,15.361174988156522,15.201063113586928,15.117152311800004,14.980280692121505,14.835492058409645,14.70068329820815,14.55966586666726,14.348269131993034,14.241767266301919,14.169217959248053,14.07595906602284,14.006820143684449,13.863313463333547,13.645855030988072,13.4081545155159,13.155949345360273,12.939192275748907,12.818316828181768,12.701334287649017,12.54215956815589,12.327668177079426,12.186937910830883,12.174848625953341,12.142958295156632,12.251247955900874,12.285414784546242,12.35632763677719,12.375725044666666,12.405655952830156,12.38606965344301,12.427396324050745,12.460025289166262,12.520022895206417,12.514306432629327,12.588182006841109,12.667402775360427,12.68193581530936,12.681751481010924,12.627298926312479,12.545651453117355,12.505113208587995,12.476054789604866,12.505954329818978,12.506339653539252,12.454307309216178,12.407230426257206,12.296065601958249,12.149773661665257,12.020271404540283,11.945959820404843,11.785392240259794,11.654402488560015,11.576840361324575,11.513331740951958,11.4511096376877,11.334813438120904,11.219116909305493,11.174439108419255,11.304492523031996,11.385017008317547,11.389301131827855,11.355081950984363,11.354597991982969,11.434160048021095,11.453763885668872,11.52388157087977,11.562559545574628,11.63279198797084,11.707764186858755,11.79178665978534,11.903997479522811,12.095997726834348,12.41447409383901,12.776905067126199,12.964818870257037,13.011026578733999,13.105214523616477,13.21614651734478,13.239370662183084],\"type\":\"scatter\"}],                        {\"template\":{\"data\":{\"histogram2dcontour\":[{\"type\":\"histogram2dcontour\",\"colorbar\":{\"outlinewidth\":0,\"ticks\":\"\"},\"colorscale\":[[0.0,\"#0d0887\"],[0.1111111111111111,\"#46039f\"],[0.2222222222222222,\"#7201a8\"],[0.3333333333333333,\"#9c179e\"],[0.4444444444444444,\"#bd3786\"],[0.5555555555555556,\"#d8576b\"],[0.6666666666666666,\"#ed7953\"],[0.7777777777777778,\"#fb9f3a\"],[0.8888888888888888,\"#fdca26\"],[1.0,\"#f0f921\"]]}],\"choropleth\":[{\"type\":\"choropleth\",\"colorbar\":{\"outlinewidth\":0,\"ticks\":\"\"}}],\"histogram2d\":[{\"type\":\"histogram2d\",\"colorbar\":{\"outlinewidth\":0,\"ticks\":\"\"},\"colorscale\":[[0.0,\"#0d0887\"],[0.1111111111111111,\"#46039f\"],[0.2222222222222222,\"#7201a8\"],[0.3333333333333333,\"#9c179e\"],[0.4444444444444444,\"#bd3786\"],[0.5555555555555556,\"#d8576b\"],[0.6666666666666666,\"#ed7953\"],[0.7777777777777778,\"#fb9f3a\"],[0.8888888888888888,\"#fdca26\"],[1.0,\"#f0f921\"]]}],\"heatmap\":[{\"type\":\"heatmap\",\"colorbar\":{\"outlinewidth\":0,\"ticks\":\"\"},\"colorscale\":[[0.0,\"#0d0887\"],[0.1111111111111111,\"#46039f\"],[0.2222222222222222,\"#7201a8\"],[0.3333333333333333,\"#9c179e\"],[0.4444444444444444,\"#bd3786\"],[0.5555555555555556,\"#d8576b\"],[0.6666666666666666,\"#ed7953\"],[0.7777777777777778,\"#fb9f3a\"],[0.8888888888888888,\"#fdca26\"],[1.0,\"#f0f921\"]]}],\"heatmapgl\":[{\"type\":\"heatmapgl\",\"colorbar\":{\"outlinewidth\":0,\"ticks\":\"\"},\"colorscale\":[[0.0,\"#0d0887\"],[0.1111111111111111,\"#46039f\"],[0.2222222222222222,\"#7201a8\"],[0.3333333333333333,\"#9c179e\"],[0.4444444444444444,\"#bd3786\"],[0.5555555555555556,\"#d8576b\"],[0.6666666666666666,\"#ed7953\"],[0.7777777777777778,\"#fb9f3a\"],[0.8888888888888888,\"#fdca26\"],[1.0,\"#f0f921\"]]}],\"contourcarpet\":[{\"type\":\"contourcarpet\",\"colorbar\":{\"outlinewidth\":0,\"ticks\":\"\"}}],\"contour\":[{\"type\":\"contour\",\"colorbar\":{\"outlinewidth\":0,\"ticks\":\"\"},\"colorscale\":[[0.0,\"#0d0887\"],[0.1111111111111111,\"#46039f\"],[0.2222222222222222,\"#7201a8\"],[0.3333333333333333,\"#9c179e\"],[0.4444444444444444,\"#bd3786\"],[0.5555555555555556,\"#d8576b\"],[0.6666666666666666,\"#ed7953\"],[0.7777777777777778,\"#fb9f3a\"],[0.8888888888888888,\"#fdca26\"],[1.0,\"#f0f921\"]]}],\"surface\":[{\"type\":\"surface\",\"colorbar\":{\"outlinewidth\":0,\"ticks\":\"\"},\"colorscale\":[[0.0,\"#0d0887\"],[0.1111111111111111,\"#46039f\"],[0.2222222222222222,\"#7201a8\"],[0.3333333333333333,\"#9c179e\"],[0.4444444444444444,\"#bd3786\"],[0.5555555555555556,\"#d8576b\"],[0.6666666666666666,\"#ed7953\"],[0.7777777777777778,\"#fb9f3a\"],[0.8888888888888888,\"#fdca26\"],[1.0,\"#f0f921\"]]}],\"mesh3d\":[{\"type\":\"mesh3d\",\"colorbar\":{\"outlinewidth\":0,\"ticks\":\"\"}}],\"scatter\":[{\"fillpattern\":{\"fillmode\":\"overlay\",\"size\":10,\"solidity\":0.2},\"type\":\"scatter\"}],\"parcoords\":[{\"type\":\"parcoords\",\"line\":{\"colorbar\":{\"outlinewidth\":0,\"ticks\":\"\"}}}],\"scatterpolargl\":[{\"type\":\"scatterpolargl\",\"marker\":{\"colorbar\":{\"outlinewidth\":0,\"ticks\":\"\"}}}],\"bar\":[{\"error_x\":{\"color\":\"#2a3f5f\"},\"error_y\":{\"color\":\"#2a3f5f\"},\"marker\":{\"line\":{\"color\":\"#E5ECF6\",\"width\":0.5},\"pattern\":{\"fillmode\":\"overlay\",\"size\":10,\"solidity\":0.2}},\"type\":\"bar\"}],\"scattergeo\":[{\"type\":\"scattergeo\",\"marker\":{\"colorbar\":{\"outlinewidth\":0,\"ticks\":\"\"}}}],\"scatterpolar\":[{\"type\":\"scatterpolar\",\"marker\":{\"colorbar\":{\"outlinewidth\":0,\"ticks\":\"\"}}}],\"histogram\":[{\"marker\":{\"pattern\":{\"fillmode\":\"overlay\",\"size\":10,\"solidity\":0.2}},\"type\":\"histogram\"}],\"scattergl\":[{\"type\":\"scattergl\",\"marker\":{\"colorbar\":{\"outlinewidth\":0,\"ticks\":\"\"}}}],\"scatter3d\":[{\"type\":\"scatter3d\",\"line\":{\"colorbar\":{\"outlinewidth\":0,\"ticks\":\"\"}},\"marker\":{\"colorbar\":{\"outlinewidth\":0,\"ticks\":\"\"}}}],\"scattermapbox\":[{\"type\":\"scattermapbox\",\"marker\":{\"colorbar\":{\"outlinewidth\":0,\"ticks\":\"\"}}}],\"scatterternary\":[{\"type\":\"scatterternary\",\"marker\":{\"colorbar\":{\"outlinewidth\":0,\"ticks\":\"\"}}}],\"scattercarpet\":[{\"type\":\"scattercarpet\",\"marker\":{\"colorbar\":{\"outlinewidth\":0,\"ticks\":\"\"}}}],\"carpet\":[{\"aaxis\":{\"endlinecolor\":\"#2a3f5f\",\"gridcolor\":\"white\",\"linecolor\":\"white\",\"minorgridcolor\":\"white\",\"startlinecolor\":\"#2a3f5f\"},\"baxis\":{\"endlinecolor\":\"#2a3f5f\",\"gridcolor\":\"white\",\"linecolor\":\"white\",\"minorgridcolor\":\"white\",\"startlinecolor\":\"#2a3f5f\"},\"type\":\"carpet\"}],\"table\":[{\"cells\":{\"fill\":{\"color\":\"#EBF0F8\"},\"line\":{\"color\":\"white\"}},\"header\":{\"fill\":{\"color\":\"#C8D4E3\"},\"line\":{\"color\":\"white\"}},\"type\":\"table\"}],\"barpolar\":[{\"marker\":{\"line\":{\"color\":\"#E5ECF6\",\"width\":0.5},\"pattern\":{\"fillmode\":\"overlay\",\"size\":10,\"solidity\":0.2}},\"type\":\"barpolar\"}],\"pie\":[{\"automargin\":true,\"type\":\"pie\"}]},\"layout\":{\"autotypenumbers\":\"strict\",\"colorway\":[\"#636efa\",\"#EF553B\",\"#00cc96\",\"#ab63fa\",\"#FFA15A\",\"#19d3f3\",\"#FF6692\",\"#B6E880\",\"#FF97FF\",\"#FECB52\"],\"font\":{\"color\":\"#2a3f5f\"},\"hovermode\":\"closest\",\"hoverlabel\":{\"align\":\"left\"},\"paper_bgcolor\":\"white\",\"plot_bgcolor\":\"#E5ECF6\",\"polar\":{\"bgcolor\":\"#E5ECF6\",\"angularaxis\":{\"gridcolor\":\"white\",\"linecolor\":\"white\",\"ticks\":\"\"},\"radialaxis\":{\"gridcolor\":\"white\",\"linecolor\":\"white\",\"ticks\":\"\"}},\"ternary\":{\"bgcolor\":\"#E5ECF6\",\"aaxis\":{\"gridcolor\":\"white\",\"linecolor\":\"white\",\"ticks\":\"\"},\"baxis\":{\"gridcolor\":\"white\",\"linecolor\":\"white\",\"ticks\":\"\"},\"caxis\":{\"gridcolor\":\"white\",\"linecolor\":\"white\",\"ticks\":\"\"}},\"coloraxis\":{\"colorbar\":{\"outlinewidth\":0,\"ticks\":\"\"}},\"colorscale\":{\"sequential\":[[0.0,\"#0d0887\"],[0.1111111111111111,\"#46039f\"],[0.2222222222222222,\"#7201a8\"],[0.3333333333333333,\"#9c179e\"],[0.4444444444444444,\"#bd3786\"],[0.5555555555555556,\"#d8576b\"],[0.6666666666666666,\"#ed7953\"],[0.7777777777777778,\"#fb9f3a\"],[0.8888888888888888,\"#fdca26\"],[1.0,\"#f0f921\"]],\"sequentialminus\":[[0.0,\"#0d0887\"],[0.1111111111111111,\"#46039f\"],[0.2222222222222222,\"#7201a8\"],[0.3333333333333333,\"#9c179e\"],[0.4444444444444444,\"#bd3786\"],[0.5555555555555556,\"#d8576b\"],[0.6666666666666666,\"#ed7953\"],[0.7777777777777778,\"#fb9f3a\"],[0.8888888888888888,\"#fdca26\"],[1.0,\"#f0f921\"]],\"diverging\":[[0,\"#8e0152\"],[0.1,\"#c51b7d\"],[0.2,\"#de77ae\"],[0.3,\"#f1b6da\"],[0.4,\"#fde0ef\"],[0.5,\"#f7f7f7\"],[0.6,\"#e6f5d0\"],[0.7,\"#b8e186\"],[0.8,\"#7fbc41\"],[0.9,\"#4d9221\"],[1,\"#276419\"]]},\"xaxis\":{\"gridcolor\":\"white\",\"linecolor\":\"white\",\"ticks\":\"\",\"title\":{\"standoff\":15},\"zerolinecolor\":\"white\",\"automargin\":true,\"zerolinewidth\":2},\"yaxis\":{\"gridcolor\":\"white\",\"linecolor\":\"white\",\"ticks\":\"\",\"title\":{\"standoff\":15},\"zerolinecolor\":\"white\",\"automargin\":true,\"zerolinewidth\":2},\"scene\":{\"xaxis\":{\"backgroundcolor\":\"#E5ECF6\",\"gridcolor\":\"white\",\"linecolor\":\"white\",\"showbackground\":true,\"ticks\":\"\",\"zerolinecolor\":\"white\",\"gridwidth\":2},\"yaxis\":{\"backgroundcolor\":\"#E5ECF6\",\"gridcolor\":\"white\",\"linecolor\":\"white\",\"showbackground\":true,\"ticks\":\"\",\"zerolinecolor\":\"white\",\"gridwidth\":2},\"zaxis\":{\"backgroundcolor\":\"#E5ECF6\",\"gridcolor\":\"white\",\"linecolor\":\"white\",\"showbackground\":true,\"ticks\":\"\",\"zerolinecolor\":\"white\",\"gridwidth\":2}},\"shapedefaults\":{\"line\":{\"color\":\"#2a3f5f\"}},\"annotationdefaults\":{\"arrowcolor\":\"#2a3f5f\",\"arrowhead\":0,\"arrowwidth\":1},\"geo\":{\"bgcolor\":\"white\",\"landcolor\":\"#E5ECF6\",\"subunitcolor\":\"white\",\"showland\":true,\"showlakes\":true,\"lakecolor\":\"white\"},\"title\":{\"x\":0.05},\"mapbox\":{\"style\":\"light\"}}},\"title\":{\"text\":\"UDEMY Exponential Moving Average\"},\"xaxis\":{\"rangebreaks\":[{\"bounds\":[\"sat\",\"mon\"]}]}},                        {\"responsive\": true}                    ).then(function(){\n",
       "                            \n",
       "var gd = document.getElementById('ade5d8c7-803c-4a7b-865e-f540eb779850');\n",
       "var x = new MutationObserver(function (mutations, observer) {{\n",
       "        var display = window.getComputedStyle(gd).display;\n",
       "        if (!display || display === 'none') {{\n",
       "            console.log([gd, 'removed!']);\n",
       "            Plotly.purge(gd);\n",
       "            observer.disconnect();\n",
       "        }}\n",
       "}});\n",
       "\n",
       "// Listen for the removal of the full notebook cells\n",
       "var notebookContainer = gd.closest('#notebook-container');\n",
       "if (notebookContainer) {{\n",
       "    x.observe(notebookContainer, {childList: true});\n",
       "}}\n",
       "\n",
       "// Listen for the clearing of the current output cell\n",
       "var outputEl = gd.closest('.output');\n",
       "if (outputEl) {{\n",
       "    x.observe(outputEl, {childList: true});\n",
       "}}\n",
       "\n",
       "                        })                };                });            </script>        </div>"
      ]
     },
     "metadata": {},
     "output_type": "display_data"
    }
   ],
   "source": [
    "# Exponential moving average\n",
    "# EMA can be used to reduce the lag by putting more emphasis on recent price data\n",
    "fig = go.Figure()\n",
    "candle = go.Candlestick(x = udmy.index, open = udmy['Open'], \n",
    "                       high = udmy['High'],\n",
    "                       low = udmy['Low'],\n",
    "                       close = udmy['Close'],\n",
    "                       name = 'Candlestick')\n",
    "ema5 = go.Scatter(x = udmy.index, y = udmy['ema5'],\n",
    "                  line = dict(color = 'green', width = 1), name = 'EMA5')\n",
    "ema20 = go.Scatter(x = udmy.index, y = udmy['ema20'],\n",
    "                  line = dict(color = 'orange', width = 1), name = 'EMA20')\n",
    "\n",
    "\n",
    "fig.add_trace(candle)\n",
    "fig.add_trace(ema5)\n",
    "fig.add_trace(ema20)\n",
    "fig.update_layout(title = 'UDEMY Exponential Moving Average')\n",
    "fig.update_xaxes(rangebreaks = [dict(bounds = ['sat', 'mon'])])\n",
    "fig.show() "
   ]
  },
  {
   "cell_type": "markdown",
   "id": "formed-aggregate",
   "metadata": {},
   "source": [
    "From the EMA plot above, we see that whenever the 5day moving average breaks across the 20day moving average, thats a sign the stock is in an uptrend and whenever it breaks below the 20 moving average, its a sign of a downward trend.\n"
   ]
  },
  {
   "cell_type": "code",
   "execution_count": null,
   "id": "latin-corruption",
   "metadata": {},
   "outputs": [],
   "source": []
  },
  {
   "cell_type": "code",
   "execution_count": null,
   "id": "induced-alaska",
   "metadata": {},
   "outputs": [],
   "source": []
  }
 ],
 "metadata": {
  "kernelspec": {
   "display_name": "Python 3",
   "language": "python",
   "name": "python3"
  },
  "language_info": {
   "codemirror_mode": {
    "name": "ipython",
    "version": 3
   },
   "file_extension": ".py",
   "mimetype": "text/x-python",
   "name": "python",
   "nbconvert_exporter": "python",
   "pygments_lexer": "ipython3",
   "version": "3.8.8"
  }
 },
 "nbformat": 4,
 "nbformat_minor": 5
}
