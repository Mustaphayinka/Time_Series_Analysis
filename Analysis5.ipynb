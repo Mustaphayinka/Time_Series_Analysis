{
 "cells": [
  {
   "cell_type": "code",
   "execution_count": 1,
   "id": "extensive-casino",
   "metadata": {},
   "outputs": [],
   "source": [
    "import pandas as pd # Allows for further data manipulation and analysis\n",
    "import numpy as np # Provides ways to work with large multidimensional arrays\n",
    "from pandas_datareader import data as web # Reads stock data \n",
    "import matplotlib.pyplot as plt # Plotting\n",
    "import matplotlib.dates as mdates # Styling dates\n",
    "%matplotlib inline\n",
    "\n",
    "import datetime as dt # For defining dates\n",
    "import mplfinance as mpf # Matplotlib finance"
   ]
  },
  {
   "cell_type": "code",
   "execution_count": 8,
   "id": "checked-panic",
   "metadata": {},
   "outputs": [],
   "source": [
    "# Function that downloads a dataframe as saves it as csv by providing a ticker and starting date\n",
    "def save_to_csv_from_yahoo(ticker, syear, smonth, sday, eyear, emonth, eday):\n",
    "    \n",
    "    # Defines the time periods to use\n",
    "    start = dt.datetime(syear, smonth, sday)\n",
    "    end = dt.datetime(eyear, emonth, eday)\n",
    "    \n",
    "    # Reads data into a dataframe\n",
    "    df = web.DataReader(ticker, 'yahoo', start, end)\n",
    "    \n",
    "    # Save data to a CSV file\n",
    "    df.to_csv(\"/Users/Mustapha/Desktop/New_folder_(2)/Python4Finance-main/Python4Finance-main\" + ticker + '.csv')\n",
    "    return df"
   ]
  },
  {
   "cell_type": "code",
   "execution_count": 12,
   "id": "primary-species",
   "metadata": {},
   "outputs": [],
   "source": [
    "# save_to_csv_from_yahoo('UDMY', 2021, 1, 1, 2022, 1, 1)"
   ]
  },
  {
   "cell_type": "code",
   "execution_count": null,
   "id": "nasty-immunology",
   "metadata": {},
   "outputs": [],
   "source": []
  },
  {
   "cell_type": "code",
   "execution_count": null,
   "id": "abstract-ethiopia",
   "metadata": {},
   "outputs": [],
   "source": []
  },
  {
   "cell_type": "code",
   "execution_count": 15,
   "id": "terminal-jumping",
   "metadata": {},
   "outputs": [],
   "source": [
    "# Reads a dataframe from the CSV file, changes index to date and returns it\n",
    "def get_df_from_csv(ticker):\n",
    "    # Try to get the file and if it doesn't exist issue a warning\n",
    "    try:\n",
    "        df = pd.read_csv(\"/Users/Mustapha/Desktop/New_folder_(2)/Python4Finance-main/Python4Finance-main\" + ticker + '.csv')\n",
    "    except FileNotFoundError:\n",
    "        print(\"File Doesn't Exist\")\n",
    "    else:\n",
    "        return df"
   ]
  },
  {
   "cell_type": "code",
   "execution_count": 50,
   "id": "responsible-formation",
   "metadata": {},
   "outputs": [],
   "source": [
    "# Add daily returns to dataframe\n",
    "# We calculate a percentage rate of return for each day to compare investments.\n",
    "# Simple Rate of Return = (End Price - Beginning Price) / Beginning Price OR (EP / BP) - 1\n",
    "\n",
    "# Shift provides the value from the previous day\n",
    "# NaN is displayed because there was no previous day price for the 1st calculation\n",
    "def add_daily_return_to_df(df, ticker):\n",
    "    df['daily_return'] = (df['Adj Close'] / df['Adj Close'].shift(1)) - 1\n",
    "    # Save data to a CSV file\n",
    "    df.to_csv(\"/Users/Mustapha/Desktop/New_folder_(2)/Python4Finance-main/Python4Finance-main/\" + ticker + '.csv')   \n",
    "    return df  "
   ]
  },
  {
   "cell_type": "code",
   "execution_count": null,
   "id": "comic-alloy",
   "metadata": {},
   "outputs": [],
   "source": []
  },
  {
   "cell_type": "code",
   "execution_count": 41,
   "id": "improved-college",
   "metadata": {},
   "outputs": [],
   "source": [
    "# Returns total returns over time\n",
    "def get_return_defined_time(df, syear, smonth, sday, eyear, emonth, eday):\n",
    "    # Create string representations for the dates\n",
    "    start = f\"{syear}-{smonth}-{sday}\"\n",
    "    end = f\"{eyear}-{emonth}-{eday}\"\n",
    "    #df['Date'] = pd.to_datetime(df['Date'])\n",
    "    \n",
    "    # Use a mask to grab data between defined dates\n",
    "    mask = (df['Date'] >= start) & (df['Date'] <= end)\n",
    "    \n",
    "    # Get the mean of the column named daily return\n",
    "    daily_ret = df.loc[mask]['daily_return'].mean()\n",
    "    \n",
    "    # Get the number of days between 2 dates\n",
    "    df2 = df.loc[mask]\n",
    "    days = df2.shape[0]\n",
    "\n",
    "    # Return the total return between 2 dates\n",
    "    return (days * daily_ret)"
   ]
  },
  {
   "cell_type": "code",
   "execution_count": null,
   "id": "filled-transformation",
   "metadata": {},
   "outputs": [],
   "source": []
  },
  {
   "cell_type": "code",
   "execution_count": 24,
   "id": "digital-playing",
   "metadata": {},
   "outputs": [],
   "source": [
    "# Receives a ticker and the date range for which to plot using matplotlib finance\n",
    "def mplfinance_plot(ticker, chart_type, syear, smonth, sday, eyear, emonth, eday):\n",
    "    # Create string representations for the dates\n",
    "    start = f\"{syear}-{smonth}-{sday}\"\n",
    "    end = f\"{eyear}-{emonth}-{eday}\"\n",
    "    \n",
    "    try:\n",
    "        df = pd.read_csv(\"/Users/Mustapha/Desktop/New_folder_(2)/Python4Finance-main/Python4Finance-main\" + ticker + '.csv',index_col=0,parse_dates=True)\n",
    "    except FileNotFoundError:\n",
    "        print(\"File Doesn't Exist\")\n",
    "    else:\n",
    "        \n",
    "        # Set data.index as DatetimeIndex\n",
    "        df.index = pd.DatetimeIndex(df['Date'])\n",
    "        \n",
    "        # Define to only use data between provided dates\n",
    "        df_sub = df.loc[start:end]\n",
    "        \n",
    "        # A candlestick chart demonstrates the daily open, high, low and closing price of a stock\n",
    "        mpf.plot(df_sub,type='candle')\n",
    "\n",
    "        # Plot price changes\n",
    "        mpf.plot(df_sub,type='line')\n",
    "\n",
    "        # Moving averages provide trend information (Average of previous 4 observations)\n",
    "        mpf.plot(df_sub,type='ohlc',mav=4)\n",
    "        \n",
    "        # Define a built in style\n",
    "        s = mpf.make_mpf_style(base_mpf_style='charles', rc={'font.size': 8})\n",
    "        # Pass in the defined style to the whole canvas\n",
    "        fig = mpf.figure(figsize=(12, 8), style=s) \n",
    "        # Candle stick chart subplot\n",
    "        ax = fig.add_subplot(2,1,1) \n",
    "        # Volume chart subplot\n",
    "        av = fig.add_subplot(2,1,2, sharex=ax)  \n",
    "\n",
    "        # You can plot multiple MAVs, volume, non-trading days\n",
    "        mpf.plot(df_sub,type=chart_type, mav=(3,5,7), ax=ax, volume=av, show_nontrading=True)"
   ]
  },
  {
   "cell_type": "code",
   "execution_count": 25,
   "id": "protected-hollywood",
   "metadata": {},
   "outputs": [],
   "source": [
    "# Simple price plot\n",
    "# Creates a simple price / date plot between dates\n",
    "def price_plot(ticker, syear, smonth, sday, eyear, emonth, eday):\n",
    "    # Create string representations for the dates\n",
    "    start = f\"{syear}-{smonth}-{sday}\"\n",
    "    end = f\"{eyear}-{emonth}-{eday}\"\n",
    "    \n",
    "    try:\n",
    "        # For Windows\n",
    "        # df = pd.read_csv('C:/Users/derek/Documents/Python Finance/Python/' + ticker + '.csv')\n",
    "        # For MacOS\n",
    "        df = pd.read_csv(\"/Users/Mustapha/Desktop/New_folder_(2)/Python4Finance-main/Python4Finance-main\" + ticker + '.csv')\n",
    "    except FileNotFoundError:\n",
    "        print(\"File Doesn't Exist\")\n",
    "    else:\n",
    "        \n",
    "        # Set data.index as DatetimeIndex\n",
    "        df.index = pd.DatetimeIndex(df['Date'])\n",
    "        \n",
    "        # Define to only use data between provided dates\n",
    "        df_sub = df.loc[start:end]\n",
    "        \n",
    "        # Convert to Numpy array\n",
    "        df_np = df_sub.to_numpy()\n",
    "        \n",
    "        # Get adjusted close data from the 5th column\n",
    "        np_adj_close = df_np[:,5]\n",
    "        \n",
    "        # Get date from the 1st\n",
    "        date_arr = df_np[:,1]\n",
    "        \n",
    "        # Defines area taken up by the plot\n",
    "        fig = plt.figure(figsize=(12,8),dpi=100)\n",
    "        axes = fig.add_axes([0,0,1,1])\n",
    "        \n",
    "        # Define the plot line color as navy\n",
    "        axes.plot(date_arr, np_adj_close, color='navy')\n",
    "        \n",
    "        # Set max ticks on the x axis\n",
    "        axes.xaxis.set_major_locator(plt.MaxNLocator(8))\n",
    "        \n",
    "        # Add a grid, color, dashes(5pts 1 pt dashes separated by 2pt space)\n",
    "        axes.grid(True, color='0.6', dashes=(5, 2, 1, 2))\n",
    "        \n",
    "        # Set grid background color\n",
    "        axes.set_facecolor('#FAEBD7')"
   ]
  },
  {
   "cell_type": "code",
   "execution_count": null,
   "id": "lucky-partner",
   "metadata": {},
   "outputs": [],
   "source": []
  },
  {
   "cell_type": "code",
   "execution_count": 21,
   "id": "figured-limit",
   "metadata": {},
   "outputs": [],
   "source": [
    "# Download multiple stocks as saves as csv\n",
    "def download_multiple_stocks(syear, smonth, sday, eyear, emonth, eday, *args):\n",
    "    for x in args:\n",
    "        save_to_csv_from_yahoo(x, syear, smonth, sday, eyear, emonth, eday)"
   ]
  },
  {
   "cell_type": "code",
   "execution_count": 22,
   "id": "quarterly-worth",
   "metadata": {},
   "outputs": [],
   "source": [
    "# Merge multiple stocks(dataframes) in one dataframe by column name\n",
    "def merge_df_by_column_name(col_name, syear, smonth, sday, eyear, emonth, eday, *tickers):\n",
    "    # Will hold data for all dataframes with the same column name\n",
    "    mult_df = pd.DataFrame()\n",
    "    \n",
    "    start = f\"{syear}-{smonth}-{sday}\"\n",
    "    end = f\"{eyear}-{emonth}-{eday}\"\n",
    "    \n",
    "    for x in tickers:\n",
    "        mult_df[x] = web.DataReader(x, 'yahoo', start, end)[col_name]\n",
    "    return mult_df"
   ]
  },
  {
   "cell_type": "code",
   "execution_count": 23,
   "id": "coated-sustainability",
   "metadata": {},
   "outputs": [],
   "source": [
    "# Get changing value of investment using multiple stocks\n",
    "def plot_return_mult_stocks(investment, stock_df):\n",
    "    (stock_df / stock_df.iloc[0] * investment).plot(figsize = (15,6))"
   ]
  },
  {
   "cell_type": "code",
   "execution_count": null,
   "id": "presidential-cinema",
   "metadata": {},
   "outputs": [],
   "source": []
  },
  {
   "cell_type": "code",
   "execution_count": 24,
   "id": "incorporated-concentration",
   "metadata": {},
   "outputs": [],
   "source": [
    "# Receives the dataframe with the Adj Close data along with the stock ticker\n",
    "# Returns the mean and standard deviation associated with the ticker\n",
    "def get_stock_mean_sd(stock_df, ticker):\n",
    "    return stock_df[ticker].mean(), stock_df[ticker].std()"
   ]
  },
  {
   "cell_type": "code",
   "execution_count": 25,
   "id": "satisfactory-envelope",
   "metadata": {},
   "outputs": [],
   "source": [
    "# Receives the dataframe with the stock ticker as the column name and\n",
    "# the Adj Close values as the column data and returns the mean and \n",
    "# standard deviation\n",
    "def get_mult_stock_mean_sd(stock_df):\n",
    "    for stock in stock_df:\n",
    "        mean, sd = get_stock_mean_sd(stock_df, stock)\n",
    "        cov = sd / mean\n",
    "        print(\"Stock: {:4} Mean: {:7.2f} Standard deviation: {:2.2f}\".format(stock, mean, sd))\n",
    "        print(\"Coefficient of Variation: {}\\n\".format(cov))"
   ]
  },
  {
   "cell_type": "code",
   "execution_count": 51,
   "id": "middle-consequence",
   "metadata": {},
   "outputs": [
    {
     "name": "stdout",
     "output_type": "stream",
     "text": [
      "Total Return -0.3023448736293357\n"
     ]
    }
   ],
   "source": [
    "# Testing the function\n",
    "# udmy= save_to_csv_from_yahoo('UDMY', 2021, 1, 1, 2022, 1, 1)\n",
    "\n",
    "udmy = get_df_from_csv('udmy')\n",
    "\n",
    "add_daily_return_to_df(udmy, 'UDMY')\n",
    "# udmy\n",
    "\n",
    "tot_ret = get_return_defined_time(udmy, 2021, 1, 1, 2022, 1, 1)\n",
    "print('Total Return', tot_ret)"
   ]
  },
  {
   "cell_type": "code",
   "execution_count": 48,
   "id": "organic-astrology",
   "metadata": {},
   "outputs": [
    {
     "ename": "PermissionError",
     "evalue": "[Errno 13] Permission denied: '/Users/Mustapha/Desktop/New_folder_(2)/Python4Finance-main/Python4Finance-main/stock list/stock_copy/COUR.csv'",
     "output_type": "error",
     "traceback": [
      "\u001b[1;31m---------------------------------------------------------------------------\u001b[0m",
      "\u001b[1;31mPermissionError\u001b[0m                           Traceback (most recent call last)",
      "\u001b[1;32m<ipython-input-48-0d0d335b954b>\u001b[0m in \u001b[0;36m<module>\u001b[1;34m\u001b[0m\n\u001b[0;32m      5\u001b[0m \u001b[0mcour\u001b[0m \u001b[1;33m=\u001b[0m \u001b[0mget_df_from_csv\u001b[0m\u001b[1;33m(\u001b[0m\u001b[1;34m'COUR'\u001b[0m\u001b[1;33m)\u001b[0m\u001b[1;33m\u001b[0m\u001b[1;33m\u001b[0m\u001b[0m\n\u001b[0;32m      6\u001b[0m \u001b[1;33m\u001b[0m\u001b[0m\n\u001b[1;32m----> 7\u001b[1;33m \u001b[0madd_daily_return_to_df\u001b[0m\u001b[1;33m(\u001b[0m\u001b[0mcour\u001b[0m\u001b[1;33m,\u001b[0m \u001b[1;34m'COUR'\u001b[0m\u001b[1;33m)\u001b[0m\u001b[1;33m\u001b[0m\u001b[1;33m\u001b[0m\u001b[0m\n\u001b[0m\u001b[0;32m      8\u001b[0m \u001b[1;31m# udmy\u001b[0m\u001b[1;33m\u001b[0m\u001b[1;33m\u001b[0m\u001b[1;33m\u001b[0m\u001b[0m\n\u001b[0;32m      9\u001b[0m \u001b[1;33m\u001b[0m\u001b[0m\n",
      "\u001b[1;32m<ipython-input-46-c2c1c32662cf>\u001b[0m in \u001b[0;36madd_daily_return_to_df\u001b[1;34m(df, ticker)\u001b[0m\n\u001b[0;32m      8\u001b[0m     \u001b[0mdf\u001b[0m\u001b[1;33m[\u001b[0m\u001b[1;34m'daily_return'\u001b[0m\u001b[1;33m]\u001b[0m \u001b[1;33m=\u001b[0m \u001b[1;33m(\u001b[0m\u001b[0mdf\u001b[0m\u001b[1;33m[\u001b[0m\u001b[1;34m'Adj Close'\u001b[0m\u001b[1;33m]\u001b[0m \u001b[1;33m/\u001b[0m \u001b[0mdf\u001b[0m\u001b[1;33m[\u001b[0m\u001b[1;34m'Adj Close'\u001b[0m\u001b[1;33m]\u001b[0m\u001b[1;33m.\u001b[0m\u001b[0mshift\u001b[0m\u001b[1;33m(\u001b[0m\u001b[1;36m1\u001b[0m\u001b[1;33m)\u001b[0m\u001b[1;33m)\u001b[0m \u001b[1;33m-\u001b[0m \u001b[1;36m1\u001b[0m\u001b[1;33m\u001b[0m\u001b[1;33m\u001b[0m\u001b[0m\n\u001b[0;32m      9\u001b[0m     \u001b[1;31m# Save data to a CSV file\u001b[0m\u001b[1;33m\u001b[0m\u001b[1;33m\u001b[0m\u001b[1;33m\u001b[0m\u001b[0m\n\u001b[1;32m---> 10\u001b[1;33m     \u001b[0mdf\u001b[0m\u001b[1;33m.\u001b[0m\u001b[0mto_csv\u001b[0m\u001b[1;33m(\u001b[0m\u001b[1;34m\"/Users/Mustapha/Desktop/New_folder_(2)/Python4Finance-main/Python4Finance-main/stock list/stock_copy/\"\u001b[0m \u001b[1;33m+\u001b[0m \u001b[0mticker\u001b[0m \u001b[1;33m+\u001b[0m \u001b[1;34m'.csv'\u001b[0m\u001b[1;33m)\u001b[0m\u001b[1;33m\u001b[0m\u001b[1;33m\u001b[0m\u001b[0m\n\u001b[0m\u001b[0;32m     11\u001b[0m     \u001b[1;32mreturn\u001b[0m \u001b[0mdf\u001b[0m\u001b[1;33m\u001b[0m\u001b[1;33m\u001b[0m\u001b[0m\n",
      "\u001b[1;32m~\\anaconda3\\envs\\tf\\lib\\site-packages\\pandas\\core\\generic.py\u001b[0m in \u001b[0;36mto_csv\u001b[1;34m(self, path_or_buf, sep, na_rep, float_format, columns, header, index, index_label, mode, encoding, compression, quoting, quotechar, line_terminator, chunksize, date_format, doublequote, escapechar, decimal, errors, storage_options)\u001b[0m\n\u001b[0;32m   3549\u001b[0m         )\n\u001b[0;32m   3550\u001b[0m \u001b[1;33m\u001b[0m\u001b[0m\n\u001b[1;32m-> 3551\u001b[1;33m         return DataFrameRenderer(formatter).to_csv(\n\u001b[0m\u001b[0;32m   3552\u001b[0m             \u001b[0mpath_or_buf\u001b[0m\u001b[1;33m,\u001b[0m\u001b[1;33m\u001b[0m\u001b[1;33m\u001b[0m\u001b[0m\n\u001b[0;32m   3553\u001b[0m             \u001b[0mline_terminator\u001b[0m\u001b[1;33m=\u001b[0m\u001b[0mline_terminator\u001b[0m\u001b[1;33m,\u001b[0m\u001b[1;33m\u001b[0m\u001b[1;33m\u001b[0m\u001b[0m\n",
      "\u001b[1;32m~\\anaconda3\\envs\\tf\\lib\\site-packages\\pandas\\io\\formats\\format.py\u001b[0m in \u001b[0;36mto_csv\u001b[1;34m(self, path_or_buf, encoding, sep, columns, index_label, mode, compression, quoting, quotechar, line_terminator, chunksize, date_format, doublequote, escapechar, errors, storage_options)\u001b[0m\n\u001b[0;32m   1178\u001b[0m             \u001b[0mformatter\u001b[0m\u001b[1;33m=\u001b[0m\u001b[0mself\u001b[0m\u001b[1;33m.\u001b[0m\u001b[0mfmt\u001b[0m\u001b[1;33m,\u001b[0m\u001b[1;33m\u001b[0m\u001b[1;33m\u001b[0m\u001b[0m\n\u001b[0;32m   1179\u001b[0m         )\n\u001b[1;32m-> 1180\u001b[1;33m         \u001b[0mcsv_formatter\u001b[0m\u001b[1;33m.\u001b[0m\u001b[0msave\u001b[0m\u001b[1;33m(\u001b[0m\u001b[1;33m)\u001b[0m\u001b[1;33m\u001b[0m\u001b[1;33m\u001b[0m\u001b[0m\n\u001b[0m\u001b[0;32m   1181\u001b[0m \u001b[1;33m\u001b[0m\u001b[0m\n\u001b[0;32m   1182\u001b[0m         \u001b[1;32mif\u001b[0m \u001b[0mcreated_buffer\u001b[0m\u001b[1;33m:\u001b[0m\u001b[1;33m\u001b[0m\u001b[1;33m\u001b[0m\u001b[0m\n",
      "\u001b[1;32m~\\anaconda3\\envs\\tf\\lib\\site-packages\\pandas\\io\\formats\\csvs.py\u001b[0m in \u001b[0;36msave\u001b[1;34m(self)\u001b[0m\n\u001b[0;32m    239\u001b[0m         \"\"\"\n\u001b[0;32m    240\u001b[0m         \u001b[1;31m# apply compression and byte/text conversion\u001b[0m\u001b[1;33m\u001b[0m\u001b[1;33m\u001b[0m\u001b[1;33m\u001b[0m\u001b[0m\n\u001b[1;32m--> 241\u001b[1;33m         with get_handle(\n\u001b[0m\u001b[0;32m    242\u001b[0m             \u001b[0mself\u001b[0m\u001b[1;33m.\u001b[0m\u001b[0mfilepath_or_buffer\u001b[0m\u001b[1;33m,\u001b[0m\u001b[1;33m\u001b[0m\u001b[1;33m\u001b[0m\u001b[0m\n\u001b[0;32m    243\u001b[0m             \u001b[0mself\u001b[0m\u001b[1;33m.\u001b[0m\u001b[0mmode\u001b[0m\u001b[1;33m,\u001b[0m\u001b[1;33m\u001b[0m\u001b[1;33m\u001b[0m\u001b[0m\n",
      "\u001b[1;32m~\\anaconda3\\envs\\tf\\lib\\site-packages\\pandas\\io\\common.py\u001b[0m in \u001b[0;36mget_handle\u001b[1;34m(path_or_buf, mode, encoding, compression, memory_map, is_text, errors, storage_options)\u001b[0m\n\u001b[0;32m    787\u001b[0m         \u001b[1;32mif\u001b[0m \u001b[0mioargs\u001b[0m\u001b[1;33m.\u001b[0m\u001b[0mencoding\u001b[0m \u001b[1;32mand\u001b[0m \u001b[1;34m\"b\"\u001b[0m \u001b[1;32mnot\u001b[0m \u001b[1;32min\u001b[0m \u001b[0mioargs\u001b[0m\u001b[1;33m.\u001b[0m\u001b[0mmode\u001b[0m\u001b[1;33m:\u001b[0m\u001b[1;33m\u001b[0m\u001b[1;33m\u001b[0m\u001b[0m\n\u001b[0;32m    788\u001b[0m             \u001b[1;31m# Encoding\u001b[0m\u001b[1;33m\u001b[0m\u001b[1;33m\u001b[0m\u001b[1;33m\u001b[0m\u001b[0m\n\u001b[1;32m--> 789\u001b[1;33m             handle = open(\n\u001b[0m\u001b[0;32m    790\u001b[0m                 \u001b[0mhandle\u001b[0m\u001b[1;33m,\u001b[0m\u001b[1;33m\u001b[0m\u001b[1;33m\u001b[0m\u001b[0m\n\u001b[0;32m    791\u001b[0m                 \u001b[0mioargs\u001b[0m\u001b[1;33m.\u001b[0m\u001b[0mmode\u001b[0m\u001b[1;33m,\u001b[0m\u001b[1;33m\u001b[0m\u001b[1;33m\u001b[0m\u001b[0m\n",
      "\u001b[1;31mPermissionError\u001b[0m: [Errno 13] Permission denied: '/Users/Mustapha/Desktop/New_folder_(2)/Python4Finance-main/Python4Finance-main/stock list/stock_copy/COUR.csv'"
     ]
    }
   ],
   "source": [
    "# Total returns from coursera stock \n",
    "# Testing the function\n",
    "# udmy= save_to_csv_from_yahoo('UDMY', 2021, 1, 1, 2022, 1, 1)\n",
    "\n",
    "cour = get_df_from_csv('COUR')\n",
    "\n",
    "add_daily_return_to_df(cour, 'COUR')\n",
    "# udmy\n",
    "\n",
    "tot_ret = get_return_defined_time(cour, 2021, 1, 1, 2022, 1, 1)\n",
    "print('Total Return', tot_ret)"
   ]
  },
  {
   "cell_type": "code",
   "execution_count": 27,
   "id": "entire-gamma",
   "metadata": {},
   "outputs": [
    {
     "name": "stdout",
     "output_type": "stream",
     "text": [
      "Stock: UDMY Mean:   16.34 Standard deviation: 5.74\n",
      "Coefficient of Variation: 0.35148897251521116\n",
      "\n",
      "Stock: COUR Mean:   22.67 Standard deviation: 5.48\n",
      "Coefficient of Variation: 0.24160711135657084\n",
      "\n"
     ]
    },
    {
     "data": {
      "image/png": "[encoded data removed]",
      "text/plain": [
       "<Figure size 1080x432 with 1 Axes>"
      ]
     },
     "metadata": {
      "needs_background": "light"
     },
     "output_type": "display_data"
    }
   ],
   "source": [
    "# Testing the function\n",
    "\n",
    "# mplfinance_plot('AMZN','ohlc',2020, 1, 1, 2021, 1, 1)\n",
    "# price_plot('AMZN',2020, 1, 1, 2021, 1, 1)\n",
    "\n",
    "# Download multiple stocks\n",
    "# tickers = ['UDMY', 'COUR']\n",
    "# download_multiple_stocks(2021, 1, 1, 2022, 1, 1, *tickers)\n",
    "\n",
    "# Merge dataframes from multiple stocks using the same column name\n",
    "tickers = ['UDMY', 'COUR']\n",
    "mult_df = merge_df_by_column_name('Adj Close', 2021, 1, 1, 2022, 6, 1, *tickers)\n",
    "mult_df.tail()\n",
    "\n",
    "# # Plots the amount of returns you would have if you had invested 100 USD in each of them\n",
    "plot_return_mult_stocks(100, mult_df)\n",
    "\n",
    "get_mult_stock_mean_sd(mult_df)"
   ]
  },
  {
   "cell_type": "code",
   "execution_count": null,
   "id": "floppy-yahoo",
   "metadata": {},
   "outputs": [],
   "source": []
  },
  {
   "cell_type": "code",
   "execution_count": null,
   "id": "stylish-piano",
   "metadata": {},
   "outputs": [],
   "source": [
    "# From the above, we find out that if 100USD was invested in both UDMY and COUR,\n",
    "# you would be below your initial investment for both stocks by June 2022\n",
    "# Both (UDMY and COUR) stocks value will be about 50% below of the initial investment\n",
    "# Also we see that COUR  stock has the least variability"
   ]
  },
  {
   "cell_type": "code",
   "execution_count": null,
   "id": "blond-copying",
   "metadata": {},
   "outputs": [],
   "source": []
  },
  {
   "cell_type": "code",
   "execution_count": 28,
   "id": "innovative-office",
   "metadata": {},
   "outputs": [],
   "source": [
    "# Returns first valid date in a dataframe\n",
    "# Receives a start and end date and returns the 1st date in that range\n",
    "def get_valid_dates(df, sdate, edate):\n",
    "    \n",
    "    try:\n",
    "        mask = (df['Date'] > sdate) & (df['Date'] <= edate) \n",
    "        sm_df = df.loc[mask]\n",
    "        sm_df = sm_df.set_index(['Date'])\n",
    "    \n",
    "        # Get smallest date that matches\n",
    "        sm_date = sm_df.index.min()\n",
    "        last_date = sm_df.index.max()\n",
    "    \n",
    "        # Add leading zeros to date\n",
    "        # Split string on - and if a number is less than 2 add a zero in front\n",
    "        date_leading = '-'.join(('0' if len(x)<2 else '')+x for x in sm_date.split('-'))\n",
    "        date_ending = '-'.join(('0' if len(x)<2 else '')+x for x in last_date.split('-'))\n",
    "        print(date_leading, \" \", date_ending)\n",
    "    except Exception:\n",
    "        print(\"Date Corrupted\")\n",
    "    else:\n",
    "        return date_leading, date_ending"
   ]
  },
  {
   "cell_type": "code",
   "execution_count": 29,
   "id": "bored-bulgarian",
   "metadata": {},
   "outputs": [],
   "source": [
    "# Get ROI between 2 dates\n",
    "def roi_between_dates(df, sdate, edate):\n",
    "    \n",
    "    try:\n",
    "        # Gets the Adj Close price for 1st & last date \n",
    "        start_val = df.loc[sdate,'Adj Close'] \n",
    "        end_val = df.loc[edate,'Adj Close']\n",
    "        roi = ((end_val - start_val) / start_val)\n",
    "    except Exception:\n",
    "        print(\"Data Corrupted\")\n",
    "    else:\n",
    "        return roi"
   ]
  },
  {
   "cell_type": "code",
   "execution_count": 30,
   "id": "pleased-yahoo",
   "metadata": {},
   "outputs": [],
   "source": [
    "# Get mean between dates\n",
    "def get_mean_between_dates(df, sdate, edate):\n",
    "    mask = (df['Date'] > sdate) & (df['Date'] <= edate)\n",
    "    return df.loc[mask][\"Adj Close\"].mean()"
   ]
  },
  {
   "cell_type": "code",
   "execution_count": 31,
   "id": "sophisticated-stupid",
   "metadata": {},
   "outputs": [],
   "source": [
    "# Get std between dates\n",
    "def get_sd_between_dates(df, sdate, edate):\n",
    "    mask = (df['Date'] > sdate) & (df['Date'] <= edate)\n",
    "    return df.loc[mask][\"Adj Close\"].std()"
   ]
  },
  {
   "cell_type": "code",
   "execution_count": 32,
   "id": "weekly-digit",
   "metadata": {},
   "outputs": [],
   "source": [
    "# Get coefficient of deviation between dates\n",
    "def get_cov_between_dates(df, sdate, edate):\n",
    "    mean = get_mean_between_dates(df, sdate, edate)\n",
    "    sd = get_sd_between_dates(df, sdate, edate)\n",
    "    return sd / mean"
   ]
  },
  {
   "cell_type": "code",
   "execution_count": null,
   "id": "arbitrary-religious",
   "metadata": {},
   "outputs": [],
   "source": []
  },
  {
   "cell_type": "code",
   "execution_count": 33,
   "id": "straight-laugh",
   "metadata": {},
   "outputs": [
    {
     "name": "stdout",
     "output_type": "stream",
     "text": [
      "Dataframe for Ticker UDMY\n",
      "2021-10-29   2021-12-31\n",
      "('2021-10-29', '2021-12-31')\n",
      "2021-10-29   2021-12-31\n",
      "Adj Close Mean : 23.852325616880904\n",
      "Adj Close Standard Deviation : 4.577463233119539\n",
      "Adj Close Coefficient of Variation : 0.19190846656394586\n",
      "Return on Investment since 2021: -0.28945451216264206\n"
     ]
    }
   ],
   "source": [
    "# Test Functions\n",
    "tickers[0]\n",
    "print(\"Dataframe for Ticker\", tickers[0])\n",
    "\n",
    "# Get a dataframe for that ticker\n",
    "stock_a = get_df_from_csv(tickers[0])\n",
    "# stock_a\n",
    "\n",
    "# # Get the first and last valid date in the date range\n",
    "print(get_valid_dates(stock_a, '2021-01-01', '2022-01-01'))\n",
    "sdate, edate = get_valid_dates(stock_a, '2021-01-01', '2022-01-01')\n",
    "# sdate\n",
    "# edate\n",
    "\n",
    "print(\"Adj Close Mean :\", get_mean_between_dates(stock_a, sdate, edate))\n",
    "print(\"Adj Close Standard Deviation :\", get_sd_between_dates(stock_a, sdate, edate))\n",
    "print(\"Adj Close Coefficient of Variation :\", get_cov_between_dates(stock_a, sdate, edate))\n",
    "\n",
    "stock_a = stock_a.set_index(['Date'])\n",
    "# stock_a\n",
    "\n",
    "print(\"Return on Investment since 2021:\", roi_between_dates(stock_a, sdate, edate))"
   ]
  },
  {
   "cell_type": "code",
   "execution_count": 34,
   "id": "determined-suggestion",
   "metadata": {},
   "outputs": [],
   "source": [
    "# COV and ROI for all stocks over defined period\n",
    "\n",
    "def get_cov_ror(tickers, sdate, edate):\n",
    "    # Define column names for dataframe\n",
    "    col_names = [\"Ticker\", \"COV\", \"ROI\"]\n",
    "    \n",
    "    # Create dataframe with column names\n",
    "    df = pd.DataFrame(columns = col_names)\n",
    "    \n",
    "    for ticker in tickers:\n",
    "        print(\"Working on :\", ticker)\n",
    "        s_df = get_df_from_csv(ticker)\n",
    "    \n",
    "        sdate2, edate2 = get_valid_dates(s_df, sdate, edate)\n",
    "    \n",
    "        cov = get_cov_between_dates(s_df, sdate2, edate2)\n",
    "    \n",
    "        # Set date as index\n",
    "        s_df = s_df.set_index(['Date'])\n",
    "        roi = roi_between_dates(s_df, sdate2, edate2)\n",
    "\n",
    "        # Add stock data to new dataframe row\n",
    "        # len provides the length of the dataframe which is the next open index\n",
    "        df.loc[len(df.index)] = [ticker, cov, roi]\n",
    "    \n",
    "    return df"
   ]
  },
  {
   "cell_type": "code",
   "execution_count": 35,
   "id": "discrete-subscription",
   "metadata": {},
   "outputs": [
    {
     "name": "stdout",
     "output_type": "stream",
     "text": [
      "Working on : UDMY\n",
      "2021-10-29   2021-12-31\n",
      "Working on : COUR\n",
      "2021-03-31   2021-12-31\n"
     ]
    }
   ],
   "source": [
    "# Remove CRC GRUB AAN ARNC\n",
    "market_df = get_cov_ror(tickers, '2021-01-01', '2022-01-01')\n",
    "# market_df"
   ]
  },
  {
   "cell_type": "code",
   "execution_count": 36,
   "id": "stunning-outdoors",
   "metadata": {},
   "outputs": [
    {
     "data": {
      "text/html": [
       "<div>\n",
       "<style scoped>\n",
       "    .dataframe tbody tr th:only-of-type {\n",
       "        vertical-align: middle;\n",
       "    }\n",
       "\n",
       "    .dataframe tbody tr th {\n",
       "        vertical-align: top;\n",
       "    }\n",
       "\n",
       "    .dataframe thead th {\n",
       "        text-align: right;\n",
       "    }\n",
       "</style>\n",
       "<table border=\"1\" class=\"dataframe\">\n",
       "  <thead>\n",
       "    <tr style=\"text-align: right;\">\n",
       "      <th></th>\n",
       "      <th>Ticker</th>\n",
       "      <th>COV</th>\n",
       "      <th>ROI</th>\n",
       "    </tr>\n",
       "  </thead>\n",
       "  <tbody>\n",
       "    <tr>\n",
       "      <th>0</th>\n",
       "      <td>UDMY</td>\n",
       "      <td>0.191908</td>\n",
       "      <td>-0.289455</td>\n",
       "    </tr>\n",
       "    <tr>\n",
       "      <th>1</th>\n",
       "      <td>COUR</td>\n",
       "      <td>0.175970</td>\n",
       "      <td>-0.456889</td>\n",
       "    </tr>\n",
       "  </tbody>\n",
       "</table>\n",
       "</div>"
      ],
      "text/plain": [
       "  Ticker       COV       ROI\n",
       "0   UDMY  0.191908 -0.289455\n",
       "1   COUR  0.175970 -0.456889"
      ]
     },
     "execution_count": 36,
     "metadata": {},
     "output_type": "execute_result"
    }
   ],
   "source": [
    "# Get top 20 stocks ROI\n",
    "market_df.sort_values(by=['ROI'], ascending=False).head()"
   ]
  },
  {
   "cell_type": "code",
   "execution_count": 37,
   "id": "adapted-sigma",
   "metadata": {},
   "outputs": [],
   "source": [
    "# Reads a dataframe from the CSV file, changes index to date and returns it\n",
    "def get_df_from_csv_2(ticker):\n",
    "    # Try to get the file and if it doesn't exist issue a warning\n",
    "    try:\n",
    "        df = pd.read_csv(\"/Users/Mustapha/Desktop/New_folder_(2)/Python4Finance-main/Python4Finance-main/stock list/stock_copy/\" + ticker + '.csv')    \n",
    "    except FileNotFoundError:\n",
    "        print(\"File Doesn't Exist\")\n",
    "    else:\n",
    "        return df"
   ]
  },
  {
   "cell_type": "code",
   "execution_count": null,
   "id": "stock-exhibition",
   "metadata": {},
   "outputs": [],
   "source": []
  },
  {
   "cell_type": "code",
   "execution_count": 38,
   "id": "ceramic-threshold",
   "metadata": {},
   "outputs": [],
   "source": [
    "# Merge multiple stocks in one dataframe by column name\n",
    "def merge_df_by_column_name_2(col_name, sdate, edate, *tickers):\n",
    "    # Will hold data for all dataframes with the same column name\n",
    "    mult_df = pd.DataFrame()\n",
    "    for x in tickers:\n",
    "        df = get_df_from_csv_2(x)\n",
    "        df['Date'] = pd.to_datetime(df['Date'])\n",
    "        # Use a mask to grab data between defined dates\n",
    "        mask = (df['Date'] >= sdate) & (df['Date'] <= edate)\n",
    "        mult_df[x] = df.loc[mask][col_name]\n",
    "        \n",
    "    return mult_df"
   ]
  },
  {
   "cell_type": "code",
   "execution_count": null,
   "id": "entertaining-matthew",
   "metadata": {},
   "outputs": [],
   "source": []
  },
  {
   "cell_type": "code",
   "execution_count": 53,
   "id": "consolidated-ozone",
   "metadata": {},
   "outputs": [
    {
     "data": {
      "text/html": [
       "<div>\n",
       "<style scoped>\n",
       "    .dataframe tbody tr th:only-of-type {\n",
       "        vertical-align: middle;\n",
       "    }\n",
       "\n",
       "    .dataframe tbody tr th {\n",
       "        vertical-align: top;\n",
       "    }\n",
       "\n",
       "    .dataframe thead th {\n",
       "        text-align: right;\n",
       "    }\n",
       "</style>\n",
       "<table border=\"1\" class=\"dataframe\">\n",
       "  <thead>\n",
       "    <tr style=\"text-align: right;\">\n",
       "      <th></th>\n",
       "      <th>COUR</th>\n",
       "      <th>UDMY</th>\n",
       "    </tr>\n",
       "  </thead>\n",
       "  <tbody>\n",
       "    <tr>\n",
       "      <th>COUR</th>\n",
       "      <td>1.000000</td>\n",
       "      <td>-0.300024</td>\n",
       "    </tr>\n",
       "    <tr>\n",
       "      <th>UDMY</th>\n",
       "      <td>-0.300024</td>\n",
       "      <td>1.000000</td>\n",
       "    </tr>\n",
       "  </tbody>\n",
       "</table>\n",
       "</div>"
      ],
      "text/plain": [
       "          COUR      UDMY\n",
       "COUR  1.000000 -0.300024\n",
       "UDMY -0.300024  1.000000"
      ]
     },
     "execution_count": 53,
     "metadata": {},
     "output_type": "execute_result"
    }
   ],
   "source": [
    "# Correlation tells us how closely 2 stocks returns move together\n",
    "# Correlation is a standardized value lying between -1 and 1\n",
    "# When this value is greater that .5 we say that these stocks are strongly correlated\n",
    "# Of course each stocks price is perfectly correlated with itself\n",
    "\n",
    "# We focus on the correlation of returns because investors care about returns \n",
    "\n",
    "# Merge all stock price data into 1 dataframe\n",
    "test_list = [\"COUR\", \"UDMY\"]\n",
    "mult_df = merge_df_by_column_name_2('daily_return','2021-01-01','2022-01-01', *test_list)\n",
    "mult_df\n",
    "\n",
    "# Generate a Correlation Matrix\n",
    "# mult_df.corr()\n",
    "\n",
    "# We can look at the correlation between Netflix and the others\n",
    "mult_df.corr()#['COUR']\n",
    "\n",
    "# # We can plot this in a bar chart\n",
    "mult_df.corr()"
   ]
  },
  {
   "cell_type": "code",
   "execution_count": 54,
   "id": "adult-promotion",
   "metadata": {},
   "outputs": [
    {
     "data": {
      "text/plain": [
       "0.001633548699689917"
      ]
     },
     "execution_count": 54,
     "metadata": {},
     "output_type": "execute_result"
    }
   ],
   "source": [
    "# Get the variance of a stock\n",
    "mult_df['COUR'].var()"
   ]
  },
  {
   "cell_type": "code",
   "execution_count": 55,
   "id": "indirect-correspondence",
   "metadata": {},
   "outputs": [
    {
     "data": {
      "text/plain": [
       "192"
      ]
     },
     "execution_count": 55,
     "metadata": {},
     "output_type": "execute_result"
    }
   ],
   "source": [
    "# Annualize by getting the number of samples and multiply\n",
    "days = len(mult_df.index) # 253\n",
    "days"
   ]
  },
  {
   "cell_type": "code",
   "execution_count": 57,
   "id": "proud-relationship",
   "metadata": {},
   "outputs": [
    {
     "data": {
      "text/plain": [
       "0.31364135034046403"
      ]
     },
     "execution_count": 57,
     "metadata": {},
     "output_type": "execute_result"
    }
   ],
   "source": [
    "# Get original variance (annualised variance) by multipling the value by number of days\n",
    "mult_df['COUR'].var() * 192"
   ]
  },
  {
   "cell_type": "code",
   "execution_count": 58,
   "id": "recent-attention",
   "metadata": {},
   "outputs": [
    {
     "data": {
      "text/html": [
       "<div>\n",
       "<style scoped>\n",
       "    .dataframe tbody tr th:only-of-type {\n",
       "        vertical-align: middle;\n",
       "    }\n",
       "\n",
       "    .dataframe tbody tr th {\n",
       "        vertical-align: top;\n",
       "    }\n",
       "\n",
       "    .dataframe thead th {\n",
       "        text-align: right;\n",
       "    }\n",
       "</style>\n",
       "<table border=\"1\" class=\"dataframe\">\n",
       "  <thead>\n",
       "    <tr style=\"text-align: right;\">\n",
       "      <th></th>\n",
       "      <th>COUR</th>\n",
       "      <th>UDMY</th>\n",
       "    </tr>\n",
       "  </thead>\n",
       "  <tbody>\n",
       "    <tr>\n",
       "      <th>COUR</th>\n",
       "      <td>0.001634</td>\n",
       "      <td>-0.000769</td>\n",
       "    </tr>\n",
       "    <tr>\n",
       "      <th>UDMY</th>\n",
       "      <td>-0.000769</td>\n",
       "      <td>0.002108</td>\n",
       "    </tr>\n",
       "  </tbody>\n",
       "</table>\n",
       "</div>"
      ],
      "text/plain": [
       "          COUR      UDMY\n",
       "COUR  0.001634 -0.000769\n",
       "UDMY -0.000769  0.002108"
      ]
     },
     "execution_count": 58,
     "metadata": {},
     "output_type": "execute_result"
    }
   ],
   "source": [
    "# Get covariance of stocks\n",
    "# Covariance is the measure of the relationship between 2 blocks of data. \n",
    "# The covariance of a stock to itself is the variance of that variable. \n",
    "mult_df.cov() "
   ]
  },
  {
   "cell_type": "code",
   "execution_count": 59,
   "id": "going-worthy",
   "metadata": {},
   "outputs": [
    {
     "data": {
      "text/html": [
       "<div>\n",
       "<style scoped>\n",
       "    .dataframe tbody tr th:only-of-type {\n",
       "        vertical-align: middle;\n",
       "    }\n",
       "\n",
       "    .dataframe tbody tr th {\n",
       "        vertical-align: top;\n",
       "    }\n",
       "\n",
       "    .dataframe thead th {\n",
       "        text-align: right;\n",
       "    }\n",
       "</style>\n",
       "<table border=\"1\" class=\"dataframe\">\n",
       "  <thead>\n",
       "    <tr style=\"text-align: right;\">\n",
       "      <th></th>\n",
       "      <th>COUR</th>\n",
       "      <th>UDMY</th>\n",
       "    </tr>\n",
       "  </thead>\n",
       "  <tbody>\n",
       "    <tr>\n",
       "      <th>COUR</th>\n",
       "      <td>0.313641</td>\n",
       "      <td>-0.147655</td>\n",
       "    </tr>\n",
       "    <tr>\n",
       "      <th>UDMY</th>\n",
       "      <td>-0.147655</td>\n",
       "      <td>0.404731</td>\n",
       "    </tr>\n",
       "  </tbody>\n",
       "</table>\n",
       "</div>"
      ],
      "text/plain": [
       "          COUR      UDMY\n",
       "COUR  0.313641 -0.147655\n",
       "UDMY -0.147655  0.404731"
      ]
     },
     "execution_count": 59,
     "metadata": {},
     "output_type": "execute_result"
    }
   ],
   "source": [
    "mult_df.cov() * 192"
   ]
  },
  {
   "cell_type": "code",
   "execution_count": 84,
   "id": "excellent-brisbane",
   "metadata": {},
   "outputs": [],
   "source": [
    "# Why we care about risk"
   ]
  },
  {
   "cell_type": "markdown",
   "id": "accompanied-starter",
   "metadata": {},
   "source": [
    "Most investors don't handle massive flucuations in stock prices well. What we want to do at the very least is to make them aware of how dramatically their portfolios returns may be. We can then do our best to minimize risk by adding other stocks that have returns that aren't as closely correlated."
   ]
  },
  {
   "cell_type": "markdown",
   "id": "agreed-regard",
   "metadata": {},
   "source": [
    "When calculating the variance of a portfolio we must define its weight, or how much of the portfolio it makes up. If you add up the weight of all stocks you get a value of 1.\n",
    "\n",
    "𝑤1,𝑤2\n",
    "\n",
    "= Stock Weights\n",
    "\n",
    "𝜎1,𝜎2\n",
    "\n",
    "= Stock Standard Deviations\n",
    "\n",
    "Portfolio Variance = (𝑤1𝜎1+𝑤2𝜎2)2\n",
    "\n",
    "Since (𝑎+𝑏)2=𝑎2+2𝑎𝑏+𝑏2\n",
    "\n",
    "Then the Portfolio Variance = 𝑤21𝜎21+2𝑤1𝜎1𝑤2𝜎2𝜌12+𝑤22𝜎22"
   ]
  },
  {
   "cell_type": "code",
   "execution_count": 60,
   "id": "incoming-polish",
   "metadata": {},
   "outputs": [
    {
     "data": {
      "text/html": [
       "<div>\n",
       "<style scoped>\n",
       "    .dataframe tbody tr th:only-of-type {\n",
       "        vertical-align: middle;\n",
       "    }\n",
       "\n",
       "    .dataframe tbody tr th {\n",
       "        vertical-align: top;\n",
       "    }\n",
       "\n",
       "    .dataframe thead th {\n",
       "        text-align: right;\n",
       "    }\n",
       "</style>\n",
       "<table border=\"1\" class=\"dataframe\">\n",
       "  <thead>\n",
       "    <tr style=\"text-align: right;\">\n",
       "      <th></th>\n",
       "      <th>COUR</th>\n",
       "      <th>UDMY</th>\n",
       "    </tr>\n",
       "  </thead>\n",
       "  <tbody>\n",
       "    <tr>\n",
       "      <th>0</th>\n",
       "      <td>NaN</td>\n",
       "      <td>NaN</td>\n",
       "    </tr>\n",
       "    <tr>\n",
       "      <th>1</th>\n",
       "      <td>0.017333</td>\n",
       "      <td>0.062545</td>\n",
       "    </tr>\n",
       "    <tr>\n",
       "      <th>2</th>\n",
       "      <td>0.083661</td>\n",
       "      <td>0.008214</td>\n",
       "    </tr>\n",
       "    <tr>\n",
       "      <th>3</th>\n",
       "      <td>0.133441</td>\n",
       "      <td>-0.029192</td>\n",
       "    </tr>\n",
       "    <tr>\n",
       "      <th>4</th>\n",
       "      <td>0.031478</td>\n",
       "      <td>-0.042657</td>\n",
       "    </tr>\n",
       "    <tr>\n",
       "      <th>...</th>\n",
       "      <td>...</td>\n",
       "      <td>...</td>\n",
       "    </tr>\n",
       "    <tr>\n",
       "      <th>187</th>\n",
       "      <td>0.001993</td>\n",
       "      <td>NaN</td>\n",
       "    </tr>\n",
       "    <tr>\n",
       "      <th>188</th>\n",
       "      <td>-0.011535</td>\n",
       "      <td>NaN</td>\n",
       "    </tr>\n",
       "    <tr>\n",
       "      <th>189</th>\n",
       "      <td>-0.027364</td>\n",
       "      <td>NaN</td>\n",
       "    </tr>\n",
       "    <tr>\n",
       "      <th>190</th>\n",
       "      <td>0.013653</td>\n",
       "      <td>NaN</td>\n",
       "    </tr>\n",
       "    <tr>\n",
       "      <th>191</th>\n",
       "      <td>-0.002449</td>\n",
       "      <td>NaN</td>\n",
       "    </tr>\n",
       "  </tbody>\n",
       "</table>\n",
       "<p>192 rows × 2 columns</p>\n",
       "</div>"
      ],
      "text/plain": [
       "         COUR      UDMY\n",
       "0         NaN       NaN\n",
       "1    0.017333  0.062545\n",
       "2    0.083661  0.008214\n",
       "3    0.133441 -0.029192\n",
       "4    0.031478 -0.042657\n",
       "..        ...       ...\n",
       "187  0.001993       NaN\n",
       "188 -0.011535       NaN\n",
       "189 -0.027364       NaN\n",
       "190  0.013653       NaN\n",
       "191 -0.002449       NaN\n",
       "\n",
       "[192 rows x 2 columns]"
      ]
     },
     "execution_count": 60,
     "metadata": {},
     "output_type": "execute_result"
    }
   ],
   "source": [
    "# Let's create a portfolio made up of Facebook & Newmont Corporation\n",
    "port_list = [\"COUR\", \"UDMY\"]\n",
    "port_df = merge_df_by_column_name_2('daily_return',  '2021-01-01', '2022-01-01', *port_list)\n",
    "port_df\n"
   ]
  },
  {
   "cell_type": "code",
   "execution_count": 61,
   "id": "entitled-tension",
   "metadata": {},
   "outputs": [
    {
     "data": {
      "text/html": [
       "<div>\n",
       "<style scoped>\n",
       "    .dataframe tbody tr th:only-of-type {\n",
       "        vertical-align: middle;\n",
       "    }\n",
       "\n",
       "    .dataframe tbody tr th {\n",
       "        vertical-align: top;\n",
       "    }\n",
       "\n",
       "    .dataframe thead th {\n",
       "        text-align: right;\n",
       "    }\n",
       "</style>\n",
       "<table border=\"1\" class=\"dataframe\">\n",
       "  <thead>\n",
       "    <tr style=\"text-align: right;\">\n",
       "      <th></th>\n",
       "      <th>COUR</th>\n",
       "      <th>UDMY</th>\n",
       "    </tr>\n",
       "  </thead>\n",
       "  <tbody>\n",
       "    <tr>\n",
       "      <th>COUR</th>\n",
       "      <td>1.000000</td>\n",
       "      <td>-0.300024</td>\n",
       "    </tr>\n",
       "    <tr>\n",
       "      <th>UDMY</th>\n",
       "      <td>-0.300024</td>\n",
       "      <td>1.000000</td>\n",
       "    </tr>\n",
       "  </tbody>\n",
       "</table>\n",
       "</div>"
      ],
      "text/plain": [
       "          COUR      UDMY\n",
       "COUR  1.000000 -0.300024\n",
       "UDMY -0.300024  1.000000"
      ]
     },
     "execution_count": 61,
     "metadata": {},
     "output_type": "execute_result"
    }
   ],
   "source": [
    "# Generate a Correlation Matrix to see that they are not correlated\n",
    "port_df.corr()\n"
   ]
  },
  {
   "cell_type": "code",
   "execution_count": null,
   "id": "recreational-toilet",
   "metadata": {},
   "outputs": [],
   "source": [
    "# They are not correlated"
   ]
  },
  {
   "cell_type": "code",
   "execution_count": null,
   "id": "organizational-class",
   "metadata": {},
   "outputs": [],
   "source": []
  },
  {
   "cell_type": "code",
   "execution_count": null,
   "id": "native-banking",
   "metadata": {},
   "outputs": [],
   "source": []
  },
  {
   "cell_type": "code",
   "execution_count": null,
   "id": "crazy-damage",
   "metadata": {},
   "outputs": [],
   "source": []
  }
 ],
 "metadata": {
  "kernelspec": {
   "display_name": "Python 3",
   "language": "python",
   "name": "python3"
  },
  "language_info": {
   "codemirror_mode": {
    "name": "ipython",
    "version": 3
   },
   "file_extension": ".py",
   "mimetype": "text/x-python",
   "name": "python",
   "nbconvert_exporter": "python",
   "pygments_lexer": "ipython3",
   "version": "3.8.8"
  }
 },
 "nbformat": 4,
 "nbformat_minor": 5
}
